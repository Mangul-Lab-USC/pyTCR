{
 "cells": [
  {
   "cell_type": "markdown",
   "metadata": {
    "id": "_SDGTRFqEw34"
   },
   "source": [
    "Step 1 - Import the required python libraries"
   ]
  },
  {
   "cell_type": "code",
   "execution_count": null,
   "metadata": {
    "colab": {
     "base_uri": "https://localhost:8080/"
    },
    "executionInfo": {
     "elapsed": 1261,
     "status": "ok",
     "timestamp": 1611884335413,
     "user": {
      "displayName": "Kerui Peng",
      "photoUrl": "https://lh3.googleusercontent.com/a-/AOh14GhCFbNNQavDfyVFYGThBoWptUPcEdIkBKjW1JK6=s64",
      "userId": "00454648627764987552"
     },
     "user_tz": 480
    },
    "id": "6Ny67ILNh_2W",
    "outputId": "d8495349-dbea-4d37-fb68-492c8747f993"
   },
   "outputs": [],
   "source": [
    "from IPython import get_ipython\n",
    "import matplotlib.pyplot as plt\n",
    "import pandas as pd\n",
    "import seaborn as sns\n",
    "from scipy import stats\n",
    "\n",
    "pd.options.mode.chained_assignment = None"
   ]
  },
  {
   "cell_type": "markdown",
   "metadata": {
    "id": "slARZUjEoWyY"
   },
   "source": [
    "Step 2 - Load and read your data file\n",
    "- pyTCR accepts a single `.tsv` file that should contain all the samples.\n",
    "  - The following cell attempts to detect whether you are running the notebook in a Google Colab cloud environment or in a local environment, and then loads the data at the specified path.\n",
    "- The `filePath` variable in the following code cell should be changed to the location of your file. The following options are supported:\n",
    "  1. A `filePath` from Google Drive (to run on a cloud environment)\n",
    "  2. A `filePath` from your local computer (to run on a local environment)"
   ]
  },
  {
   "cell_type": "code",
   "execution_count": null,
   "metadata": {
    "colab": {
     "base_uri": "https://localhost:8080/"
    },
    "executionInfo": {
     "elapsed": 475,
     "status": "ok",
     "timestamp": 1611884339400,
     "user": {
      "displayName": "Kerui Peng",
      "photoUrl": "https://lh3.googleusercontent.com/a-/AOh14GhCFbNNQavDfyVFYGThBoWptUPcEdIkBKjW1JK6=s64",
      "userId": "00454648627764987552"
     },
     "user_tz": 480
    },
    "id": "7Sh1ChXBiYsi",
    "outputId": "3e097bff-e2c5-4bcb-873e-877942aa0558"
   },
   "outputs": [],
   "source": [
    "# Specify the path to your data in Google Drive or locally\n",
    "filePath = \"./complete_COVID_SAMPLES.tsv.tsv\" # \"/content/drive/MyDrive/complete_COVID_samples.tsv\"\n",
    "\n",
    "isInGoogle = 'google.colab' in str(get_ipython())\n",
    "\n",
    "if isInGoogle:\n",
    "    from google.colab import drive\n",
    "    drive.mount('/content/drive')\n",
    "\n",
    "df = pd.read_table(filePath, low_memory=False, engine=\"c\")\n",
    "\n",
    "optional_fields = ['hospitalized']\n",
    "\n",
    "df.head()\n"
   ]
  },
  {
   "cell_type": "markdown",
   "metadata": {
    "id": "nn8S6r1alaeT"
   },
   "source": [
    "Basic analysis 1 - Reads count"
   ]
  },
  {
   "cell_type": "code",
   "execution_count": null,
   "metadata": {
    "id": "S4avhaf0lXhB"
   },
   "outputs": [],
   "source": [
    "df_count = df.groupby(['sample'] + optional_fields).agg(\n",
    "    {'#count': 'sum'}).reset_index().rename(columns={'#count': \"reads_count\"})\n",
    "\n",
    "df_count"
   ]
  },
  {
   "cell_type": "markdown",
   "metadata": {
    "id": "Y_lMtGpmlf6D"
   },
   "source": [
    "Basic analysis 2 - Clonotype count"
   ]
  },
  {
   "cell_type": "code",
   "execution_count": null,
   "metadata": {
    "id": "gzuXLx7llfWv"
   },
   "outputs": [],
   "source": [
    "df_diversity = df.groupby(['sample'] + optional_fields,\n",
    "                          sort=False).size().reset_index(name='clonotype_count')\n"
   ]
  },
  {
   "cell_type": "markdown",
   "metadata": {
    "id": "OMFp8fAEllby"
   },
   "source": [
    "Basic analysis 3 - Mean frequency"
   ]
  },
  {
   "cell_type": "code",
   "execution_count": null,
   "metadata": {
    "id": "5NABUAL1lmtl"
   },
   "outputs": [],
   "source": [
    "df_mean_frequency = df.groupby(['sample'] + optional_fields).agg(\n",
    "    {'freq': 'mean'}).reset_index().rename(columns={'freq': \"mean_frequency\"})\n"
   ]
  },
  {
   "cell_type": "markdown",
   "metadata": {
    "id": "LdLwAnwmlpaH"
   },
   "source": [
    "Basic analysis 4 - Geometric mean of clonotype frequency"
   ]
  },
  {
   "cell_type": "code",
   "execution_count": null,
   "metadata": {
    "id": "SHODlDFaluHx"
   },
   "outputs": [],
   "source": [
    "from scipy.stats.mstats import gmean\n",
    "\n",
    "samples = df['sample'].unique()\n",
    "\n",
    "# create an empty dataframe for storing results\n",
    "df_geomean_frequency = pd.DataFrame(columns=['sample', 'geomean_frequency'])\n",
    "\n",
    "for sample in samples:\n",
    "    tmp = df[df['sample'] == sample]\n",
    "    geomean_frequency = gmean(tmp['freq'])\n",
    "\n",
    "    # store the results\n",
    "    df_data = pd.DataFrame({'sample': sample, 'geomean_frequency': geomean_frequency}, index=[0])\n",
    "    df_geomean_frequency = pd.concat([df_geomean_frequency, df_data], copy=False, ignore_index=True)\n",
    "\n",
    "df_geomean_frequency\n"
   ]
  },
  {
   "cell_type": "markdown",
   "metadata": {
    "id": "ZXWqVleAlyEl"
   },
   "source": [
    "Basic analysis 5 - Mean length of CDR3 nucleotide sequence"
   ]
  },
  {
   "cell_type": "code",
   "execution_count": null,
   "metadata": {
    "colab": {
     "base_uri": "https://localhost:8080/"
    },
    "executionInfo": {
     "elapsed": 6797,
     "status": "ok",
     "timestamp": 1611887919934,
     "user": {
      "displayName": "Kerui Peng",
      "photoUrl": "https://lh3.googleusercontent.com/a-/AOh14GhCFbNNQavDfyVFYGThBoWptUPcEdIkBKjW1JK6=s64",
      "userId": "00454648627764987552"
     },
     "user_tz": 480
    },
    "id": "lKVw3Fapl08J",
    "outputId": "f3a9b083-f756-4692-9af7-9abd2ce25bd1"
   },
   "outputs": [],
   "source": [
    "df['length_weighted'] = df['cdr3nt'].str.len()*df['freq']\n",
    "df_mean_cdr3nt_length = df.groupby(['sample'] + optional_fields).agg(\n",
    "    {'length_weighted': 'sum'}).reset_index().rename(columns={'length_weighted': \"mean_cdr3nt_length\"})\n",
    "\n",
    "df_mean_cdr3nt_length"
   ]
  },
  {
   "cell_type": "markdown",
   "metadata": {
    "id": "-ay8V7lPl3D3"
   },
   "source": [
    "Basic analysis 6 - Convergence"
   ]
  },
  {
   "cell_type": "code",
   "execution_count": null,
   "metadata": {
    "id": "8Auvp2sjl5U4"
   },
   "outputs": [],
   "source": [
    "# count unique CDR3\n",
    "df_unique_CDR3 = df.groupby(['cdr3aa', 'sample'] + optional_fields, as_index=False)[\n",
    "    'cdr3nt'].agg({'count': 'count'})\n",
    "\n",
    "# calculate the mean of the unique CDR3 count in each sample\n",
    "df_unique_CDR3_mean = df_unique_CDR3.groupby(['sample'] + optional_fields).agg(\n",
    "    {'count': 'mean'}).reset_index().rename(columns={'count': \"convergence\"})\n"
   ]
  },
  {
   "cell_type": "markdown",
   "metadata": {
    "id": "afalgVOorZHy"
   },
   "source": [
    "Basic analysis 7.1 - Spectratype"
   ]
  },
  {
   "cell_type": "code",
   "execution_count": null,
   "metadata": {
    "colab": {
     "base_uri": "https://localhost:8080/",
     "height": 1000
    },
    "executionInfo": {
     "elapsed": 6884,
     "status": "ok",
     "timestamp": 1611887990788,
     "user": {
      "displayName": "Kerui Peng",
      "photoUrl": "https://lh3.googleusercontent.com/a-/AOh14GhCFbNNQavDfyVFYGThBoWptUPcEdIkBKjW1JK6=s64",
      "userId": "00454648627764987552"
     },
     "user_tz": 480
    },
    "id": "-ueujuB2rbOS",
    "outputId": "b0c28c7a-8ace-489c-8088-4e9f7064d524"
   },
   "outputs": [],
   "source": [
    "# CDR3 nucleotide length\n",
    "df['nt_length'] = df['cdr3nt'].str.len()\n",
    "\n",
    "# calculates spectratype\n",
    "df_spectratype = df.groupby(['sample', 'nt_length'] + optional_fields).agg(\n",
    "    {'freq': 'sum'}).reset_index().rename(columns={'freq': \"spectratype\"})\n",
    "df_spectratype\n"
   ]
  },
  {
   "cell_type": "markdown",
   "metadata": {
    "id": "izQg3pZCLXXL"
   },
   "source": [
    "Basic analysis 7.2 - Spectratype bar plot for an individual sample\n",
    "\n",
    "1.   Define the sample that you would like to plot, replace the \"1132289BW_TCRB\t\" with the sample name of interest\n",
    "2.   x-axis and y-axis labels, figsize, fontsize are customizable "
   ]
  },
  {
   "cell_type": "code",
   "execution_count": null,
   "metadata": {
    "id": "wM6Ovht1O8N-"
   },
   "outputs": [],
   "source": [
    "sample_name = \"\"\n",
    "\n",
    "df_sample = df_spectratype.loc[df_spectratype['sample'] == sample_name]\n"
   ]
  },
  {
   "cell_type": "code",
   "execution_count": null,
   "metadata": {
    "colab": {
     "base_uri": "https://localhost:8080/",
     "height": 650
    },
    "executionInfo": {
     "elapsed": 809,
     "status": "ok",
     "timestamp": 1611888002266,
     "user": {
      "displayName": "Kerui Peng",
      "photoUrl": "https://lh3.googleusercontent.com/a-/AOh14GhCFbNNQavDfyVFYGThBoWptUPcEdIkBKjW1JK6=s64",
      "userId": "00454648627764987552"
     },
     "user_tz": 480
    },
    "id": "u1P8jkU2QK2_",
    "outputId": "92e449c5-4bd0-47a4-da43-8b0fcb48ee15"
   },
   "outputs": [],
   "source": [
    "ax = plt.subplots(figsize=(10, 10))\n",
    "ax = sns.barplot(data=df_sample, x='nt_length', y='spectratype')\n",
    "ax.set_xlabel('nt_length', fontsize=20)\n",
    "ax.set_ylabel('frequency', fontsize=20)\n",
    "plt.xticks(fontsize=10)\n",
    "plt.yticks(fontsize=20)\n"
   ]
  },
  {
   "cell_type": "markdown",
   "metadata": {
    "id": "noSudrsx65ip"
   },
   "source": [
    "Basic analysis 7.1 Summary table for basic analysis"
   ]
  },
  {
   "cell_type": "code",
   "execution_count": null,
   "metadata": {
    "colab": {
     "base_uri": "https://localhost:8080/",
     "height": 1000
    },
    "executionInfo": {
     "elapsed": 373,
     "status": "ok",
     "timestamp": 1611888005616,
     "user": {
      "displayName": "Kerui Peng",
      "photoUrl": "https://lh3.googleusercontent.com/a-/AOh14GhCFbNNQavDfyVFYGThBoWptUPcEdIkBKjW1JK6=s64",
      "userId": "00454648627764987552"
     },
     "user_tz": 480
    },
    "id": "NDG2iD4j69JX",
    "outputId": "422b783b-66cc-4d37-bbda-d6dc5a6cae8b"
   },
   "outputs": [],
   "source": [
    "# merge df_count and df_geomean_frequency first\n",
    "df_geomean_frequency = df_geomean_frequency.merge(\n",
    "    df_count, on='sample', how='left')\n",
    "\n",
    "# create a dataframe that combines all the basic analysis (except for spectratype)\n",
    "dfs = [df_diversity, df_mean_frequency, df_geomean_frequency,\n",
    "       df_mean_cdr3nt_length, df_unique_CDR3_mean]\n",
    "\n",
    "df_combined = pd.merge(dfs[0], dfs[1], left_on=['sample', 'hospitalization'], right_on=[\n",
    "                       'sample', 'hospitalization'], how='outer')\n",
    "for d in dfs[2:]:\n",
    "    df_combined = pd.merge(df_combined, d, left_on=['sample', 'hospitalization'], right_on=[\n",
    "                           'sample', 'hospitalization'], how='outer')\n",
    "\n",
    "df_combined\n"
   ]
  },
  {
   "cell_type": "markdown",
   "metadata": {
    "id": "T59Bb7tX3Cws"
   },
   "source": [
    "Basic analysis 7.2 - Statistical analysis of mean frequency"
   ]
  },
  {
   "cell_type": "markdown",
   "metadata": {
    "id": "FI5IUCcB3U_w"
   },
   "source": [
    "Basic analysis 7.2.1 - Test if the metric is normally distributed\n",
    "1.   the null hypothesis here is normality\n",
    "2.   if the p value is greater than 0.05, we cannot reject the null hypothesis (it is a normal distribution). If the p value is smaller than 0.05, we reject the null hypothesis (it is not a normal distribution)\n",
    "3.   change 'clonotype_count' to other metrics that you are interested in\n",
    "\n"
   ]
  },
  {
   "cell_type": "code",
   "execution_count": null,
   "metadata": {
    "colab": {
     "base_uri": "https://localhost:8080/"
    },
    "executionInfo": {
     "elapsed": 378,
     "status": "ok",
     "timestamp": 1611888060947,
     "user": {
      "displayName": "Kerui Peng",
      "photoUrl": "https://lh3.googleusercontent.com/a-/AOh14GhCFbNNQavDfyVFYGThBoWptUPcEdIkBKjW1JK6=s64",
      "userId": "00454648627764987552"
     },
     "user_tz": 480
    },
    "id": "wiPIddcy3gMn",
    "outputId": "ba66a2d3-595b-45ba-a73a-7ab9ec8014c5"
   },
   "outputs": [],
   "source": [
    "x = stats.normaltest(df_combined['clonotype_count'])\n",
    "x\n"
   ]
  },
  {
   "cell_type": "markdown",
   "metadata": {
    "id": "nNMeHRFL3mAi"
   },
   "source": [
    "Basic analysis 7.2.2 - Mean or median of diversity metrics among groups\n",
    "1.   if the dataset is normally distributed, calculate mean\n",
    "2.   if the dataset is not normally distributed, calculate median\n",
    "3.   change 'clonotype_count' to other metrics that you are interested in\n"
   ]
  },
  {
   "cell_type": "code",
   "execution_count": null,
   "metadata": {
    "colab": {
     "base_uri": "https://localhost:8080/",
     "height": 111
    },
    "executionInfo": {
     "elapsed": 685,
     "status": "ok",
     "timestamp": 1611888087187,
     "user": {
      "displayName": "Kerui Peng",
      "photoUrl": "https://lh3.googleusercontent.com/a-/AOh14GhCFbNNQavDfyVFYGThBoWptUPcEdIkBKjW1JK6=s64",
      "userId": "00454648627764987552"
     },
     "user_tz": 480
    },
    "id": "3gHS0ZBH-_tc",
    "outputId": "1e6f5762-621b-4729-8c87-1026f1742676"
   },
   "outputs": [],
   "source": [
    "# calculate the mean among two groups\n",
    "df_metric_mean = df_combined.groupby('hospitalization')[\n",
    "    'clonotype_count'].mean().reset_index()\n",
    "df_metric_mean\n"
   ]
  },
  {
   "cell_type": "code",
   "execution_count": null,
   "metadata": {
    "id": "j1gPq7cX3tzK"
   },
   "outputs": [],
   "source": [
    "# calculate the median among two groups\n",
    "df_metric_median = df_combined.groupby('hospitalization')[\n",
    "    'clonotype_count'].median().reset_index()\n",
    "df_metric_median\n"
   ]
  },
  {
   "cell_type": "markdown",
   "metadata": {
    "id": "efXcSaid38-G"
   },
   "source": [
    "Basic analysis 7.2.3 - Stat test\n",
    "1.   if the dataset is normally distributed, use t-test (stats.ttest_ind)\n",
    "*   change the group1, group2 to the groups/samples that you are interested in\n",
    "2.   if the dataset is not normally distributed, use Wilcoxon rank-sum test (stats.ranksums)\n",
    "*   change the group1, group2 to the groups/samples that you are interested in\n",
    "3.  change 'clonotype_count' to other metrics that you are interested in"
   ]
  },
  {
   "cell_type": "code",
   "execution_count": null,
   "metadata": {
    "colab": {
     "base_uri": "https://localhost:8080/"
    },
    "executionInfo": {
     "elapsed": 333,
     "status": "ok",
     "timestamp": 1611888141568,
     "user": {
      "displayName": "Kerui Peng",
      "photoUrl": "https://lh3.googleusercontent.com/a-/AOh14GhCFbNNQavDfyVFYGThBoWptUPcEdIkBKjW1JK6=s64",
      "userId": "00454648627764987552"
     },
     "user_tz": 480
    },
    "id": "AWNRzJ4B38fx",
    "outputId": "16fc5f2f-35d0-43a0-bb35-64c268f26df0"
   },
   "outputs": [],
   "source": [
    "df1 = df_combined.copy()\n",
    "df_group1 = df1[df1['hospitalization'] == True]\n",
    "df_group2 = df1[df1['hospitalization'] == False]\n",
    "stats.ttest_ind(df_group1['clonotype_count'], df_group2['clonotype_count'])\n"
   ]
  },
  {
   "cell_type": "markdown",
   "metadata": {
    "id": "junq9dGHJHhe"
   },
   "source": [
    "Basic analysis 7.3.1 - Bar plot on metric per sample\n",
    "1.   x-axis and y-axis labels, figsize, fontsize are customizable\n",
    "2.   change 'clonotype_count' to other metrics that you are interested in"
   ]
  },
  {
   "cell_type": "code",
   "execution_count": null,
   "metadata": {
    "colab": {
     "base_uri": "https://localhost:8080/",
     "height": 731
    },
    "executionInfo": {
     "elapsed": 1527,
     "status": "ok",
     "timestamp": 1611888228261,
     "user": {
      "displayName": "Kerui Peng",
      "photoUrl": "https://lh3.googleusercontent.com/a-/AOh14GhCFbNNQavDfyVFYGThBoWptUPcEdIkBKjW1JK6=s64",
      "userId": "00454648627764987552"
     },
     "user_tz": 480
    },
    "id": "jLIID4KClbd4",
    "outputId": "243bc359-d125-4484-9851-854e1b4aa608"
   },
   "outputs": [],
   "source": [
    "ax = plt.subplots(figsize=(10, 10))\n",
    "ax = sns.barplot(data=df_combined, x='sample',\n",
    "                 y='clonotype_count', hue='hospitalization')\n",
    "ax.set_xlabel('sample', fontsize=20)\n",
    "ax.set_ylabel('number of clonotypes', fontsize=20)\n",
    "plt.xticks(fontsize=10, rotation=90)\n",
    "plt.yticks(fontsize=20)\n"
   ]
  },
  {
   "cell_type": "markdown",
   "metadata": {
    "id": "iqqkBJm98ywW"
   },
   "source": [
    "Basic analysis 2.4 - Clonotype count violin plot per group\n",
    "1.   x-axis and y-axis labels, figsize, fontsize are customizable  \n",
    "2.   change the violin plot (sns.violinplot) to the plot type that you are interested in, includes strip plot (sns.stripplot), swarm plot (sns.swarmplot), box plot (sns.boxplot), boxen plot (sns.boxenplot), point plot (sns.pointplot), and bar plot (sns.barplot)\n",
    "3.   change 'clonotype_count' to other metrics that you are interested in"
   ]
  },
  {
   "cell_type": "code",
   "execution_count": null,
   "metadata": {
    "colab": {
     "base_uri": "https://localhost:8080/",
     "height": 624
    },
    "executionInfo": {
     "elapsed": 656,
     "status": "ok",
     "timestamp": 1611888248080,
     "user": {
      "displayName": "Kerui Peng",
      "photoUrl": "https://lh3.googleusercontent.com/a-/AOh14GhCFbNNQavDfyVFYGThBoWptUPcEdIkBKjW1JK6=s64",
      "userId": "00454648627764987552"
     },
     "user_tz": 480
    },
    "id": "GJBJIyMC7vqZ",
    "outputId": "bb898480-c379-41e2-8c9b-1fd2aff38db8"
   },
   "outputs": [],
   "source": [
    "ax = plt.subplots(figsize=(10, 10))\n",
    "\n",
    "ax = sns.violinplot(x='hospitalization', y='clonotype_count', data=df_combined)\n",
    "\n",
    "ax.set_xlabel('hospitalization', fontsize=20)\n",
    "ax.set_ylabel('number of clonotypes', fontsize=20)\n",
    "plt.xticks(fontsize=20)\n",
    "plt.yticks(fontsize=20)\n",
    "\n",
    "plt.show()\n"
   ]
  }
 ],
 "metadata": {
  "accelerator": "GPU",
  "colab": {
   "authorship_tag": "ABX9TyNkbqjYcuNxws8F+bm0hG/t",
   "name": "Basic analysis_COVID.ipynb",
   "provenance": []
  },
  "kernelspec": {
   "display_name": "Python 3",
   "language": "python",
   "name": "python3"
  },
  "language_info": {
   "codemirror_mode": {
    "name": "ipython",
    "version": 3
   },
   "file_extension": ".py",
   "mimetype": "text/x-python",
   "name": "python",
   "nbconvert_exporter": "python",
   "pygments_lexer": "ipython3",
   "version": "3.9.10"
  }
 },
 "nbformat": 4,
 "nbformat_minor": 1
}

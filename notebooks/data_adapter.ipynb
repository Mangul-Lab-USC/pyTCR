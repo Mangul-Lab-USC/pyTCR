{
 "cells": [
  {
   "cell_type": "markdown",
   "metadata": {
    "id": "42PQI9B2tGfH"
   },
   "source": [
    "Step 1 - Import python libraries"
   ]
  },
  {
   "cell_type": "code",
   "execution_count": null,
   "metadata": {
    "colab": {
     "base_uri": "https://localhost:8080/"
    },
    "executionInfo": {
     "elapsed": 9587,
     "status": "ok",
     "timestamp": 1662489849258,
     "user": {
      "displayName": "Kerui Peng",
      "userId": "00454648627764987552"
     },
     "user_tz": 420
    },
    "id": "QLXhIQ5GsS70",
    "outputId": "c0bee672-a8ff-447f-c184-12413c271178"
   },
   "outputs": [],
   "source": [
    "%pip install IPython\n",
    "%pip install pandas\n",
    "\n",
    "from IPython import get_ipython\n",
    "import pandas as pd\n",
    "import glob \n",
    "import os "
   ]
  },
  {
   "cell_type": "markdown",
   "metadata": {
    "id": "CUijt_RQ87xY"
   },
   "source": [
    "Step 2 - Load and read your data file (Note that you will need to run step 2 and step 3 for all the sample files in order to convert them to pyTCR standardized format)"
   ]
  },
  {
   "cell_type": "code",
   "execution_count": null,
   "metadata": {
    "colab": {
     "base_uri": "https://localhost:8080/"
    },
    "executionInfo": {
     "elapsed": 26564,
     "status": "ok",
     "timestamp": 1662506766384,
     "user": {
      "displayName": "Mohammad Vahed",
      "userId": "04441662572987258953"
     },
     "user_tz": 420
    },
    "id": "ckHec6SC_OZD",
    "outputId": "5dd8e95a-b7b9-4f5b-e3bd-6363b9f0dfe6"
   },
   "outputs": [],
   "source": [
    "# Mount Google Drive\n",
    "isInGoogle = 'google.colab' in str(get_ipython())\n",
    "\n",
    "if isInGoogle:\n",
    "    from google.colab import drive\n",
    "    drive.mount('/content/drive')"
   ]
  },
  {
   "cell_type": "markdown",
   "metadata": {
    "id": "LhjlDpelFUub"
   },
   "source": [
    "The `filePath` variable in the following code cell should be changed to the location of your file. The following options are supported:\n",
    "1. A `filePath` from Google Drive (to run on a cloud environment)\n",
    "2. A `filePath` from your local computer (to run on a local environment, other cloud environments should work as expected)"
   ]
  },
  {
   "cell_type": "code",
   "execution_count": null,
   "metadata": {
    "colab": {
     "base_uri": "https://localhost:8080/",
     "height": 240
    },
    "executionInfo": {
     "elapsed": 307,
     "status": "error",
     "timestamp": 1662506771355,
     "user": {
      "displayName": "Mohammad Vahed",
      "userId": "04441662572987258953"
     },
     "user_tz": 420
    },
    "id": "io1o7l_kBS5v",
    "outputId": "a4433fbb-114a-42c8-c64a-683dd21b9fc9"
   },
   "outputs": [],
   "source": [
    "# Specify the path to your file in Google Drive or locally\n",
    "filePath = \"/content/sample_file\"\n",
    "\n",
    "targetFilename = os.path.basename(filePath)\n",
    "\n",
    "df_samples = pd.read_table(filePath, low_memory=False, engine=\"c\")\n",
    "\n",
    "df_samples.head()"
   ]
  },
  {
   "cell_type": "markdown",
   "metadata": {
    "id": "fztvA25L5clX"
   },
   "source": [
    "Step 3 - Convert data to the pyTCR standardized format:\n",
    "| column | name | description                                    |\n",
    "|--:|:---------|:------------------------------------------------|\n",
    "| 1   | `sample`  | The name of the sample                       |\n",
    "| 2   | `freq`    | The share of clonotypes in the sample        |\n",
    "| 3   | `#count`  | The number of reads                          |\n",
    "| 4   | `cdr3aa`  | CDR3 amino acid clonotype                    |\n",
    "| 5   | `cdr3nt`  | CDR3 nucleotide                              |\n",
    "| 6   | `v`       | V gene                                       |\n",
    "| 7   | `d`       | D gene                                       |\n",
    "| 8   | `j`       | J gene                                       |\n",
    "| ... | optional fields | any other fields intended for your use |\n",
    "\n",
    "- Modify the `required_columns` below to match the column names from your data that are equivalent to pyTCR's columns in the same order as described above\n",
    "- The following code will create a new `.csv` file with with the correct pyTCR column names and place it in the current directory\n",
    "- Remove `optional_columns` from the cell if your data doesn't have one"
   ]
  },
  {
   "cell_type": "code",
   "execution_count": null,
   "metadata": {
    "colab": {
     "base_uri": "https://localhost:8080/"
    },
    "executionInfo": {
     "elapsed": 4,
     "status": "ok",
     "timestamp": 1662490187291,
     "user": {
      "displayName": "Kerui Peng",
      "userId": "00454648627764987552"
     },
     "user_tz": 420
    },
    "id": "dhJHyQCZIk1V",
    "outputId": "89bd559a-d5b4-4a20-db5d-2b47a5de87a1"
   },
   "outputs": [],
   "source": [
    "# If you have MiXCR results, please run the code cell below\n",
    "df_samples['allVHitsWithScore']=df_samples['allVHitsWithScore'].str.replace(r\"\\(.*\\)\",\"\")\n",
    "df_samples['allDHitsWithScore']=df_samples['allDHitsWithScore'].str.replace(r\"\\(.*\\)\",\"\")\n",
    "df_samples['allJHitsWithScore']=df_samples['allJHitsWithScore'].str.replace(r\"\\(.*\\)\",\"\")"
   ]
  },
  {
   "cell_type": "code",
   "execution_count": null,
   "metadata": {
    "id": "_7NFFVRr5clY"
   },
   "outputs": [],
   "source": [
    "# Enter the column names from your data that represent the required pyTCR columns\n",
    "required_columns = [\n",
    "'sample_name','frequency', 'templates',\n",
    "'amino_acid', 'rearrangement', 'v_resolved' , 'd_resolved', 'j_resolved'\n",
    "]\n",
    "\n",
    "optional_columns = ['hospitalized']\n",
    "\n",
    "df_new = df_samples.filter(required_columns + optional_columns)\n",
    "\n",
    "# Rename the columns to pyTCR standard names\n",
    "df_new.columns = [\n",
    "'sample','freq', '#count', 'cdr3aa',\n",
    "'cdr3nt', 'v', 'd', 'j'] + optional_columns\n",
    "\n",
    "df_new.to_csv(f'./{targetFilename}.csv', na_rep='.', index=False)"
   ]
  },
  {
   "cell_type": "markdown",
   "metadata": {
    "id": "URKl5bviCTvh"
   },
   "source": [
    "Step 4 - Combine all sample files"
   ]
  },
  {
   "cell_type": "markdown",
   "metadata": {
    "id": "T_lkFgQtOwHO"
   },
   "source": [
    "Add a new column `sample` to each `.csv` file in the current directory with the filename as the value\n",
    "- This is useful for converting data in other formats that do not contain a column with a sample name"
   ]
  },
  {
   "cell_type": "code",
   "execution_count": null,
   "metadata": {
    "colab": {
     "base_uri": "https://localhost:8080/",
     "height": 499
    },
    "executionInfo": {
     "elapsed": 391,
     "status": "ok",
     "timestamp": 1662490281766,
     "user": {
      "displayName": "Kerui Peng",
      "userId": "00454648627764987552"
     },
     "user_tz": 420
    },
    "id": "kW4YHLxNOveK",
    "outputId": "bfc3222b-555b-4945-c7d5-ed38349c6d5f"
   },
   "outputs": [],
   "source": [
    "globbed_files = glob.glob(\"*.csv\")\n",
    "\n",
    "data = []\n",
    "\n",
    "for csv in globbed_files:\n",
    "    dataframe = pd.read_csv(csv)\n",
    "    dataframe['sample'] = os.path.basename(csv.split('.')[0])\n",
    "    data.append(dataframe)\n",
    "\n",
    "combined_data = pd.concat(data)\n",
    "combined_data.to_csv(\"combined_data.csv\", index=False)\n",
    "\n",
    "df=pd.read_csv(\"combined_data.csv\", index_col=[0])\n",
    "\n",
    "df"
   ]
  },
  {
   "cell_type": "markdown",
   "metadata": {
    "id": "9sYnceI15cla"
   },
   "source": [
    "Convert .csv file to .tsv file"
   ]
  },
  {
   "cell_type": "code",
   "execution_count": null,
   "metadata": {
    "id": "j18JTi_E5clb"
   },
   "outputs": [],
   "source": [
    "targetFileExtension = 'tsv'\n",
    "\n",
    "df = pd.read_csv(\"/content/combined_data.csv\", low_memory=False, engine=\"c\")\n",
    "\n",
    "file = \"/content/combined_data.csv\".split('.')[0]\n",
    "\n",
    "newFile = f'{file}.{targetFileExtension}'\n",
    "\n",
    "# Save new file to current directory\n",
    "df.to_csv(newFile, sep='\\t', na_rep='.', index=False)"
   ]
  }
 ],
 "metadata": {
  "colab": {
   "collapsed_sections": [],
   "provenance": [
    {
     "file_id": "1opfGgbw3YigAUVSlVlomAaErdD7htww2",
     "timestamp": 1662489735768
    }
   ]
  },
  "kernelspec": {
   "display_name": "Python 3 (ipykernel)",
   "language": "python",
   "name": "python3"
  },
  "language_info": {
   "codemirror_mode": {
    "name": "ipython",
    "version": 3
   },
   "file_extension": ".py",
   "mimetype": "text/x-python",
   "name": "python",
   "nbconvert_exporter": "python",
   "pygments_lexer": "ipython3",
   "version": "3.7.4"
  }
 },
 "nbformat": 4,
 "nbformat_minor": 1
}

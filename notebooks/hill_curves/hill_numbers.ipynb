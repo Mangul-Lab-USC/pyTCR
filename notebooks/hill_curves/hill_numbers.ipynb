{
 "cells": [
  {
   "cell_type": "code",
   "execution_count": null,
   "metadata": {},
   "outputs": [],
   "source": [
    "import pandas as pd\n",
    "import numpy as np"
   ]
  },
  {
   "cell_type": "code",
   "execution_count": null,
   "metadata": {},
   "outputs": [],
   "source": [
    "df = pd.read_csv(\"../combined_data.csv\")\n",
    "df"
   ]
  },
  {
   "cell_type": "code",
   "execution_count": null,
   "metadata": {},
   "outputs": [],
   "source": [
    "# q=1\n",
    "df['q1'] = -(df['freq']*np.log(df['freq']))\n",
    "q1 = df.groupby(['sample']).agg({'q1':'sum'}).reset_index().rename(columns={'q1':\"shannon_index_tool\"})\n",
    "q1['Result'] = np.exp(q1['shannon_index_tool'])\n",
    "q1['Q'] = '1'\n",
    "q1 = q1[['sample', 'Q', 'Result']]\n",
    "\n",
    "# q=2\n",
    "df['q2'] = (df['freq']**2)\n",
    "q2 = df.groupby(['sample']).agg({'q2': 'sum'}).reset_index().rename(columns={'q2': \"simpson_index_tool\"})\n",
    "q2['Result'] = 1/q2['simpson_index_tool']\n",
    "q2['Q'] = '2'\n",
    "q2 = q2[['sample', 'Q', 'Result']]\n",
    "\n",
    "# q=3\n",
    "df['q3'] = (df['freq']**3)\n",
    "q3 = df.groupby(['sample']).agg({'q3': 'sum'}).reset_index().rename(columns={'q3': \"q3_sum\"})\n",
    "q3['Result'] = (q3['q3_sum']**(-1/2))\n",
    "q3['Q'] = '3'\n",
    "q3 = q3[['sample', 'Q', 'Result']]\n",
    "\n",
    "# q=4\n",
    "df['q4'] = (df['freq']**4)\n",
    "q4 = df.groupby(['sample']).agg({'q4': 'sum'}).reset_index().rename(columns={'q4': \"q4_sum\"})\n",
    "q4['Result'] = (q4['q4_sum']**(-1/3))\n",
    "q4['Q'] = '4'\n",
    "q4 = q4[['sample', 'Q', 'Result']]\n",
    "\n",
    "# q=5\n",
    "df['q5'] = (df['freq']**5)\n",
    "q5 = df.groupby(['sample']).agg({'q5': 'sum'}).reset_index().rename(columns={'q5': \"q5_sum\"})\n",
    "q5['Result'] = (q5['q5_sum']**(-1/4))\n",
    "q5['Q'] = '5'\n",
    "q5 = q5[['sample', 'Q', 'Result']]\n",
    "\n",
    "# q=6\n",
    "df['q6'] = (df['freq']**6)\n",
    "q6 = df.groupby(['sample']).agg({'q6': 'sum'}).reset_index().rename(columns={'q6': \"q6_sum\"})\n",
    "q6['Result'] = (q6['q6_sum']**(-1/5))\n",
    "q6['Q'] = '6'\n",
    "q6 = q6[['sample', 'Q', 'Result']]"
   ]
  },
  {
   "cell_type": "code",
   "execution_count": null,
   "metadata": {},
   "outputs": [],
   "source": [
    "combined = pd.concat([q1, q2, q3, q4, q5, q6])\n",
    "combined"
   ]
  },
  {
   "cell_type": "code",
   "execution_count": null,
   "metadata": {},
   "outputs": [],
   "source": [
    "combined.to_csv('hill_numbers.csv', index=False)"
   ]
  },
  {
   "cell_type": "code",
   "execution_count": null,
   "metadata": {},
   "outputs": [],
   "source": []
  }
 ],
 "metadata": {
  "kernelspec": {
   "display_name": "Python 3 (ipykernel)",
   "language": "python",
   "name": "python3"
  },
  "language_info": {
   "codemirror_mode": {
    "name": "ipython",
    "version": 3
   },
   "file_extension": ".py",
   "mimetype": "text/x-python",
   "name": "python",
   "nbconvert_exporter": "python",
   "pygments_lexer": "ipython3",
   "version": "3.7.4"
  }
 },
 "nbformat": 4,
 "nbformat_minor": 2
}

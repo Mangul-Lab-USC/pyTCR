{
 "cells": [
  {
   "cell_type": "markdown",
   "metadata": {
    "id": "jhqP5rXlv3C1"
   },
   "source": [
    "Step 1 - Import python libraries"
   ]
  },
  {
   "cell_type": "code",
   "execution_count": null,
   "metadata": {
    "colab": {
     "base_uri": "https://localhost:8080/"
    },
    "executionInfo": {
     "elapsed": 1133,
     "status": "ok",
     "timestamp": 1606709456814,
     "user": {
      "displayName": "Kerui Peng",
      "photoUrl": "https://lh3.googleusercontent.com/a-/AOh14GhCFbNNQavDfyVFYGThBoWptUPcEdIkBKjW1JK6=s64",
      "userId": "00454648627764987552"
     },
     "user_tz": 480
    },
    "id": "vkH5M7iDpZXE",
    "outputId": "9838ff0d-95ee-4cc2-c5d3-54be50b0ec07"
   },
   "outputs": [],
   "source": [
    "from IPython import get_ipython\n",
    "import matplotlib.pyplot as plt\n",
    "import seaborn as sns\n",
    "import pandas as pd\n",
    "\n",
    "pd.options.mode.chained_assignment = None"
   ]
  },
  {
   "cell_type": "markdown",
   "metadata": {
    "id": "Jvp4CsPdv8Z1"
   },
   "source": [
    "Step 2 - Load and read the data file\n",
    "1.   Upload data file from Google drive and run the notebook in the cloud\n",
    "2.   Upload data file from local computer and run the notebook in the cloud\n",
    "3.   Load data file from local computer and run the notebook locally"
   ]
  },
  {
   "cell_type": "code",
   "execution_count": null,
   "metadata": {
    "colab": {
     "base_uri": "https://localhost:8080/"
    },
    "executionInfo": {
     "elapsed": 29172,
     "status": "ok",
     "timestamp": 1606709499515,
     "user": {
      "displayName": "Kerui Peng",
      "photoUrl": "https://lh3.googleusercontent.com/a-/AOh14GhCFbNNQavDfyVFYGThBoWptUPcEdIkBKjW1JK6=s64",
      "userId": "00454648627764987552"
     },
     "user_tz": 480
    },
    "id": "Pfu3Wfq9We7K",
    "outputId": "92c8d0f5-c503-49e8-cb78-f0b5038fac66"
   },
   "outputs": [],
   "source": [
    "# Specify the path to your data in Google Drive or locally\n",
    "filePath = \"/content/drive/MyDrive/complete_COVID_samples.tsv\"\n",
    "\n",
    "isInGoogle = 'google.colab' in str(get_ipython())\n",
    "\n",
    "if isInGoogle:\n",
    "    from google.colab import drive\n",
    "    drive.mount('/content/drive')\n",
    "\n",
    "df = pd.read_table(filePath, low_memory=False, engine=\"c\")\n",
    "\n",
    "df.head()\n"
   ]
  },
  {
   "cell_type": "markdown",
   "metadata": {
    "id": "rMks_glHpzmC"
   },
   "source": [
    "Step 2 - Option 2 - Upload data file from local computer\n"
   ]
  },
  {
   "cell_type": "markdown",
   "metadata": {
    "id": "MeSGHhGuwWVW"
   },
   "source": [
    "Step 2 - Option 3 - Run the notebook locally (refer here for how to connect to local runtime https://research.google.com/colaboratory/local-runtimes.html)"
   ]
  },
  {
   "cell_type": "markdown",
   "metadata": {
    "id": "zGSlgqcNqr8p"
   },
   "source": [
    "Motif analysis 1 - Amino acid spectratype"
   ]
  },
  {
   "cell_type": "code",
   "execution_count": null,
   "metadata": {
    "colab": {
     "base_uri": "https://localhost:8080/",
     "height": 419
    },
    "executionInfo": {
     "elapsed": 7746,
     "status": "ok",
     "timestamp": 1606709759726,
     "user": {
      "displayName": "Kerui Peng",
      "photoUrl": "https://lh3.googleusercontent.com/a-/AOh14GhCFbNNQavDfyVFYGThBoWptUPcEdIkBKjW1JK6=s64",
      "userId": "00454648627764987552"
     },
     "user_tz": 480
    },
    "id": "sIl0b6jhqMh4",
    "outputId": "28c4ec83-499f-4969-f62a-6c67639ad27f"
   },
   "outputs": [],
   "source": [
    "# add CDR3 amino acid length as a new column\n",
    "df['aa_length'] = df['cdr3aa'].str.len()\n",
    "\n",
    "df_aa_spectratype = df.groupby(['sample', 'hospitalization', 'aa_length'], as_index=False)[\n",
    "    'freq'].agg({'spectratype': 'sum'})\n",
    "\n",
    "df_aa_spectratype\n"
   ]
  },
  {
   "cell_type": "markdown",
   "metadata": {
    "id": "N6CuBP-Cq3Z5"
   },
   "source": [
    "Motif analysis 1.1 - Show the most frequent amino acid length in each sample"
   ]
  },
  {
   "cell_type": "code",
   "execution_count": null,
   "metadata": {
    "colab": {
     "base_uri": "https://localhost:8080/",
     "height": 1000
    },
    "executionInfo": {
     "elapsed": 413,
     "status": "ok",
     "timestamp": 1606709866957,
     "user": {
      "displayName": "Kerui Peng",
      "photoUrl": "https://lh3.googleusercontent.com/a-/AOh14GhCFbNNQavDfyVFYGThBoWptUPcEdIkBKjW1JK6=s64",
      "userId": "00454648627764987552"
     },
     "user_tz": 480
    },
    "id": "IHMJsxYErAXe",
    "outputId": "b7b88176-5616-4108-9faf-87ee94a9c39f"
   },
   "outputs": [],
   "source": [
    "df_aa_max_spectratype = df_aa_spectratype.loc[df_aa_spectratype.groupby('sample')[\n",
    "    'spectratype'].idxmax()]\n",
    "\n",
    "df_aa_max_spectratype\n"
   ]
  },
  {
   "cell_type": "markdown",
   "metadata": {
    "id": "CIQ4Q6F9YEsL"
   },
   "source": [
    "Motif analysis 1.2 - Amino acid motif count (result table)"
   ]
  },
  {
   "cell_type": "code",
   "execution_count": null,
   "metadata": {
    "colab": {
     "base_uri": "https://localhost:8080/",
     "height": 419
    },
    "executionInfo": {
     "elapsed": 360986,
     "status": "ok",
     "timestamp": 1606710231260,
     "user": {
      "displayName": "Kerui Peng",
      "photoUrl": "https://lh3.googleusercontent.com/a-/AOh14GhCFbNNQavDfyVFYGThBoWptUPcEdIkBKjW1JK6=s64",
      "userId": "00454648627764987552"
     },
     "user_tz": 480
    },
    "id": "a1KjFOmoQk7r",
    "outputId": "05f66f0a-8745-496f-9ab3-29118e6bc1d4"
   },
   "outputs": [],
   "source": [
    "# define the function to count amino acid motifs (k is the length of the motif)\n",
    "def aamotif(k, aa_list):\n",
    "    aamotifCount = {}\n",
    "    for aa in aa_list:\n",
    "        for i in range(len(aa)-k+1):\n",
    "            aamotif = aa[i:i+k]\n",
    "            aamotifCount[aamotif] = aamotifCount.get(aamotif, 0)+1\n",
    "    return aamotifCount\n",
    "\n",
    "\n",
    "# create an empty dataframe for storing results\n",
    "df_aa_motif = pd.DataFrame()\n",
    "\n",
    "# create a list of the sample names\n",
    "samples = set(df['sample'])\n",
    "\n",
    "for sample in samples:\n",
    "\n",
    "    # store the rows related to the sample\n",
    "    df_temp = df.loc[df['sample'] == sample]\n",
    "\n",
    "    # use amino acid motif length of 6 as an example\n",
    "    df_temp = aamotif(6, df_temp['cdr3aa'])\n",
    "    df_temp = pd.DataFrame(df_temp.items(), columns=['motif', 'count'])\n",
    "    df_temp['sample'] = sample\n",
    "\n",
    "    # append the dataframe based on amino acid motifs and stores in the result dataframe\n",
    "    df_aa_motif = df_aa_motif.append(df_temp, ignore_index=True)\n",
    "\n",
    "    # add the hospitalization information as a column\n",
    "    df_aa_motif_1 = df_aa_motif.merge(\n",
    "        df_aa_max_spectratype[['sample', 'hospitalization']], on='sample')\n",
    "\n",
    "df_aa_motif_1\n"
   ]
  },
  {
   "cell_type": "code",
   "execution_count": null,
   "metadata": {},
   "outputs": [],
   "source": [
    "#show the most abundant amino acid motif in each sample\n",
    "df_aa_motif_most = df_aa_motif_1.loc[df_aa_motif_1.groupby('sample')['count'].idxmax()]\n",
    "df_aa_motif_most"
   ]
  },
  {
   "cell_type": "markdown",
   "metadata": {
    "id": "gyWBwXDQiOYG"
   },
   "source": [
    "Motif analysis 1.3 - Amino acid motif count (plots)"
   ]
  },
  {
   "cell_type": "code",
   "execution_count": null,
   "metadata": {
    "colab": {
     "base_uri": "https://localhost:8080/",
     "height": 988
    },
    "executionInfo": {
     "elapsed": 4940,
     "status": "ok",
     "timestamp": 1606710239972,
     "user": {
      "displayName": "Kerui Peng",
      "photoUrl": "https://lh3.googleusercontent.com/a-/AOh14GhCFbNNQavDfyVFYGThBoWptUPcEdIkBKjW1JK6=s64",
      "userId": "00454648627764987552"
     },
     "user_tz": 480
    },
    "id": "oOY3oejEZDgw",
    "outputId": "c187935f-ab33-43af-b4f4-8599d0b2b0ba"
   },
   "outputs": [],
   "source": [
    "# remove motif counts that are less than 4999\n",
    "df_aa_motif_1 = df_aa_motif_1[df_aa_motif_1['count'] > 5000]\n",
    "\n",
    "ax = plt.subplots(figsize=(20, 15))\n",
    "ax = sns.boxplot(data=df_aa_motif_1, x='motif',\n",
    "                 y='count', hue='hospitalization')\n",
    "plt.xticks(rotation=90)\n",
    "ax.set_xlabel('Motif', fontsize=30)\n",
    "ax.set_ylabel('Count', fontsize=30)\n",
    "plt.xticks(fontsize=20)\n",
    "plt.yticks(fontsize=20)\n",
    "plt.legend(fontsize='x-large', title_fontsize='50')\n"
   ]
  },
  {
   "cell_type": "code",
   "execution_count": null,
   "metadata": {
    "colab": {
     "base_uri": "https://localhost:8080/",
     "height": 988
    },
    "executionInfo": {
     "elapsed": 927,
     "status": "ok",
     "timestamp": 1606710257157,
     "user": {
      "displayName": "Kerui Peng",
      "photoUrl": "https://lh3.googleusercontent.com/a-/AOh14GhCFbNNQavDfyVFYGThBoWptUPcEdIkBKjW1JK6=s64",
      "userId": "00454648627764987552"
     },
     "user_tz": 480
    },
    "id": "U975vOLHZE70",
    "outputId": "1de1752c-fd66-4252-bc38-fe0bdc8597b2"
   },
   "outputs": [],
   "source": [
    "# remove motif counts that are less than 4999\n",
    "df_aa_motif_1 = df_aa_motif_1[df_aa_motif_1['count'] > 5000]\n",
    "\n",
    "ax = df_aa_motif_1.groupby(['motif', 'hospitalization'])['count'].sum(\n",
    ").unstack().plot(kind='bar', stacked=True, figsize=(20, 15))\n",
    "ax.set_xlabel('Motif', fontsize=30)\n",
    "ax.set_ylabel('Count', fontsize=30)\n",
    "plt.xticks(fontsize=20)\n",
    "plt.yticks(fontsize=20)\n",
    "plt.legend(fontsize='x-large', title_fontsize='50')\n"
   ]
  },
  {
   "cell_type": "markdown",
   "metadata": {
    "id": "A-NT4KGBx8ut"
   },
   "source": [
    "Motif analysis 2.1 - nucleotide sequence motif analysis (result table)"
   ]
  },
  {
   "cell_type": "code",
   "execution_count": null,
   "metadata": {
    "colab": {
     "base_uri": "https://localhost:8080/",
     "height": 419
    },
    "executionInfo": {
     "elapsed": 399527,
     "status": "ok",
     "timestamp": 1606711169842,
     "user": {
      "displayName": "Kerui Peng",
      "photoUrl": "https://lh3.googleusercontent.com/a-/AOh14GhCFbNNQavDfyVFYGThBoWptUPcEdIkBKjW1JK6=s64",
      "userId": "00454648627764987552"
     },
     "user_tz": 480
    },
    "id": "vF1siv69dVqS",
    "outputId": "57599156-edc4-46b3-89bc-3e2f43accf1c"
   },
   "outputs": [],
   "source": [
    "# define the function to count nucleotide motifs (k is the length of the motif)\n",
    "def ntmotif(k, nt_list):\n",
    "    ntmotifCount = {}\n",
    "    for nt in nt_list:\n",
    "        for i in range(len(nt)-k+1):\n",
    "            ntmotif = nt[i:i+k]\n",
    "            ntmotifCount[ntmotif] = ntmotifCount.get(ntmotif, 0)+1\n",
    "    return ntmotifCount\n",
    "\n",
    "\n",
    "# create an empty dataframe for storing results\n",
    "df_nt_motif = pd.DataFrame()\n",
    "\n",
    "# create a list of the sample names\n",
    "samples = set(df['sample'])\n",
    "\n",
    "for sample in samples:\n",
    "\n",
    "    # store the rows related to the sample\n",
    "    df_temp = df.loc[df['sample'] == sample]\n",
    "\n",
    "    # use amino acid motif length of 6 as an example\n",
    "    df_temp = ntmotif(6, df_temp['cdr3nt'])\n",
    "    df_temp = pd.DataFrame(df_temp.items(), columns=['motif', 'count'])\n",
    "    df_temp['sample'] = sample\n",
    "\n",
    "    # append the dataframe based on amino acid motifs and stores in the result dataframe\n",
    "    df_nt_motif = df_nt_motif.append(df_temp, ignore_index=True)\n",
    "\n",
    "    # add the hospitalization information as a column\n",
    "    df_nt_motif_1 = df_nt_motif.merge(\n",
    "        df_aa_max_spectratype[['sample', 'hospitalization']], on='sample')\n",
    "\n",
    "df_nt_motif_1\n"
   ]
  },
  {
   "cell_type": "code",
   "execution_count": null,
   "metadata": {},
   "outputs": [],
   "source": [
    "#show the most abundant amino acid motif in each sample\n",
    "df_nt_motif_most = df_nt_motif_1.loc[df_nt_motif_1.groupby('sample')['count'].idxmax()]\n",
    "df_nt_motif_most"
   ]
  },
  {
   "cell_type": "markdown",
   "metadata": {
    "id": "otND4NgLd0yi"
   },
   "source": [
    "Motif analysis 2.2 - Show the motif counts across the samples by bar plots "
   ]
  },
  {
   "cell_type": "code",
   "execution_count": null,
   "metadata": {
    "colab": {
     "base_uri": "https://localhost:8080/",
     "height": 992
    },
    "executionInfo": {
     "elapsed": 1922,
     "status": "ok",
     "timestamp": 1606712085341,
     "user": {
      "displayName": "Kerui Peng",
      "photoUrl": "https://lh3.googleusercontent.com/a-/AOh14GhCFbNNQavDfyVFYGThBoWptUPcEdIkBKjW1JK6=s64",
      "userId": "00454648627764987552"
     },
     "user_tz": 480
    },
    "id": "iPArT62RdwQV",
    "outputId": "2a20ffa1-b254-47ce-bdce-1f6ccc786cd8"
   },
   "outputs": [],
   "source": [
    "# remove motif counts that are less than 150000\n",
    "df_nt_motif_1 = df_nt_motif_1[df_nt_motif_1['count'] > 149999]\n",
    "\n",
    "ax = plt.subplots(figsize=(20, 15))\n",
    "ax = sns.boxplot(data=df_nt_motif_1, x='motif',\n",
    "                 y='count', hue='hospitalization')\n",
    "\n",
    "plt.xticks(rotation=90)\n",
    "ax.set_xlabel('Motif', fontsize=30)\n",
    "ax.set_ylabel('Count', fontsize=30)\n",
    "plt.xticks(fontsize=20)\n",
    "plt.yticks(fontsize=20)\n",
    "plt.legend(fontsize='x-large', title_fontsize='50')\n"
   ]
  },
  {
   "cell_type": "code",
   "execution_count": null,
   "metadata": {
    "colab": {
     "base_uri": "https://localhost:8080/",
     "height": 1000
    },
    "executionInfo": {
     "elapsed": 1066,
     "status": "ok",
     "timestamp": 1606712189630,
     "user": {
      "displayName": "Kerui Peng",
      "photoUrl": "https://lh3.googleusercontent.com/a-/AOh14GhCFbNNQavDfyVFYGThBoWptUPcEdIkBKjW1JK6=s64",
      "userId": "00454648627764987552"
     },
     "user_tz": 480
    },
    "id": "bn1Q-kklelAY",
    "outputId": "ae83592c-9702-4d20-bb75-762d57c02337"
   },
   "outputs": [],
   "source": [
    "# remove motif counts that are less than 150000\n",
    "df_nt_motif_1 = df_nt_motif_1[df_nt_motif_1['count'] > 149999]\n",
    "\n",
    "ax = df_nt_motif_1.groupby(['motif', 'hospitalization'])['count'].sum(\n",
    ").unstack().plot(kind='bar', stacked=True, figsize=(20, 15))\n",
    "\n",
    "ax.set_xlabel('Motif', fontsize=30)\n",
    "ax.set_ylabel('Count', fontsize=30)\n",
    "plt.xticks(fontsize=20)\n",
    "plt.yticks(fontsize=20)\n",
    "plt.legend(fontsize='x-large', title_fontsize='50')\n"
   ]
  }
 ],
 "metadata": {
  "accelerator": "GPU",
  "colab": {
   "collapsed_sections": [],
   "name": "Motif analysis_COVID.ipynb",
   "provenance": []
  },
  "kernelspec": {
   "display_name": "Python 3",
   "language": "python",
   "name": "python3"
  },
  "language_info": {
   "codemirror_mode": {
    "name": "ipython",
    "version": 3
   },
   "file_extension": ".py",
   "mimetype": "text/x-python",
   "name": "python",
   "nbconvert_exporter": "python",
   "pygments_lexer": "ipython3",
   "version": "3.9.7"
  }
 },
 "nbformat": 4,
 "nbformat_minor": 1
}

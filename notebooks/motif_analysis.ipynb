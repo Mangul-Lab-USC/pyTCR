{
 "cells": [
  {
   "cell_type": "markdown",
   "metadata": {
    "id": "jhqP5rXlv3C1"
   },
   "source": [
    "Step 1 - Import python libraries"
   ]
  },
  {
   "cell_type": "code",
   "execution_count": null,
   "metadata": {
    "colab": {
     "base_uri": "https://localhost:8080/"
    },
    "executionInfo": {
     "elapsed": 1133,
     "status": "ok",
     "timestamp": 1606709456814,
     "user": {
      "displayName": "Kerui Peng",
      "photoUrl": "https://lh3.googleusercontent.com/a-/AOh14GhCFbNNQavDfyVFYGThBoWptUPcEdIkBKjW1JK6=s64",
      "userId": "00454648627764987552"
     },
     "user_tz": 480
    },
    "id": "vkH5M7iDpZXE",
    "outputId": "9838ff0d-95ee-4cc2-c5d3-54be50b0ec07"
   },
   "outputs": [],
   "source": [
    "%pip install IPython\n",
    "%pip install matplotlib\n",
    "%pip install pandas\n",
    "%pip install seaborn\n",
    "%pip install scipy\n",
    "\n",
    "from IPython import get_ipython\n",
    "import matplotlib.pyplot as plt\n",
    "import seaborn as sns\n",
    "import pandas as pd\n",
    "\n",
    "pd.options.mode.chained_assignment = None"
   ]
  },
  {
   "cell_type": "markdown",
   "metadata": {
    "id": "Jvp4CsPdv8Z1"
   },
   "source": [
    "Step 2 - Load and read your data file\n",
    "- pyTCR accepts a single `.csv` file that should contain all the samples.\n",
    "  - The following cell attempts to detect whether you are running the notebook in a Google Colab cloud environment or in a local environment, and then loads the data at the specified path.\n",
    "- The `filePath` variable in the following code cell should be changed to the location of your file. The following options are supported:\n",
    "  1. A `filePath` from Google Drive (to run on a cloud environment)\n",
    "  2. A `filePath` from your local computer (to run on a local environment, other cloud environments should work as expected)\n",
    "- Adjust the `optional_fields` according to your data"
   ]
  },
  {
   "cell_type": "code",
   "execution_count": null,
   "metadata": {},
   "outputs": [],
   "source": [
    "# Mount Google Drive\n",
    "isInGoogle = 'google.colab' in str(get_ipython())\n",
    "\n",
    "if isInGoogle:\n",
    "    from google.colab import drive\n",
    "    drive.mount('/content/drive')"
   ]
  },
  {
   "cell_type": "code",
   "execution_count": null,
   "metadata": {
    "colab": {
     "base_uri": "https://localhost:8080/"
    },
    "executionInfo": {
     "elapsed": 29172,
     "status": "ok",
     "timestamp": 1606709499515,
     "user": {
      "displayName": "Kerui Peng",
      "photoUrl": "https://lh3.googleusercontent.com/a-/AOh14GhCFbNNQavDfyVFYGThBoWptUPcEdIkBKjW1JK6=s64",
      "userId": "00454648627764987552"
     },
     "user_tz": 480
    },
    "id": "Pfu3Wfq9We7K",
    "outputId": "92c8d0f5-c503-49e8-cb78-f0b5038fac66"
   },
   "outputs": [],
   "source": [
    "# Specify the path to your data in Google Drive or locally\n",
    "filePath = \"../combined_data.csv\" # or \"/content/drive/MyDrive/combined_data.csv\"\n",
    "\n",
    "df = pd.read_csv(filePath, low_memory=False, engine=\"c\")\n",
    "\n",
    "optional_fields = ['hospitalized']\n",
    "\n",
    "df.head()"
   ]
  },
  {
   "cell_type": "markdown",
   "metadata": {
    "id": "zGSlgqcNqr8p"
   },
   "source": [
    "Motif analysis 1.1 - Amino acid spectratype"
   ]
  },
  {
   "cell_type": "code",
   "execution_count": null,
   "metadata": {
    "colab": {
     "base_uri": "https://localhost:8080/",
     "height": 419
    },
    "executionInfo": {
     "elapsed": 7746,
     "status": "ok",
     "timestamp": 1606709759726,
     "user": {
      "displayName": "Kerui Peng",
      "photoUrl": "https://lh3.googleusercontent.com/a-/AOh14GhCFbNNQavDfyVFYGThBoWptUPcEdIkBKjW1JK6=s64",
      "userId": "00454648627764987552"
     },
     "user_tz": 480
    },
    "id": "sIl0b6jhqMh4",
    "outputId": "28c4ec83-499f-4969-f62a-6c67639ad27f"
   },
   "outputs": [],
   "source": [
    "# Add CDR3 amino acid length as a new column\n",
    "df['aa_length'] = df['cdr3aa'].str.len()\n",
    "\n",
    "df_aa_spectratype = df.groupby(['sample', 'hospitalized', 'aa_length'], as_index=False)[\n",
    "    'freq'].agg({'spectratype': 'sum'})\n",
    "\n",
    "df_aa_spectratype"
   ]
  },
  {
   "cell_type": "markdown",
   "metadata": {
    "id": "N6CuBP-Cq3Z5"
   },
   "source": [
    "Motif analysis 1.2 - Show the most frequent amino acid length in each sample"
   ]
  },
  {
   "cell_type": "code",
   "execution_count": null,
   "metadata": {
    "colab": {
     "base_uri": "https://localhost:8080/",
     "height": 1000
    },
    "executionInfo": {
     "elapsed": 413,
     "status": "ok",
     "timestamp": 1606709866957,
     "user": {
      "displayName": "Kerui Peng",
      "photoUrl": "https://lh3.googleusercontent.com/a-/AOh14GhCFbNNQavDfyVFYGThBoWptUPcEdIkBKjW1JK6=s64",
      "userId": "00454648627764987552"
     },
     "user_tz": 480
    },
    "id": "IHMJsxYErAXe",
    "outputId": "b7b88176-5616-4108-9faf-87ee94a9c39f"
   },
   "outputs": [],
   "source": [
    "df_aa_max_spectratype = df_aa_spectratype.loc[df_aa_spectratype.groupby('sample')['spectratype'].idxmax()]\n",
    "\n",
    "df_aa_max_spectratype"
   ]
  },
  {
   "cell_type": "markdown",
   "metadata": {
    "id": "CIQ4Q6F9YEsL"
   },
   "source": [
    "Motif analysis 2.1 - Amino acid motif count (result table)"
   ]
  },
  {
   "cell_type": "code",
   "execution_count": null,
   "metadata": {
    "colab": {
     "base_uri": "https://localhost:8080/",
     "height": 419
    },
    "executionInfo": {
     "elapsed": 360986,
     "status": "ok",
     "timestamp": 1606710231260,
     "user": {
      "displayName": "Kerui Peng",
      "photoUrl": "https://lh3.googleusercontent.com/a-/AOh14GhCFbNNQavDfyVFYGThBoWptUPcEdIkBKjW1JK6=s64",
      "userId": "00454648627764987552"
     },
     "user_tz": 480
    },
    "id": "a1KjFOmoQk7r",
    "outputId": "05f66f0a-8745-496f-9ab3-29118e6bc1d4"
   },
   "outputs": [],
   "source": [
    "# Define the function to count amino acid motifs (k is the length of the motif)\n",
    "def aamotif(k, aa_list):\n",
    "    aamotifCount = {}\n",
    "    for aa in aa_list:\n",
    "        for i in range(len(aa)-k+1):\n",
    "            aamotif = aa[i:i+k]\n",
    "            aamotifCount[aamotif] = aamotifCount.get(aamotif, 0)+1\n",
    "    return aamotifCount\n",
    "\n",
    "# Create an empty dataframe for storing results\n",
    "df_aa_motif = pd.DataFrame()\n",
    "\n",
    "# Create a list of the sample names\n",
    "samples = set(df['sample'])\n",
    "\n",
    "for sample in samples:\n",
    "\n",
    "    # Store the rows related to the sample\n",
    "    df_temp = df.loc[df['sample'] == sample]\n",
    "\n",
    "    # Use amino acid motif length of 6 as an example\n",
    "    df_temp = aamotif(6, df_temp['cdr3aa'])\n",
    "    df_temp = pd.DataFrame(df_temp.items(), columns=['motif', 'count'])\n",
    "    df_temp['sample'] = sample\n",
    "\n",
    "    # Append the dataframe based on amino acid motifs and stores in the result dataframe\n",
    "    df_aa_motif = df_aa_motif.append(df_temp, ignore_index=True)\n",
    "\n",
    "    # Add the hospitalization information as a column\n",
    "    df_aa_motif_1 = df_aa_motif.merge(df_aa_max_spectratype[['sample', 'hospitalized']], on='sample')\n",
    "\n",
    "df_aa_motif_1"
   ]
  },
  {
   "cell_type": "code",
   "execution_count": null,
   "metadata": {},
   "outputs": [],
   "source": [
    "# Show the most abundant amino acid motif in each sample\n",
    "df_aa_motif_most = df_aa_motif_1.loc[df_aa_motif_1.groupby('sample')['count'].idxmax()]\n",
    "\n",
    "df_aa_motif_most"
   ]
  },
  {
   "cell_type": "markdown",
   "metadata": {
    "id": "gyWBwXDQiOYG"
   },
   "source": [
    "Motif analysis 2.2 - Amino acid motif count (plots)"
   ]
  },
  {
   "cell_type": "code",
   "execution_count": null,
   "metadata": {},
   "outputs": [],
   "source": [
    "# Remove motif counts that are less than 9999\n",
    "df_aa_motif_1 = df_aa_motif_1[df_aa_motif_1['count'] > 9999]\n",
    "\n",
    "# Select the motifs that present in more than 2 samples\n",
    "df_aa_motif_2 = df_aa_motif_1.groupby(['hospitalized','motif'], sort=False).size().reset_index(name='number_of_samples')\n",
    "df_aa_motif_2 = df_aa_motif_2[df_aa_motif_2['number_of_samples'] > 2]\n",
    "df_aa_motif_1 = pd.merge(df_aa_motif_1, df_aa_motif_2, on=['hospitalized','motif'])\n",
    "df_aa_motif_1"
   ]
  },
  {
   "cell_type": "code",
   "execution_count": null,
   "metadata": {
    "colab": {
     "base_uri": "https://localhost:8080/",
     "height": 988
    },
    "executionInfo": {
     "elapsed": 927,
     "status": "ok",
     "timestamp": 1606710257157,
     "user": {
      "displayName": "Kerui Peng",
      "photoUrl": "https://lh3.googleusercontent.com/a-/AOh14GhCFbNNQavDfyVFYGThBoWptUPcEdIkBKjW1JK6=s64",
      "userId": "00454648627764987552"
     },
     "user_tz": 480
    },
    "id": "U975vOLHZE70",
    "outputId": "1de1752c-fd66-4252-bc38-fe0bdc8597b2"
   },
   "outputs": [],
   "source": [
    "attribute = \"hospitalized\"\n",
    "\n",
    "ax = plt.subplots(figsize=(8,5))\n",
    "\n",
    "ax = sns.stripplot(data=df_aa_motif_1, x='motif', y='count', hue=attribute, dodge=True, size=6, linewidth=1)\n",
    "\n",
    "ax.set_xlabel('Amino acid motif', fontsize=20)\n",
    "ax.set_ylabel('Count', fontsize=20)\n",
    "plt.xticks(fontsize=18, rotation=90)\n",
    "plt.yticks(fontsize=18)\n",
    "plt.setp(ax.get_legend().get_texts(), fontsize='20')\n",
    "plt.setp(ax.get_legend().get_title(), fontsize='20')\n",
    "sns.despine()\n",
    "\n",
    "plt.show()"
   ]
  },
  {
   "cell_type": "markdown",
   "metadata": {
    "id": "A-NT4KGBx8ut"
   },
   "source": [
    "Motif analysis 3.1 - Nucleotide sequence motif count (result table)"
   ]
  },
  {
   "cell_type": "code",
   "execution_count": null,
   "metadata": {
    "colab": {
     "base_uri": "https://localhost:8080/",
     "height": 419
    },
    "executionInfo": {
     "elapsed": 399527,
     "status": "ok",
     "timestamp": 1606711169842,
     "user": {
      "displayName": "Kerui Peng",
      "photoUrl": "https://lh3.googleusercontent.com/a-/AOh14GhCFbNNQavDfyVFYGThBoWptUPcEdIkBKjW1JK6=s64",
      "userId": "00454648627764987552"
     },
     "user_tz": 480
    },
    "id": "vF1siv69dVqS",
    "outputId": "57599156-edc4-46b3-89bc-3e2f43accf1c"
   },
   "outputs": [],
   "source": [
    "# Define the function to count nucleotide motifs (k is the length of the motif)\n",
    "def ntmotif(k, nt_list):\n",
    "    ntmotifCount = {}\n",
    "    for nt in nt_list:\n",
    "        for i in range(len(nt)-k+1):\n",
    "            ntmotif = nt[i:i+k]\n",
    "            ntmotifCount[ntmotif] = ntmotifCount.get(ntmotif, 0)+1\n",
    "    return ntmotifCount\n",
    "\n",
    "# Create an empty dataframe for storing results\n",
    "df_nt_motif = pd.DataFrame()\n",
    "\n",
    "# Create a list of the sample names\n",
    "samples = set(df['sample'])\n",
    "\n",
    "for sample in samples:\n",
    "\n",
    "    # Store the rows related to the sample\n",
    "    df_temp = df.loc[df['sample'] == sample]\n",
    "\n",
    "    # Use amino acid motif length of 6 as an example\n",
    "    df_temp = ntmotif(6, df_temp['cdr3nt'])\n",
    "    df_temp = pd.DataFrame(df_temp.items(), columns=['motif', 'count'])\n",
    "    df_temp['sample'] = sample\n",
    "\n",
    "    # Append the dataframe based on amino acid motifs and stores in the result dataframe\n",
    "    df_nt_motif = df_nt_motif.append(df_temp, ignore_index=True)\n",
    "\n",
    "    # Add the hospitalization information as a column\n",
    "    df_nt_motif_1 = df_nt_motif.merge(\n",
    "        df_aa_max_spectratype[['sample', 'hospitalized']], on='sample')\n",
    "\n",
    "df_nt_motif_1"
   ]
  },
  {
   "cell_type": "code",
   "execution_count": null,
   "metadata": {},
   "outputs": [],
   "source": [
    "# Show the most abundant amino acid motif in each sample\n",
    "df_nt_motif_most = df_nt_motif_1.loc[df_nt_motif_1.groupby('sample')['count'].idxmax()]\n",
    "\n",
    "df_nt_motif_most"
   ]
  },
  {
   "cell_type": "markdown",
   "metadata": {
    "id": "otND4NgLd0yi"
   },
   "source": [
    "Motif analysis 3.2 - Nucleotide sequence motif count (plots)"
   ]
  },
  {
   "cell_type": "code",
   "execution_count": null,
   "metadata": {
    "colab": {
     "base_uri": "https://localhost:8080/",
     "height": 992
    },
    "executionInfo": {
     "elapsed": 1922,
     "status": "ok",
     "timestamp": 1606712085341,
     "user": {
      "displayName": "Kerui Peng",
      "photoUrl": "https://lh3.googleusercontent.com/a-/AOh14GhCFbNNQavDfyVFYGThBoWptUPcEdIkBKjW1JK6=s64",
      "userId": "00454648627764987552"
     },
     "user_tz": 480
    },
    "id": "iPArT62RdwQV",
    "outputId": "2a20ffa1-b254-47ce-bdce-1f6ccc786cd8"
   },
   "outputs": [],
   "source": [
    "# Remove motif counts that are less than 150000\n",
    "df_nt_motif_1 = df_nt_motif_1[df_nt_motif_1['count'] > 150000]\n",
    "\n",
    "# Select the motifs that present in more than 2 samples\n",
    "df_nt_motif_2 = df_nt_motif_1.groupby(['hospitalized','motif'], sort=False).size().reset_index(name='number_of_samples')\n",
    "df_nt_motif_2 = df_nt_motif_2[df_nt_motif_2['number_of_samples'] > 2]\n",
    "df_nt_motif_1 = pd.merge(df_nt_motif_1, df_nt_motif_2, on=['hospitalized','motif'])\n",
    "df_nt_motif_1"
   ]
  },
  {
   "cell_type": "code",
   "execution_count": null,
   "metadata": {
    "colab": {
     "base_uri": "https://localhost:8080/",
     "height": 1000
    },
    "executionInfo": {
     "elapsed": 1066,
     "status": "ok",
     "timestamp": 1606712189630,
     "user": {
      "displayName": "Kerui Peng",
      "photoUrl": "https://lh3.googleusercontent.com/a-/AOh14GhCFbNNQavDfyVFYGThBoWptUPcEdIkBKjW1JK6=s64",
      "userId": "00454648627764987552"
     },
     "user_tz": 480
    },
    "id": "bn1Q-kklelAY",
    "outputId": "ae83592c-9702-4d20-bb75-762d57c02337"
   },
   "outputs": [],
   "source": [
    "attribute = \"hospitalized\"\n",
    "\n",
    "ax = plt.subplots(figsize=(8,5))\n",
    "\n",
    "ax = sns.stripplot(data=df_nt_motif_1, x='motif', y='count', hue=attribute, dodge=True, size=6, linewidth=1)\n",
    "\n",
    "ax.set_xlabel('Nucleotide motif', fontsize=20)\n",
    "ax.set_ylabel('Count', fontsize=20)\n",
    "plt.xticks(fontsize=18, rotation=90)\n",
    "plt.yticks(fontsize=18)\n",
    "plt.setp(ax.get_legend().get_texts(), fontsize='20')\n",
    "plt.setp(ax.get_legend().get_title(), fontsize='20')\n",
    "sns.despine()\n",
    "\n",
    "plt.show()"
   ]
  }
 ],
 "metadata": {
  "accelerator": "GPU",
  "colab": {
   "collapsed_sections": [],
   "name": "Motif analysis_COVID.ipynb",
   "provenance": []
  },
  "kernelspec": {
   "display_name": "Python 3 (ipykernel)",
   "language": "python",
   "name": "python3"
  },
  "language_info": {
   "codemirror_mode": {
    "name": "ipython",
    "version": 3
   },
   "file_extension": ".py",
   "mimetype": "text/x-python",
   "name": "python",
   "nbconvert_exporter": "python",
   "pygments_lexer": "ipython3",
   "version": "3.7.4"
  }
 },
 "nbformat": 4,
 "nbformat_minor": 1
}

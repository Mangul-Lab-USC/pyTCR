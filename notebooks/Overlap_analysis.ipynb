{
  "nbformat": 4,
  "nbformat_minor": 2,
  "metadata": {
    "colab": {
      "name": "Overlap analysis.ipynb",
      "private_outputs": true,
      "provenance": [],
      "collapsed_sections": [],
      "machine_shape": "hm"
    },
    "kernelspec": {
      "name": "python3",
      "display_name": "Python 3.9.5 64-bit"
    },
    "language_info": {
      "codemirror_mode": {
        "name": "ipython",
        "version": 3
      },
      "file_extension": ".py",
      "mimetype": "text/x-python",
      "name": "python",
      "nbconvert_exporter": "python",
      "pygments_lexer": "ipython3",
      "version": "3.9.5"
    },
    "interpreter": {
      "hash": "57c187deae61c8a108dbbf3958c4133d34b5f0bc31abbe048fe1ab74e61d349f"
    }
  },
  "cells": [
    {
      "cell_type": "markdown",
      "source": [
        "Step 1 - Import python libraries"
      ],
      "metadata": {
        "id": "ClBuc_otp6yQ"
      }
    },
    {
      "cell_type": "code",
      "execution_count": null,
      "source": [
        "import numpy as np\n",
        "import seaborn as sns\n",
        "from matplotlib import pyplot as plt\n",
        "import pandas as pd\n"
      ],
      "outputs": [],
      "metadata": {
        "id": "YwO9mkpp5E5W"
      }
    },
    {
      "cell_type": "markdown",
      "source": [
        "Step 2 - Load and read the data file\n",
        "1.   Upload data file from Google drive and run the notebook in the cloud\n",
        "2.   Upload data file from local computer and run the notebook in the cloud\n",
        "3.   Load data file from local computer and run the notebook locally"
      ],
      "metadata": {
        "id": "gMyf_IuU95QY"
      }
    },
    {
      "cell_type": "markdown",
      "source": [
        "Step 2 - Option 1 - Upload data file from Google drive"
      ],
      "metadata": {
        "id": "fe_baTAVtpwg"
      }
    },
    {
      "cell_type": "code",
      "execution_count": null,
      "source": [
        "from google.colab import drive\n",
        "drive.mount('/content/drive')\n"
      ],
      "outputs": [],
      "metadata": {
        "id": "8Y4Y9S4ZtrIs"
      }
    },
    {
      "cell_type": "code",
      "execution_count": null,
      "source": [
        "# Edit the `dataPath` variable to the path to your data in Google Drive.\n",
        "dataPath = \"/content/drive/MyDrive/complete_COVID_samples.tsv\"\n",
        "\n",
        "df_samples = pd.read_table(dataPath, sep='\\t', low_memory=False, engine=\"c\")\n",
        "display(df_samples.head())\n"
      ],
      "outputs": [],
      "metadata": {
        "id": "QhEGf9Q_trr4"
      }
    },
    {
      "cell_type": "markdown",
      "source": [
        "Step 2 - Option 2 - Upload data file from local computer"
      ],
      "metadata": {
        "id": "ehgyzbnC5JCt"
      }
    },
    {
      "cell_type": "code",
      "execution_count": null,
      "source": [
        "from google.colab import files\n",
        "upload = files.upload()\n"
      ],
      "outputs": [],
      "metadata": {
        "id": "qNS_bvyP5IVo"
      }
    },
    {
      "cell_type": "code",
      "execution_count": null,
      "source": [
        "import io\n",
        "\n",
        "# Change `fileName` to the name of the file that you uploaded into Google Drive.\n",
        "filename = \"complete_COVID_samples.csv\"\n",
        "\n",
        "df_samples = pd.read_table(io.BytesIO(\n",
        "    upload[filename]), sep='\\t', low_memory=False, engine=\"c\")\n",
        "\n",
        "display(df_samples.head())\n"
      ],
      "outputs": [],
      "metadata": {
        "id": "tQ3Z5CQL5S4a"
      }
    },
    {
      "cell_type": "markdown",
      "source": [
        "Step 2 - Option 3 - Run the notebook locally (refer here for how to connect to local runtime https://research.google.com/colaboratory/local-runtimes.html)"
      ],
      "metadata": {
        "id": "K32Hy0ew-OqE"
      }
    },
    {
      "cell_type": "code",
      "execution_count": null,
      "source": [
        "# Edit the `dataPath` variable to set the path to your local data.\n",
        "dataPath = \"../../../../Documents/complete_COVID_samples.tsv\"\n",
        "\n",
        "df_samples = pd.read_table(dataPath, sep='\\t', low_memory=False, engine=\"c\")\n",
        "\n",
        "display(df_samples.head())\n"
      ],
      "outputs": [],
      "metadata": {
        "id": "bPwtHdA2-NNB"
      }
    },
    {
      "cell_type": "markdown",
      "source": [
        "Step 3 - Create the standardized format (column content and column names)\n",
        "1.   Sample name (sample)\n",
        "2.   Clone frequency (freq)\n",
        "3.   Clone reads count (#count)\n",
        "4.   CDR3 amino acid clonotype (cdr3aa)\n",
        "5.   CDR3 nucleotide (cdr3nt)\n",
        "6.   V gene (v)\n",
        "7.   D gene (d)\n",
        "8.   J gene (j)\n",
        "9.   Optional - Sample feature (here we use hospitalization as the clinical feature)"
      ],
      "metadata": {
        "id": "8C662indqNti"
      }
    },
    {
      "cell_type": "code",
      "execution_count": null,
      "source": [
        "# select the columns that are listed above\n",
        "df_samples = df_samples[['sample', 'frequency', 'templates', 'amino_acid',\n",
        "                         'rearrangement', 'v_resolved', 'd_resolved', 'j_resolved', 'hospitalized']]\n",
        "\n",
        "# rename the columns\n",
        "df_samples.columns = ['sample', 'freq', '#count',\n",
        "                      'cdr3aa', 'cdr3nt', 'v', 'd', 'j', 'hospitalization']\n",
        "display(df_samples.head())\n"
      ],
      "outputs": [],
      "metadata": {
        "id": "QJ5U32KSMfjQ"
      }
    },
    {
      "cell_type": "markdown",
      "source": [
        "Prepare two dataframes for merging and analyzing the overlapping"
      ],
      "metadata": {
        "id": "AKQQm9aOs6OT"
      }
    },
    {
      "cell_type": "code",
      "execution_count": null,
      "source": [
        "# if there are more than one V or J gene, leave only the first one\n",
        "df_samples['v'].str.replace(\"(,).*\", \"\", regex=True)\n",
        "df_samples['j'].str.replace(\"(,).*\", \"\", regex=True)\n",
        "\n",
        "df_compare = pd.merge(df_samples, df_samples, on=[\n",
        "                      'cdr3nt', 'cdr3aa', 'v', 'd', 'j'], suffixes=['_1', '_2'])\n",
        "\n",
        "df_compare['#count_1**2'] = df_compare['#count_1'] * df_compare['#count_1']\n",
        "df_compare['#count_2**2'] = df_compare['#count_2'] * df_compare['#count_2']\n",
        "df_compare['#count_1*2'] = df_compare['#count_1'] * df_compare['#count_2']\n",
        "\n",
        "# Prepare data for future analysis\n",
        "sample_names = df_samples[\"sample\"].drop_duplicates()\n",
        "sample_names_size = sample_names.size\n",
        "sample_names.index = np.arange(0, sample_names_size)\n",
        "\n",
        "samples = {}\n",
        "\n",
        "for sample in sample_names:\n",
        "    filtered_samples = df_samples.loc[(df_samples['sample'] == sample)]\n",
        "    samples[sample] = filtered_samples\n"
      ],
      "outputs": [],
      "metadata": {
        "id": "wUWOjeuOs1EF"
      }
    },
    {
      "cell_type": "code",
      "execution_count": null,
      "source": [
        "# Compute and store pairwise sample overlaps for quick lookup\n",
        "df_overlaps = {}\n",
        "\n",
        "for i in range(0, sample_names_size):\n",
        "    sample1 = sample_names[i]\n",
        "\n",
        "    df_compare1 = (df_compare['sample_1'] == sample1)\n",
        "\n",
        "    for j in range(i + 1, sample_names_size):\n",
        "        sample2 = sample_names[j]\n",
        "\n",
        "        df_compare2 = (df_compare['sample_2'] == sample2)\n",
        "\n",
        "        df_rows = df_compare.loc[df_compare1 & df_compare2]\n",
        "        df_overlaps[f'{sample1}:{sample2}'] = df_rows\n"
      ],
      "outputs": [],
      "metadata": {
        "id": "CE3xi-JdzCWJ"
      }
    },
    {
      "cell_type": "markdown",
      "source": [
        "Overlap analysis 1.1 - Jaccard index (result table)"
      ],
      "metadata": {
        "id": "GagTxF8vwlHX"
      }
    },
    {
      "cell_type": "code",
      "execution_count": null,
      "source": [
        "# create an empty dataframe for storing results\n",
        "columns = ['sample_1', 'sample_2', 'jaccard_index']\n",
        "df_jaccard_index = pd.DataFrame(columns=columns)\n",
        "\n",
        "for i in range(0, sample_names_size):\n",
        "    sample1 = sample_names[i]\n",
        "    df_sample1 = samples[sample1]\n",
        "\n",
        "    data = []\n",
        "\n",
        "    for j in range(i + 1, sample_names_size):\n",
        "        sample2 = sample_names[j]\n",
        "        df_sample2 = samples[sample2]\n",
        "\n",
        "        jaccard_overlap = df_overlaps[f'{sample1}:{sample2}'].shape[0]\n",
        "\n",
        "        # Calculate Jaccard Index\n",
        "        jaccard = jaccard_overlap / \\\n",
        "            (df_sample1.shape[0] + df_sample2.shape[0] - jaccard_overlap)\n",
        "\n",
        "        data.append({'sample_1': sample1, 'sample_2': sample2,\n",
        "                    'jaccard_index': jaccard})\n",
        "        data.append({'sample_1': sample2, 'sample_2': sample1,\n",
        "                    'jaccard_index': jaccard})\n",
        "\n",
        "    df_data = pd.DataFrame(data, index=np.zeros(len(data), dtype=int))\n",
        "    df_jaccard_index = pd.concat([df_jaccard_index, df_data])\n",
        "\n",
        "df_jaccard_index\n"
      ],
      "outputs": [],
      "metadata": {
        "id": "9BABDgwvwkGJ",
        "scrolled": true
      }
    },
    {
      "cell_type": "markdown",
      "source": [
        "Overlap analysis 1.2 - Jaccard index (heatmap)"
      ],
      "metadata": {
        "id": "4Jr_Axi3fxLr"
      }
    },
    {
      "cell_type": "code",
      "execution_count": null,
      "source": [
        "# set aesthetics\n",
        "plt.style.use(['ggplot', 'seaborn-white'])\n",
        "plt.figure(figsize=(40, 25))\n",
        "sns.set_style(\"white\")\n",
        "sns.set_context(\"talk\")\n",
        "\n",
        "# Generate axes\n",
        "df_jaccard_index['jaccard_index'] = df_jaccard_index['jaccard_index'].astype(\n",
        "    float)\n",
        "\n",
        "result = df_jaccard_index.pivot(\n",
        "    index='sample_2', columns='sample_1', values='jaccard_index')\n",
        "\n",
        "ax = sns.heatmap(result, cmap='coolwarm')\n",
        "ax.set_xlabel('sample_1', fontsize=25)\n",
        "ax.set_ylabel('sample_2', fontsize=25)\n",
        "sns.despine()\n",
        "bottom, top = ax.get_ylim()\n",
        "ax.set_ylim(bottom + 0.5, top - 0.5)\n",
        "\n",
        "plt.title('jaccard_index', fontsize=30)\n"
      ],
      "outputs": [],
      "metadata": {
        "id": "ZHrXdTT_p9Mp"
      }
    },
    {
      "cell_type": "markdown",
      "source": [
        "Overlap analysis 2.1 - Overlap coefficient (result table)"
      ],
      "metadata": {
        "id": "kOWoMVRmDWkk"
      }
    },
    {
      "cell_type": "code",
      "execution_count": null,
      "source": [
        "# create an empty dataframe for storing results\n",
        "columns = ['sample_1', 'sample_2', 'overlap_coefficient']\n",
        "df_overlap_coefficient = pd.DataFrame(columns=columns)\n",
        "\n",
        "for i in range(0, sample_names_size):\n",
        "    sample1 = sample_names[i]\n",
        "    df_sample1 = samples[sample2]\n",
        "\n",
        "    data = []\n",
        "\n",
        "    for j in range(i + 1, sample_names_size):\n",
        "        sample2 = sample_names[j]\n",
        "        df_sample2 = samples[sample2]\n",
        "\n",
        "        sample_overlap = df_overlaps[f'{sample1}:{sample2}']\n",
        "\n",
        "        # Calculate Overlap Coefficient\n",
        "        overlap_coefficient = sample_overlap.shape[0] / \\\n",
        "            min(df_sample1.shape[0], df_sample2.shape[0])\n",
        "\n",
        "        data.append({'sample_1': sample1, 'sample_2': sample2,\n",
        "                    'overlap_coefficient': overlap_coefficient})\n",
        "        data.append({'sample_1': sample2, 'sample_2': sample1,\n",
        "                    'overlap_coefficient': overlap_coefficient})\n",
        "\n",
        "    df_data = pd.DataFrame(data, index=np.zeros(len(data), dtype=int))\n",
        "    df_overlap_coefficient = pd.concat([df_overlap_coefficient, df_data])\n",
        "\n",
        "display(df_overlap_coefficient)\n"
      ],
      "outputs": [],
      "metadata": {
        "id": "baPRCe3YC-OW"
      }
    },
    {
      "cell_type": "markdown",
      "source": [
        "Overlap analysis 2.2 - Overlap coefficient (heatmap)"
      ],
      "metadata": {
        "id": "49A89NDpzUdw"
      }
    },
    {
      "cell_type": "code",
      "execution_count": null,
      "source": [
        "# Set aesthetics\n",
        "plt.style.use(['ggplot', 'seaborn-white'])\n",
        "plt.figure(figsize=(40, 25))\n",
        "sns.set_style(\"white\")\n",
        "sns.set_context(\"talk\")\n",
        "\n",
        "# Generate axes\n",
        "df_overlap_coefficient['overlap_coefficient'] = df_overlap_coefficient['overlap_coefficient'].astype(\n",
        "    float)\n",
        "\n",
        "result = df_overlap_coefficient.pivot(\n",
        "    index='sample_2', columns='sample_1', values='overlap_coefficient')\n",
        "\n",
        "ax = sns.heatmap(result, cmap='coolwarm')\n",
        "ax.set_xlabel('sample1', fontsize=20)\n",
        "ax.set_ylabel('sample2', fontsize=20)\n",
        "sns.despine()\n",
        "bottom, top = ax.get_ylim()\n",
        "ax.set_ylim(bottom + 0.5, top - 0.5)\n",
        "\n",
        "plt.title('Overlap_coefficient')\n"
      ],
      "outputs": [],
      "metadata": {
        "id": "WCnWqYVNzUDX"
      }
    },
    {
      "cell_type": "markdown",
      "source": [
        "Overlap analysis 3.1 - Morisita-Horn index (result table)"
      ],
      "metadata": {
        "id": "ONRNz3-Ys0kI"
      }
    },
    {
      "cell_type": "code",
      "execution_count": null,
      "source": [
        "# create an empty dataframe for storing results\n",
        "columns = ['sample_1', 'sample_2', 'morisita_horn_index']\n",
        "df_morisita_horm_index = pd.DataFrame(columns=columns)\n",
        "\n",
        "for i in range(0, sample_names_size):\n",
        "    sample1 = sample_names[i]\n",
        "    df_sample1 = samples[sample1]\n",
        "\n",
        "    data = []\n",
        "\n",
        "    for j in range(i + 1, sample_names_size):\n",
        "        sample2 = sample_names[j]\n",
        "        df_sample2 = samples[sample2]\n",
        "\n",
        "        sum_sample_1_count = df_sample1[\"#count\"].sum()\n",
        "        sum_sample_2_count = df_sample2[\"#count\"].sum()\n",
        "\n",
        "        sample_overlap = df_overlaps[f'{sample1}:{sample2}']\n",
        "\n",
        "        sum_sample_1 = sample_overlap[\"#count_1**2\"].sum()\n",
        "        sum_sample_2 = sample_overlap[\"#count_2**2\"].sum()\n",
        "\n",
        "        sum_count_product = sample_overlap[\"#count_1*2\"].sum()\n",
        "\n",
        "        # #calculate Morisita-Horn index\n",
        "        step1 = (sum_sample_1 / ((sum_sample_1_count)**2)) + \\\n",
        "            (sum_sample_2 / ((sum_sample_2_count)**2))\n",
        "        step2 = step1 * sum_sample_1_count * sum_sample_2_count\n",
        "        step3 = 2 * sum_count_product\n",
        "        morisita_horn_index = step3 / step2\n",
        "\n",
        "        # #store the results\n",
        "        data.append({'sample_1': sample1, 'sample_2': sample2,\n",
        "                    'morisita_horn_index': morisita_horn_index})\n",
        "        data.append({'sample_1': sample2, 'sample_2': sample1,\n",
        "                    'morisita_horn_index': morisita_horn_index})\n",
        "\n",
        "    df_data = pd.DataFrame(data, index=np.zeros(len(data), dtype=int))\n",
        "    df_morisita_horm_index = pd.concat(\n",
        "        [df_morisita_horm_index, df_data], copy=False)\n",
        "\n",
        "display(df_morisita_horm_index)\n"
      ],
      "outputs": [],
      "metadata": {
        "id": "4Ix4s6UL7MHb"
      }
    },
    {
      "cell_type": "markdown",
      "source": [
        "Overlap analysis 3.2 - Morisita-Horn index (heatmap)"
      ],
      "metadata": {
        "id": "taF2EURi8iMb"
      }
    },
    {
      "cell_type": "code",
      "execution_count": null,
      "source": [
        "# Set aesthetics\n",
        "plt.style.use(['ggplot', 'seaborn-white'])\n",
        "plt.figure(figsize=(40, 25))\n",
        "sns.set_style(\"white\")\n",
        "sns.set_context(\"talk\")\n",
        "\n",
        "# Generate axes\n",
        "df_morisita_horm_index['morisita_horn_index'] = df_morisita_horm_index['morisita_horn_index'].astype(\n",
        "    float)\n",
        "\n",
        "result = df_morisita_horm_index.pivot(\n",
        "    index='sample_2', columns='sample_1', values='morisita_horn_index')\n",
        "\n",
        "ax = sns.heatmap(result, cmap='coolwarm')\n",
        "ax.set_xlabel('sample_1', fontsize=20)\n",
        "ax.set_ylabel('sample_2', fontsize=20)\n",
        "sns.despine()\n",
        "bottom, top = ax.get_ylim()\n",
        "ax.set_ylim(bottom + 0.5, top - 0.5)\n",
        "\n",
        "plt.title('morisita_horn_index')\n"
      ],
      "outputs": [],
      "metadata": {
        "id": "UFPEdIAL8sco"
      }
    },
    {
      "cell_type": "markdown",
      "source": [
        "Overlap analysis 4.1 - Tversky index (result table)\n"
      ],
      "metadata": {
        "id": "6ZrYUwQJ8T-u"
      }
    },
    {
      "cell_type": "code",
      "execution_count": null,
      "source": [
        "columns = ['sample_1', 'sample_2', 'tversky_index']\n",
        "df_tversky_index = pd.DataFrame(columns=columns)\n",
        "\n",
        "for i in range(0, sample_names_size):\n",
        "    sample1 = sample_names[i]\n",
        "    df_sample1 = samples[sample1]\n",
        "\n",
        "    data = []\n",
        "\n",
        "    for j in range(i + 1, sample_names_size):\n",
        "        sample2 = sample_names[j]\n",
        "        df_sample2 = samples[sample2]\n",
        "\n",
        "        df_overlap = df_overlaps[f'{sample1}:{sample2}']\n",
        "\n",
        "        tversky_index = df_overlap.shape[0] / (df_overlap.shape[0] + 0.5 * (\n",
        "            df_sample1.shape[0] - df_overlap.shape[0]) + 0.5 * (df_sample2.shape[0] - df_overlap.shape[0]))\n",
        "\n",
        "        data.append({'sample_1': sample1, 'sample_2': sample2,\n",
        "                    'tversky_index': tversky_index})\n",
        "        data.append({'sample_1': sample2, 'sample_2': sample1,\n",
        "                    'tversky_index': tversky_index})\n",
        "\n",
        "    df_data = pd.DataFrame(data, index=np.zeros(len(data), dtype=int))\n",
        "    df_tversky_index = pd.concat([df_tversky_index, df_data], copy=False)\n",
        "\n",
        "display(df_tversky_index)\n"
      ],
      "outputs": [],
      "metadata": {
        "id": "M2cIhppiLdON"
      }
    },
    {
      "cell_type": "markdown",
      "source": [
        "Overlap analysis 4.2 - Tversky index (heatmap)"
      ],
      "metadata": {
        "id": "zviVjRBRXBTX"
      }
    },
    {
      "cell_type": "code",
      "execution_count": null,
      "source": [
        "#set aesthetics\n",
        "plt.style.use(['ggplot', 'seaborn-white'])\n",
        "plt.figure(figsize=(40,25))\n",
        "sns.set_style(\"white\")\n",
        "sns.set_context(\"talk\")\n",
        "\n",
        "#generate axes\n",
        "df_tversky_index['Tversky_index'] = df_tversky_index['tversky_index'].astype(float)\n",
        "result = df_tversky_index.pivot(index='sample_2',columns='sample_1',values='tversky_index')\n",
        "ax = sns.heatmap(result, cmap='coolwarm')\n",
        "ax.set_xlabel('sample_1',fontsize=20)\n",
        "ax.set_ylabel('sample_2',fontsize=20)\n",
        "sns.despine()\n",
        "bottom, top = ax.get_ylim()\n",
        "ax.set_ylim(bottom + 0.5, top - 0.5)\n",
        "\n",
        "plt.title('tversky_index')"
      ],
      "outputs": [],
      "metadata": {
        "id": "ML_AcDaRW7Hu"
      }
    },
    {
      "cell_type": "markdown",
      "source": [
        "Overlap analysis 5.1 - Cosine similarity (result table)"
      ],
      "metadata": {
        "id": "IzbXQvM58wiK"
      }
    },
    {
      "cell_type": "code",
      "execution_count": null,
      "source": [
        "from scipy.spatial.distance import cosine\n",
        "\n",
        "columns = ['sample_1', 'sample_2', 'cosine_similarity']\n",
        "df_cosine_similarity = pd.DataFrame(columns=columns)\n",
        "\n",
        "for i in range(0, sample_names_size):\n",
        "    sample1 = sample_names[i]\n",
        "    df_sample1 = samples[sample1]\n",
        "\n",
        "    data = []\n",
        "\n",
        "    for j in range(i + 1, sample_names_size):\n",
        "        sample2 = sample_names[j]\n",
        "        df_sample2 = samples[sample2]\n",
        "\n",
        "        df_overlap = df_overlaps[f'{sample1}:{sample2}']\n",
        "\n",
        "        cos_vec = (1 - cosine(df_overlap[\"freq_1\"], df_overlap[\"freq_2\"]))\n",
        "\n",
        "        data.append({'sample_1': sample1, 'sample_2': sample2,\n",
        "                    'cosine_similarity': cos_vec})\n",
        "        data.append({'sample_1': sample2, 'sample_2': sample1,\n",
        "                    'cosine_similarity': cos_vec})\n",
        "\n",
        "    df_data = pd.DataFrame(data, index=np.zeros(len(data), dtype=int))\n",
        "    df_cosine_similarity = pd.concat(\n",
        "        [df_cosine_similarity, df_data], copy=False)\n",
        "\n",
        "display(df_cosine_similarity)\n"
      ],
      "outputs": [],
      "metadata": {
        "id": "fomQJqyUL5w1"
      }
    },
    {
      "cell_type": "markdown",
      "source": [
        "Overlap analysis 5.2 - Cosine similarity (heatmap)"
      ],
      "metadata": {
        "id": "w3JKroLajNqF"
      }
    },
    {
      "cell_type": "code",
      "execution_count": null,
      "source": [
        "# set aesthetics\n",
        "plt.style.use(['ggplot', 'seaborn-white'])\n",
        "plt.figure(figsize=(40, 25))\n",
        "sns.set_style(\"white\")\n",
        "sns.set_context(\"talk\")\n",
        "\n",
        "# generate axes\n",
        "df_cosine_similarity['cosine_similarity'] = df_cosine_similarity['cosine_similarity'].astype(\n",
        "    float)\n",
        "\n",
        "result = df_cosine_similarity.pivot(\n",
        "    index='sample_2', columns='sample_1', values='cosine_similarity')\n",
        "\n",
        "ax = sns.heatmap(result, cmap='coolwarm')\n",
        "ax.set_xlabel('sample_1', fontsize=20)\n",
        "ax.set_ylabel('sample_2', fontsize=20)\n",
        "sns.despine()\n",
        "bottom, top = ax.get_ylim()\n",
        "ax.set_ylim(bottom + 0.5, top - 0.5)\n",
        "\n",
        "plt.title('cosine_similarity')\n"
      ],
      "outputs": [],
      "metadata": {
        "id": "N-A2GN03jNSF"
      }
    },
    {
      "cell_type": "markdown",
      "source": [
        "Overlap analysis 6.1.1 - Pearson correlation based on clonotype counts (result table)"
      ],
      "metadata": {
        "id": "kzVyp4cqMYsP"
      }
    },
    {
      "cell_type": "code",
      "execution_count": null,
      "source": [
        "columns = ['sample_1', 'sample_2', 'pearson_correlation']\n",
        "df_pearson_correlation_count = pd.DataFrame(columns=columns)\n",
        "\n",
        "for i in range(0, sample_names_size):\n",
        "    sample1 = sample_names[i]\n",
        "\n",
        "    data = []\n",
        "\n",
        "    for j in range(i + 1, sample_names_size):\n",
        "        sample2 = sample_names[j]\n",
        "\n",
        "        df_overlap = df_overlaps[f'{sample1}:{sample2}']\n",
        "\n",
        "        pearson_correlation = df_overlap['#count_1'].corr(\n",
        "            df_overlap['#count_2'])\n",
        "\n",
        "        data.append({'sample_1': sample1, 'sample_2': sample2,\n",
        "                    'pearson_correlation': pearson_correlation})\n",
        "        data.append({'sample_1': sample2, 'sample_2': sample1,\n",
        "                    'pearson_correlation': pearson_correlation})\n",
        "\n",
        "    df_data = pd.DataFrame(data, index=np.zeros(len(data), dtype=int))\n",
        "    df_pearson_correlation_count = pd.concat(\n",
        "        [df_pearson_correlation_count, df_data], copy=False)\n",
        "\n",
        "display(df_pearson_correlation_count)\n"
      ],
      "outputs": [],
      "metadata": {
        "id": "eG8zHhuSMUmM"
      }
    },
    {
      "cell_type": "markdown",
      "source": [
        "Overlap analysis 6.1.2 - Pearson correlation based on clonotype counts (heatmap)"
      ],
      "metadata": {
        "id": "C5zYarzIr8GS"
      }
    },
    {
      "cell_type": "code",
      "execution_count": null,
      "source": [
        "# set aesthetics\n",
        "plt.style.use(['ggplot', 'seaborn-white'])\n",
        "plt.figure(figsize=(40, 25))\n",
        "sns.set_style(\"white\")\n",
        "sns.set_context(\"talk\")\n",
        "\n",
        "# generate axes\n",
        "df_pearson_correlation_count['pearson_correlation'] = df_pearson_correlation_count['pearson_correlation'].astype(\n",
        "    float)\n",
        "\n",
        "result = df_pearson_correlation_count.pivot(\n",
        "    index='sample_2', columns='sample_1', values='pearson_correlation')\n",
        "\n",
        "ax = sns.heatmap(result, cmap='coolwarm')\n",
        "ax.set_xlabel('sample1', fontsize=20)\n",
        "ax.set_ylabel('sample2', fontsize=20)\n",
        "sns.despine()\n",
        "bottom, top = ax.get_ylim()\n",
        "ax.set_ylim(bottom + 0.5, top - 0.5)\n",
        "\n",
        "plt.title('pearson_correlation')\n"
      ],
      "outputs": [],
      "metadata": {
        "id": "qkBKumixsIFy"
      }
    },
    {
      "cell_type": "markdown",
      "source": [
        "Overlap analysis 6.2.1 - Pearson correlation based on clonotype frequency (result table)"
      ],
      "metadata": {
        "id": "hBTsF_j9sTfs"
      }
    },
    {
      "cell_type": "code",
      "execution_count": null,
      "source": [
        "columns = ['sample_1', 'sample_2', 'pearson_correlation']\n",
        "df_pearson_correlation_freq = pd.DataFrame(columns=columns)\n",
        "\n",
        "for i in range(0, sample_names_size):\n",
        "    sample1 = sample_names[i]\n",
        "\n",
        "    data = []\n",
        "\n",
        "    for j in range(i + 1, sample_names_size):\n",
        "        sample2 = sample_names[j]\n",
        "\n",
        "        df_overlap = df_overlaps[f'{sample1}:{sample2}']\n",
        "\n",
        "        pearson_correlation_freq = df_overlap['freq_1'].corr(\n",
        "            df_overlap['freq_2'])\n",
        "\n",
        "        data.append({'sample_1': sample1, 'sample_2': sample2,\n",
        "                    'pearson_correlation': pearson_correlation_freq})\n",
        "        data.append({'sample_1': sample2, 'sample_2': sample1,\n",
        "                    'pearson_correlation': pearson_correlation_freq})\n",
        "\n",
        "    df_data = pd.DataFrame(data, index=np.zeros(len(data), dtype=int))\n",
        "    df_pearson_correlation_freq = pd.concat(\n",
        "        [df_pearson_correlation_freq, df_data], copy=False)\n",
        "\n",
        "display(df_pearson_correlation_freq)\n"
      ],
      "outputs": [],
      "metadata": {
        "id": "pSW4AlSEsTKe"
      }
    },
    {
      "cell_type": "markdown",
      "source": [
        "Overlap analysis 6.2.2 - Pearson correlation based on clonotype frequency (heatmap)"
      ],
      "metadata": {
        "id": "ogxtFdiIsS61"
      }
    },
    {
      "cell_type": "code",
      "execution_count": null,
      "source": [
        "# set aesthetics\n",
        "plt.style.use(['ggplot', 'seaborn-white'])\n",
        "plt.figure(figsize=(40, 25))\n",
        "sns.set_style(\"white\")\n",
        "sns.set_context(\"talk\")\n",
        "\n",
        "# generate axes\n",
        "df_pearson_correlation_freq['pearson_correlation'] = df_pearson_correlation_freq['pearson_correlation'].astype(\n",
        "    float)\n",
        "result = df_pearson_correlation_freq.pivot(\n",
        "    index='sample_2', columns='sample_1', values='pearson_correlation')\n",
        "ax = sns.heatmap(result, cmap='coolwarm')\n",
        "ax.set_xlabel('sample_1', fontsize=20)\n",
        "ax.set_ylabel('sample_2', fontsize=20)\n",
        "sns.despine()\n",
        "bottom, top = ax.get_ylim()\n",
        "ax.set_ylim(bottom + 0.5, top - 0.5)\n",
        "\n",
        "plt.title('pearson_correlation')\n"
      ],
      "outputs": [],
      "metadata": {
        "id": "tk7KUnEO0bww"
      }
    },
    {
      "cell_type": "markdown",
      "source": [
        "Overlap analysis 7.1 - Relative overlap diversity (result table)"
      ],
      "metadata": {
        "id": "zkap3-N_NDQq"
      }
    },
    {
      "cell_type": "code",
      "execution_count": null,
      "source": [
        "columns = ['sample_1', 'sample_2', 'relative_overlap_diversity']\n",
        "df_relative_overlap_diversity = pd.DataFrame(columns=columns)\n",
        "\n",
        "for i in range(0, sample_names_size):\n",
        "    sample1 = sample_names[i]\n",
        "    df_sample1 = samples[sample1]\n",
        "\n",
        "    data = []\n",
        "\n",
        "    for j in range(i + 1, sample_names_size):\n",
        "        sample2 = sample_names[j]\n",
        "        df_sample2 = samples[sample2]\n",
        "\n",
        "        df_overlap = df_overlaps[f'{sample1}:{sample2}']\n",
        "\n",
        "        relative_overlap_diversity = df_overlap.shape[0] / (\n",
        "            df_sample1.shape[0] * df_sample2.shape[0])\n",
        "\n",
        "        data.append({'sample_1': sample1, 'sample_2': sample2,\n",
        "                    'relative_overlap_diversity': relative_overlap_diversity})\n",
        "        data.append({'sample_1': sample2, 'sample_2': sample1,\n",
        "                    'relative_overlap_diversity': relative_overlap_diversity})\n",
        "\n",
        "    df_data = pd.DataFrame(data, index=np.zeros(len(data), dtype=int))\n",
        "    df_relative_overlap_diversity = pd.concat(\n",
        "        [df_relative_overlap_diversity, df_data], copy=False)\n",
        "\n",
        "display(df_relative_overlap_diversity)\n"
      ],
      "outputs": [],
      "metadata": {
        "id": "vbVPlnAANDv5"
      }
    },
    {
      "cell_type": "markdown",
      "source": [
        "Overlap analysis 7.2 - Relative overlap diversity (heatmap)"
      ],
      "metadata": {
        "id": "1sI5YLafBYvA"
      }
    },
    {
      "cell_type": "code",
      "execution_count": null,
      "source": [
        "# set aesthetics\n",
        "plt.style.use(['ggplot', 'seaborn-white'])\n",
        "plt.figure(figsize=(40, 25))\n",
        "sns.set_style(\"white\")\n",
        "sns.set_context(\"talk\")\n",
        "\n",
        "# generate axes\n",
        "df_relative_overlap_diversity['relative_overlap_diversity'] = df_relative_overlap_diversity['relative_overlap_diversity'].astype(\n",
        "    float)\n",
        "result = df_relative_overlap_diversity.pivot(\n",
        "    index='sample_2', columns='sample_1', values='relative_overlap_diversity')\n",
        "ax = sns.heatmap(result, cmap='coolwarm')\n",
        "ax.set_xlabel('non-hospitalized samples', fontsize=20)\n",
        "ax.set_ylabel('hospitalized samples', fontsize=20)\n",
        "sns.despine()\n",
        "bottom, top = ax.get_ylim()\n",
        "ax.set_ylim(bottom + 0.5, top - 0.5)\n",
        "\n",
        "plt.title('relative_overlap_diversity')\n"
      ],
      "outputs": [],
      "metadata": {
        "id": "1i6PPfzsBf6v"
      }
    },
    {
      "cell_type": "markdown",
      "source": [
        "Overlap analysis 8.1 - Geometric mean of relative overlap frequencies (result table)"
      ],
      "metadata": {
        "id": "c5ixf7S_Na0L"
      }
    },
    {
      "cell_type": "code",
      "execution_count": null,
      "source": [
        "columns = ['sample_1', 'sample_2',\n",
        "           'geometric_mean_of_relative_overlap_frequencies']\n",
        "\n",
        "df_geometric_mean_of_relative_overlap_frequencies = pd.DataFrame(\n",
        "    columns=columns)\n",
        "\n",
        "for i in range(0, sample_names_size):\n",
        "    sample1 = sample_names[i]\n",
        "    df_sample1 = samples[sample1]\n",
        "\n",
        "    data = []\n",
        "\n",
        "    for j in range(i + 1, sample_names_size):\n",
        "        sample2 = sample_names[j]\n",
        "        df_sample2 = samples[sample2]\n",
        "\n",
        "        df_overlap = df_overlaps[f'{sample1}:{sample2}']\n",
        "\n",
        "        result = (df_overlap['freq_1'].sum() * df_overlap['freq_2'].sum())**0.5\n",
        "\n",
        "        data.append({'sample_1': sample1, 'sample_2': sample2,\n",
        "                    'geometric_mean_of_relative_overlap_frequencies': result})\n",
        "        data.append({'sample_1': sample2, 'sample_2': sample1,\n",
        "                    'geometric_mean_of_relative_overlap_frequencies': result})\n",
        "\n",
        "    df_data = pd.DataFrame(data, index=np.zeros(len(data), dtype=int))\n",
        "    df_geometric_mean_of_relative_overlap_frequencies = pd.concat(\n",
        "        [df_geometric_mean_of_relative_overlap_frequencies, df_data], copy=False)\n",
        "\n",
        "df_geometric_mean_of_relative_overlap_frequencies\n"
      ],
      "outputs": [],
      "metadata": {
        "id": "fAgzUCF7NcCC"
      }
    },
    {
      "cell_type": "markdown",
      "source": [
        "Overlap analysis 8.2 - Geometric mean of relative overlap frequencies (heatmap)"
      ],
      "metadata": {
        "id": "tfR6XFP7i-Px"
      }
    },
    {
      "cell_type": "code",
      "execution_count": null,
      "source": [
        "# set aesthetics\n",
        "plt.style.use(['ggplot', 'seaborn-white'])\n",
        "plt.figure(figsize=(40, 25))\n",
        "sns.set_style(\"white\")\n",
        "sns.set_context(\"talk\")\n",
        "\n",
        "# generate axes\n",
        "df_geometric_mean_of_relative_overlap_frequencies['geometric_mean_of_relative_overlap_frequencies'] = df_geometric_mean_of_relative_overlap_frequencies[\n",
        "    'geometric_mean_of_relative_overlap_frequencies'].astype(float)\n",
        "    \n",
        "result = df_geometric_mean_of_relative_overlap_frequencies.pivot(\n",
        "    index='sample_2', columns='sample_1', values='geometric_mean_of_relative_overlap_frequencies')\n",
        "    \n",
        "ax = sns.heatmap(result, cmap='coolwarm')\n",
        "ax.set_xlabel('sample_1', fontsize=20)\n",
        "ax.set_ylabel('sample_2', fontsize=20)\n",
        "sns.despine()\n",
        "bottom, top = ax.get_ylim()\n",
        "ax.set_ylim(bottom + 0.5, top - 0.5)\n",
        "\n",
        "plt.title('geometric_mean_of_relative_overlap_frequencies')\n"
      ],
      "outputs": [],
      "metadata": {
        "id": "7tjvgj0Mi9tj"
      }
    },
    {
      "cell_type": "markdown",
      "source": [
        "Overlap analysis 9.1 - Сlonotype-wise sum of geometric mean frequencies (result table)"
      ],
      "metadata": {
        "id": "9jUaOSf6NvZw"
      }
    },
    {
      "cell_type": "code",
      "execution_count": null,
      "source": [
        "columns = ['sample_1', 'sample_2',\n",
        "           'clonotype_wise_sum_of_geometric_mean_frequencies']\n",
        "\n",
        "df_clonotype_wise_sum_of_geometric_mean_frequencies = pd.DataFrame(\n",
        "    columns=columns)\n",
        "\n",
        "for i in range(0, sample_names_size):\n",
        "    sample1 = sample_names[i]\n",
        "\n",
        "    data = []\n",
        "\n",
        "    for j in range(i + 1, sample_names_size):\n",
        "        sample2 = sample_names[j]\n",
        "\n",
        "        df_overlap = df_overlaps[f'{sample1}:{sample2}']\n",
        "\n",
        "        result = ((df_overlap['freq_1']*df_overlap['freq_2'])**0.5).sum()\n",
        "\n",
        "        data.append({'sample_1': sample1, 'sample_2': sample2,\n",
        "                    'clonotype_wise_sum_of_geometric_mean_frequencies': result})\n",
        "        data.append({'sample_1': sample2, 'sample_2': sample1,\n",
        "                    'clonotype_wise_sum_of_geometric_mean_frequencies': result})\n",
        "\n",
        "    df_data = pd.DataFrame(data, index=np.zeros(len(data), dtype=int))\n",
        "    df_clonotype_wise_sum_of_geometric_mean_frequencies = pd.concat(\n",
        "        [df_clonotype_wise_sum_of_geometric_mean_frequencies, df_data], copy=False)\n",
        "\n",
        "df_clonotype_wise_sum_of_geometric_mean_frequencies\n"
      ],
      "outputs": [],
      "metadata": {
        "id": "Tn5LNbA0Nvlo"
      }
    },
    {
      "cell_type": "markdown",
      "source": [
        "Overlap analysis 9.2 - Clonotype-wise sum of geometric mean frequencies (heatmap)"
      ],
      "metadata": {
        "id": "QSqV1FvwqogJ"
      }
    },
    {
      "cell_type": "code",
      "execution_count": null,
      "source": [
        "# set aesthetics\n",
        "plt.style.use(['ggplot', 'seaborn-white'])\n",
        "plt.figure(figsize=(40, 25))\n",
        "sns.set_style(\"white\")\n",
        "sns.set_context(\"talk\")\n",
        "\n",
        "# generate axes\n",
        "df_clonotype_wise_sum_of_geometric_mean_frequencies['clonotype_wise_sum_of_geometric_mean_frequencies'] = df_clonotype_wise_sum_of_geometric_mean_frequencies[\n",
        "    'clonotype_wise_sum_of_geometric_mean_frequencies'].astype(float)\n",
        "result = df_clonotype_wise_sum_of_geometric_mean_frequencies.pivot(\n",
        "    index='sample_2', columns='sample_1', values='clonotype_wise_sum_of_geometric_mean_frequencies')\n",
        "ax = sns.heatmap(result, cmap='coolwarm')\n",
        "ax.set_xlabel('sample_1', fontsize=20)\n",
        "ax.set_ylabel('sample_2', fontsize=20)\n",
        "sns.despine()\n",
        "bottom, top = ax.get_ylim()\n",
        "ax.set_ylim(bottom + 0.5, top - 0.5)\n",
        "\n",
        "plt.title('clonotype_wise_sum_of_geometric_mean_frequencies')\n"
      ],
      "outputs": [],
      "metadata": {
        "id": "BaOfJb47qyxq"
      }
    },
    {
      "cell_type": "markdown",
      "source": [
        "Overlap analysis 10.1 - Jensen-Shannon divergence of variable segment usage distributions (result table)"
      ],
      "metadata": {
        "id": "dRo4lAkROJHg"
      }
    },
    {
      "cell_type": "code",
      "execution_count": null,
      "source": [
        "columns = ['sample_1', 'sample_2', 'jensen_shannon_divergence']\n",
        "df_jensen_shannon_divergence = pd.DataFrame(columns=columns)\n",
        "\n",
        "\n",
        "def kl_divergence(p, q):\n",
        "    return -np.sum(p * np.log2(q / p))\n",
        "\n",
        "\n",
        "def js_divergence(p, q):\n",
        "    m = (1 / 2) * (p + q)\n",
        "    return (1 / 2) * kl_divergence(p, m) + (1 / 2) * kl_divergence(q, m)\n",
        "\n",
        "\n",
        "for i in range(0, sample_names_size):\n",
        "    sample1 = sample_names[i]\n",
        "    df_sample1 = samples[sample1]\n",
        "\n",
        "    data = []\n",
        "\n",
        "    for j in range(i + 1, sample_names_size):\n",
        "        sample2 = sample_names[j]\n",
        "        df_sample2 = samples[sample2]\n",
        "\n",
        "        df_sample1_v = df_sample1.groupby(['v'], as_index=False)[\n",
        "            'freq'].agg({'sumfreq_1': 'sum'})\n",
        "        df_sample2_v = df_sample2.groupby(['v'], as_index=False)[\n",
        "            'freq'].agg({'sumfreq_2': 'sum'})\n",
        "\n",
        "        df_JSD_combine = pd.merge(df_sample1_v, df_sample2_v, on=['v'])\n",
        "\n",
        "        JSD_sample1 = df_JSD_combine[['sumfreq_1']].to_numpy()\n",
        "        JSD_sample2 = df_JSD_combine[['sumfreq_2']].to_numpy()\n",
        "\n",
        "        result = js_divergence(JSD_sample1, JSD_sample2)\n",
        "\n",
        "        data.append({'sample_1': sample1, 'sample_2': sample2,\n",
        "                    'jensen_shannon_divergence': result})\n",
        "        data.append({'sample_1': sample2, 'sample_2': sample1,\n",
        "                    'jensen_shannon_divergence': result})\n",
        "\n",
        "    df_data = pd.DataFrame(data, index=np.zeros(len(data), dtype=int))\n",
        "    df_jensen_shannon_divergence = pd.concat(\n",
        "        [df_jensen_shannon_divergence, df_data], copy=False)\n",
        "\n",
        "display(df_jensen_shannon_divergence)\n"
      ],
      "outputs": [],
      "metadata": {
        "id": "lyK-8BWROKmM"
      }
    },
    {
      "cell_type": "markdown",
      "source": [
        "Overlap analysis 10.2 - Jensen-Shannon divergence of variable segment usage distributions (heatmap)"
      ],
      "metadata": {
        "id": "lRJh1H2oyXNV"
      }
    },
    {
      "cell_type": "code",
      "execution_count": null,
      "source": [
        "# set aesthetics\n",
        "plt.style.use(['ggplot', 'seaborn-white'])\n",
        "plt.figure(figsize=(40, 25))\n",
        "sns.set_style(\"white\")\n",
        "sns.set_context(\"talk\")\n",
        "\n",
        "# generate axes\n",
        "df_jensen_shannon_divergence['jensen_shannon_divergence'] = df_jensen_shannon_divergence['jensen_shannon_divergence'].astype(\n",
        "    float)\n",
        "\n",
        "result = df_jensen_shannon_divergence.pivot(\n",
        "    index='sample_2', columns='sample_1', values='jensen_shannon_divergence')\n",
        "    \n",
        "ax = sns.heatmap(result, cmap='coolwarm')\n",
        "ax.set_xlabel('sample_1', fontsize=20)\n",
        "ax.set_ylabel('sample_2', fontsize=20)\n",
        "sns.despine()\n",
        "bottom, top = ax.get_ylim()\n",
        "ax.set_ylim(bottom + 0.5, top - 0.5)\n",
        "\n",
        "plt.title('jensen_shannon_divergence')\n"
      ],
      "outputs": [],
      "metadata": {
        "id": "njgjNSUiyUdh"
      }
    }
  ]
}
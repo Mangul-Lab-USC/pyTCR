{
  "cells": [
    {
      "cell_type": "markdown",
      "metadata": {
        "id": "G6w9reOwaQEN"
      },
      "source": [
        "Step 1 - Import python libraries"
      ]
    },
    {
      "cell_type": "code",
      "execution_count": null,
      "metadata": {
        "colab": {
          "base_uri": "https://localhost:8080/"
        },
        "id": "tIK3K5EGmMv7",
        "outputId": "308dd0a0-5eff-4de0-9426-160e536eef91"
      },
      "outputs": [],
      "source": [
        "%pip install IPython\n",
        "%pip install matplotlib\n",
        "%pip install pandas\n",
        "%pip install seaborn\n",
        "%pip install scipy\n",
        "%pip install holoviews\n",
        "\n",
        "from IPython import get_ipython\n",
        "import matplotlib.pyplot as plt\n",
        "import pandas as pd\n",
        "import seaborn as sns\n",
        "from scipy import stats\n",
        "\n",
        "import holoviews as hv\n",
        "\n",
        "pd.options.mode.chained_assignment = None\n"
      ]
    },
    {
      "cell_type": "markdown",
      "metadata": {
        "id": "5IyV86-CnlWI"
      },
      "source": [
        "Step 2 - Load and read your data file\n",
        "- pyTCR accepts a single `.tsv` file that should contain all the samples.\n",
        "  - The following cell attempts to detect whether you are running the notebook in a Google Colab cloud environment or in a local environment, and then loads the data at the specified path.\n",
        "- The `filePath` variable in the following code cell should be changed to the location of your file. The following options are supported:\n",
        "  1. A `filePath` from Google Drive (to run on a cloud environment)\n",
        "  2. A `filePath` from your local computer (to run on a local environment, other cloud environments should work as expected)\n",
        "- The `data_adapter` notebook can be used to convert the data into the correct format for pyTCR to read."
      ]
    },
    {
      "cell_type": "code",
      "execution_count": null,
      "metadata": {
        "colab": {
          "base_uri": "https://localhost:8080/"
        },
        "id": "Z13kHPGsUESM",
        "outputId": "c27f462c-c9c2-4d7d-855c-8940a4b631ca"
      },
      "outputs": [],
      "source": [
        "# Specify the path to your data in Google Drive or locally\n",
        "filePath = \"/content/drive/MyDrive/complete_COVID_samples.tsv\"\n",
        "\n",
        "isInGoogle = 'google.colab' in str(get_ipython())\n",
        "\n",
        "if isInGoogle:\n",
        "    from google.colab import drive\n",
        "    drive.mount('/content/drive')\n",
        "\n",
        "df = pd.read_table(filePath, low_memory=False, engine=\"c\")\n",
        "\n",
        "df.head()\n"
      ]
    },
    {
      "cell_type": "markdown",
      "metadata": {
        "id": "tpdF9xQlbB25"
      },
      "source": [
        "Usage analysis 1 - Top n highest clonotypes \n",
        "\n",
        "1.   change the number in the tail () to the number that you are interested in \n",
        "\n"
      ]
    },
    {
      "cell_type": "code",
      "execution_count": null,
      "metadata": {
        "colab": {
          "base_uri": "https://localhost:8080/",
          "height": 419
        },
        "id": "ivQVcYyFcVB7",
        "outputId": "47678e89-2a10-41e2-ef5c-c4a0ccab0b57"
      },
      "outputs": [],
      "source": [
        "df1=df.sort_values(['sample', 'freq'], axis=0).groupby('sample').tail(10)\n",
        "df1 = df1[['freq', 'cdr3aa', 'sample', 'hospitalization']]\n",
        "df1"
      ]
    },
    {
      "cell_type": "markdown",
      "metadata": {
        "id": "44ZGh5eldXZN"
      },
      "source": [
        "Usage analysis 2 - Bottom n lowest clonotypes \n",
        "\n",
        "1.   change the number in the head () to the number that you are interested in \n",
        "\n"
      ]
    },
    {
      "cell_type": "code",
      "execution_count": null,
      "metadata": {
        "colab": {
          "base_uri": "https://localhost:8080/",
          "height": 419
        },
        "id": "c3MVX6kCcejC",
        "outputId": "cd1cbd12-8b1c-4657-c004-1fb24859fc22"
      },
      "outputs": [],
      "source": [
        "df2=df.sort_values(['sample', 'freq'], axis=0).groupby('sample').head(10)\n",
        "df2=df2[['freq', 'cdr3aa', 'sample', 'hospitalization']]\n",
        "df2"
      ]
    },
    {
      "cell_type": "markdown",
      "metadata": {
        "id": "Koij1kASeqwS"
      },
      "source": [
        "Usage analysis 3 - Top n highest V gene (D gene, J gene)\n",
        "1.   change the number in the tail () to the number that you are interested in \n",
        "2.   change 'v' to other genes that you are interested in"
      ]
    },
    {
      "cell_type": "code",
      "execution_count": null,
      "metadata": {
        "colab": {
          "base_uri": "https://localhost:8080/",
          "height": 419
        },
        "id": "DFCfR_jUfb6N",
        "outputId": "9fec27b7-4c63-46ba-e210-274b17607f75"
      },
      "outputs": [],
      "source": [
        "df3 = df[['freq', 'v', 'sample','hospitalization']]\n",
        "df3=df3.sort_values(['sample','freq'], axis=0).groupby('sample').tail(10)\n",
        "df3"
      ]
    },
    {
      "cell_type": "markdown",
      "metadata": {
        "id": "Nr0z890agL4h"
      },
      "source": [
        "Usage analysis 4 - Bottom n lowest V gene (D gene, J gene)\n",
        "\n",
        "1.   change the number in the head () to the number that you are interested in \n",
        "2.   change 'v' to other genes that you are interested in\n"
      ]
    },
    {
      "cell_type": "code",
      "execution_count": null,
      "metadata": {
        "colab": {
          "base_uri": "https://localhost:8080/",
          "height": 419
        },
        "id": "xP8tr3OYgRd1",
        "outputId": "cda7e53d-2383-4fc3-b5ef-011d81bb12f0"
      },
      "outputs": [],
      "source": [
        "df4 = df[['freq', 'v', 'sample','hospitalization']]\n",
        "df4 = df4.sort_values(['sample','freq'], axis=0).groupby('sample').head(10)\n",
        "df4"
      ]
    },
    {
      "cell_type": "markdown",
      "metadata": {
        "id": "yItiW3jUgwDM"
      },
      "source": [
        "Usage analysis 5.1 - V gene weighted usage (D gene, J gene)\n",
        "1.   change 'v' to other genes that you are interested in"
      ]
    },
    {
      "cell_type": "code",
      "execution_count": null,
      "metadata": {
        "colab": {
          "base_uri": "https://localhost:8080/",
          "height": 419
        },
        "id": "JkfisEn9mhTV",
        "outputId": "46ffd70b-0d26-444e-c303-2165803efb8c"
      },
      "outputs": [],
      "source": [
        "df_frequency=df.groupby(['sample','v','hospitalization'], as_index=False)['freq'].agg({'frequency':'sum'})\n",
        "df_frequency"
      ]
    },
    {
      "cell_type": "markdown",
      "metadata": {
        "id": "p2FBxGrfqlhN"
      },
      "source": [
        "Usage analysis 5.1.1 - Test if the dataset is normally distributed\n",
        "1.  the null hypothesis here is normality\n",
        "2.  if the p value is greater than 0.05, we cannot reject the null hypothesis (it is a normal distribution). If the p value is smaller than 0.05, we reject the null hypothesis (it is not a normal distribution)"
      ]
    },
    {
      "cell_type": "code",
      "execution_count": null,
      "metadata": {
        "colab": {
          "base_uri": "https://localhost:8080/"
        },
        "id": "4dbxOCQRhBbn",
        "outputId": "71e495b3-5df9-48f7-fb2d-b6a8fcaf5228"
      },
      "outputs": [],
      "source": [
        "x = stats.normaltest(df_frequency['frequency'])\n",
        "x"
      ]
    },
    {
      "cell_type": "markdown",
      "metadata": {
        "id": "bSPY5e8ihLvm"
      },
      "source": [
        "Usage analysis 5.1.2 - Stat test\n",
        "1.  if the dataset is normally distributed, use t-test (stats.ttest_ind)\n",
        "*   change the group1, group2 to the groups/samples that you are interested in\n",
        "*   change 'v' to other genes that you are interested in\n",
        "2.  if the dataset is not normally distributed, use Wilcoxon rank-sum test (stats.ranksums)\n",
        "*   change the group1, group2 to the groups/samples that you are interested in\n",
        "*   change 'v' to other genes that you are interested in"
      ]
    },
    {
      "cell_type": "code",
      "execution_count": null,
      "metadata": {
        "id": "sija74D_1ti7"
      },
      "outputs": [],
      "source": [
        "def usage_stat(df):\n",
        "    out = {}\n",
        "    uniq_vsegs = df['v'].unique()\n",
        "    for V in uniq_vsegs:\n",
        "        tmp = df[df['v'] == V]\n",
        "        df_group1 = tmp[tmp['hospitalization'] == True]['frequency']\n",
        "        df_group2 = tmp[tmp['hospitalization'] == False]['frequency']\n",
        "        stat = stats.ranksums(df_group1, df_group2)\n",
        "        out[V] = stat\n",
        "    return out"
      ]
    },
    {
      "cell_type": "code",
      "execution_count": null,
      "metadata": {
        "colab": {
          "base_uri": "https://localhost:8080/"
        },
        "id": "EUv2fJZl3WHB",
        "outputId": "59abab0f-fc0d-4250-af22-7ceda393260c"
      },
      "outputs": [],
      "source": [
        "#stat calculation\n",
        "usage_stat(df_frequency)"
      ]
    },
    {
      "cell_type": "markdown",
      "metadata": {
        "id": "1uqReLViIMDK"
      },
      "source": [
        "Usage analysis 5.1.3 - Show the V gene weighted usage that are statically significant\n",
        "1.   change the specific v gene to the ones that are statically significant in your analysis\n",
        "2.   change 'v' to other genes that you are interested in"
      ]
    },
    {
      "cell_type": "code",
      "execution_count": null,
      "metadata": {
        "colab": {
          "base_uri": "https://localhost:8080/",
          "height": 235
        },
        "id": "uXLvtdQZILZA",
        "outputId": "61b32da6-c633-49d7-e833-4cb75837126e"
      },
      "outputs": [],
      "source": [
        "df_frequency_significant = df_frequency.loc[(df_frequency['v'] == 'TCRBV05-05*01') | (\n",
        "    df_frequency['v'] == 'TCRBV13-01*01') | (df_frequency['v'] == 'TCRBV20')]\n",
        "\n",
        "df_frequency_significant = df_frequency_significant.groupby(['hospitalization', 'v']).agg(\n",
        "    {'frequency': 'mean'}).reset_index().rename(columns={'frequency': \"mean_frequency\"})\n",
        "    \n",
        "df_frequency_significant\n"
      ]
    },
    {
      "cell_type": "markdown",
      "metadata": {
        "id": "QVPUfr6Dmo8w"
      },
      "source": [
        "Usage analysis 5.2 - V gene weighted usage heatmap (D gene, J gene)\n",
        "1.   change 'v' to other genes that you are interested in"
      ]
    },
    {
      "cell_type": "code",
      "execution_count": null,
      "metadata": {
        "colab": {
          "base_uri": "https://localhost:8080/",
          "height": 887
        },
        "id": "8bBINK-ekFLI",
        "outputId": "6e2dc333-00ca-4438-8c56-3720b796ca29"
      },
      "outputs": [],
      "source": [
        "#set aesthetics\n",
        "plt.style.use(['ggplot', 'seaborn-white'])\n",
        "plt.figure(figsize=(40,25))\n",
        "sns.set_style(\"white\")\n",
        "sns.set_context(\"talk\")\n",
        "\n",
        "#prepare the data\n",
        "df_frequency['frequency'] = df_frequency['frequency'].astype(float)\n",
        "result = df_frequency.pivot(index='v',columns='sample',values='frequency')\n",
        "\n",
        "#fill the missing value in frequency with 0\n",
        "result = result.fillna(0)\n",
        "\n",
        "#plot the heatmap\n",
        "ax = sns.heatmap(result, cmap='coolwarm', cbar_kws={'label': 'V gene frequency'})\n",
        "ax.set_xlabel('Sample',fontsize=25)\n",
        "ax.set_ylabel('V gene',fontsize=25)\n",
        "cbar_axes = ax.figure.axes[-1]\n",
        "\n",
        "#change the colorbar label fontsize\n",
        "ax.figure.axes[-1].yaxis.label.set_size(25)\n",
        "sns.despine()\n",
        "bottom, top = ax.get_ylim()\n",
        "ax.set_ylim(bottom + 0.5, top - 0.5)\n",
        "\n",
        "plt.title('V gene weighted usage', fontsize=30)"
      ]
    },
    {
      "cell_type": "markdown",
      "metadata": {
        "id": "NvXYSLAS3Hx6"
      },
      "source": [
        "Usage analysis 5.3 - V gene weighted usage hierarchically-clustered heatmap (D gene, J gene)\n",
        "1.  change 'v' to other genes that you are interested in"
      ]
    },
    {
      "cell_type": "code",
      "execution_count": null,
      "metadata": {
        "colab": {
          "base_uri": "https://localhost:8080/",
          "height": 791
        },
        "id": "yACPTRjDs9Ss",
        "outputId": "49433b0c-caca-495b-d4cc-aa1940322df2"
      },
      "outputs": [],
      "source": [
        "#reshape the dataframe to wide form dataframe\n",
        "heatmap_data = pd.pivot_table(df_frequency, values='frequency', index=['v'], columns='sample')\n",
        "\n",
        "#fill the missing value in frequency with 0\n",
        "clustermap_data = heatmap_data.fillna(0)\n",
        "\n",
        "#plot the hierarchically-clustered heatmap\n",
        "ax = sns.clustermap(clustermap_data, figsize=(40,25),cmap=\"coolwarm\")\n",
        "ax.fig.suptitle('V gene weighted usage') "
      ]
    },
    {
      "cell_type": "markdown",
      "metadata": {
        "id": "UJN5VI7sm_ek"
      },
      "source": [
        "Usage analysis 6.1 - V gene unweighted frequency result table (D gene, J gene)\n",
        "1.  change 'v' to other genes that you are interested in"
      ]
    },
    {
      "cell_type": "code",
      "execution_count": null,
      "metadata": {
        "colab": {
          "base_uri": "https://localhost:8080/",
          "height": 419
        },
        "id": "fp87yOg3nCzL",
        "outputId": "0bdadd57-232e-4366-9c93-b3e0f2a3110c"
      },
      "outputs": [],
      "source": [
        "# select the v and sample columns\n",
        "df_unweighted_frequency = df[['v', 'sample', 'hospitalization']]\n",
        "\n",
        "# count the v gene\n",
        "df_unweighted_frequency = df_unweighted_frequency.groupby(\n",
        "    ['sample', 'v', 'hospitalization'], as_index=False)['v'].agg({'count': 'count'})\n",
        "\n",
        "# sum the total v gene counts in each sample\n",
        "df_sum_count = df_unweighted_frequency.groupby(\n",
        "    ['sample', 'hospitalization'], as_index=False)['count'].agg({'sum_count': 'sum'})\n",
        "\n",
        "# add the sum counts of v gene to the dataframe which contains each v gene count\n",
        "df_unweighted_frequency = pd.merge(df_unweighted_frequency, df_sum_count, on=[\n",
        "                                   'sample', 'hospitalization'])\n",
        "\n",
        "# calculate the v gene unweighted frequency\n",
        "df_unweighted_frequency['unweighted_frequency'] = (\n",
        "    df_unweighted_frequency['count']/df_unweighted_frequency['sum_count'])\n",
        "\n",
        "df_unweighted_frequency = df_unweighted_frequency[[\n",
        "    'sample', 'v', 'unweighted_frequency', 'hospitalization']]\n",
        "df_unweighted_frequency\n"
      ]
    },
    {
      "cell_type": "markdown",
      "metadata": {
        "id": "tSz9OsiPW0Z0"
      },
      "source": [
        "Usage analysis 6.1.1 - Test if the dataset is normally distributed\n",
        "1.   the null hypothesis here is normality\n",
        "2.   if the p value is greater than 0.05, we cannot reject the null hypothesis (it is a normal distribution). If the p value is smaller than 0.05, we reject the null hypothesis (it is not a normal distribution)"
      ]
    },
    {
      "cell_type": "code",
      "execution_count": null,
      "metadata": {
        "colab": {
          "base_uri": "https://localhost:8080/"
        },
        "id": "XBS2SkQbXAVg",
        "outputId": "983845b1-48f5-4cc4-ec21-0344cf4b4e69"
      },
      "outputs": [],
      "source": [
        "x = stats.normaltest(df_unweighted_frequency['unweighted_frequency'])\n",
        "x"
      ]
    },
    {
      "cell_type": "markdown",
      "metadata": {
        "id": "T8Ct1JFyXF6Q"
      },
      "source": [
        "Usage analysis 6.1.2 - Stat test\n",
        "1.   if the dataset is normally distributed, use t-test (stats.ttest_ind)\n",
        "*   change the group1, group2 to the groups/samples that you are interested in\n",
        "*   change 'v' to other genes that you are interested in\n",
        "2.   if the dataset is not normally distributed, use Wilcoxon rank-sum test (stats.ranksums)\n",
        "*   change the group1, group2 to the groups/samples that you are interested in\n",
        "*   change 'v' to other genes that you are interested in"
      ]
    },
    {
      "cell_type": "code",
      "execution_count": null,
      "metadata": {
        "id": "7vpH-N4hXX67"
      },
      "outputs": [],
      "source": [
        "def unweighted_usage_stat(df):\n",
        "    out = {}\n",
        "    uniq_vsegs = df['v'].unique()\n",
        "    for V in uniq_vsegs:\n",
        "        tmp = df[df['v'] == V]\n",
        "        df_group1 = tmp[tmp['hospitalization'] == True]['unweighted_frequency']\n",
        "        df_group2 = tmp[tmp['hospitalization']\n",
        "                        == False]['unweighted_frequency']\n",
        "\n",
        "        stat = stats.ranksums(df_group1, df_group2)\n",
        "        out[V] = stat\n",
        "    return out\n"
      ]
    },
    {
      "cell_type": "code",
      "execution_count": null,
      "metadata": {
        "colab": {
          "base_uri": "https://localhost:8080/"
        },
        "id": "Xoefw7vnXhRo",
        "outputId": "5a558825-3432-4a1b-8065-82439b9cfe2c"
      },
      "outputs": [],
      "source": [
        "#stat calculation\n",
        "unweighted_usage_stat(df_unweighted_frequency)"
      ]
    },
    {
      "cell_type": "markdown",
      "metadata": {
        "id": "AMlPrjGpaQvP"
      },
      "source": [
        "Usage analysis 5.1.3 - Show the V gene weighted usage that are statically significant\n",
        "1.   change the specific v gene to the ones that are statically significant in your analysis\n",
        "2.   change 'v' to other genes that you are interested in"
      ]
    },
    {
      "cell_type": "code",
      "execution_count": null,
      "metadata": {
        "colab": {
          "base_uri": "https://localhost:8080/",
          "height": 173
        },
        "id": "y9W3TOEZaWBK",
        "outputId": "7a8b0af0-6121-423a-9acb-5615b9cdb3f6"
      },
      "outputs": [],
      "source": [
        "df_unweighted_frequency_significant = df_unweighted_frequency.loc[(\n",
        "    df_unweighted_frequency['v'] == 'TCRBV18-01*01') | (df_unweighted_frequency['v'] == 'TCRBV30-01*01')]\n",
        "\n",
        "df_unweighted_frequency_significant = df_unweighted_frequency_significant.groupby(['hospitalization', 'v']).agg(\n",
        "    {'unweighted_frequency': 'mean'}).reset_index().rename(columns={'frequency': \"mean_unweighted_frequency\"})\n",
        "    \n",
        "df_unweighted_frequency_significant\n"
      ]
    },
    {
      "cell_type": "markdown",
      "metadata": {
        "id": "2Jw6jwi65thX"
      },
      "source": [
        "Usage analysis 6.2 - V gene weighted usage heatmap (D gene, J gene)\n",
        "1.   change 'v' to other genes that you are interested in"
      ]
    },
    {
      "cell_type": "code",
      "execution_count": null,
      "metadata": {
        "colab": {
          "base_uri": "https://localhost:8080/",
          "height": 887
        },
        "id": "TTWXkA7Us9DS",
        "outputId": "38ab7d2d-8dd7-4c9f-c82f-13a6ca8fdfa8"
      },
      "outputs": [],
      "source": [
        "# set aesthetics\n",
        "plt.style.use(['ggplot', 'seaborn-white'])\n",
        "plt.figure(figsize=(40, 25))\n",
        "sns.set_style(\"white\")\n",
        "sns.set_context(\"talk\")\n",
        "\n",
        "# generate axes\n",
        "df_unweighted_frequency['unweighted_frequency'] = df_unweighted_frequency['unweighted_frequency'].astype(\n",
        "    float)\n",
        "result = df_unweighted_frequency.pivot(\n",
        "    index='v', columns='sample', values='unweighted_frequency')\n",
        "\n",
        "# fill the missing value in frequency with 0\n",
        "result = result.fillna(0)\n",
        "\n",
        "ax = sns.heatmap(result, cmap='coolwarm', cbar_kws={\n",
        "                 'label': 'V gene unweighted frequency'})\n",
        "ax.set_xlabel('Sample', fontsize=25)\n",
        "ax.set_ylabel('V gene', fontsize=25)\n",
        "cbar_axes = ax.figure.axes[-1]\n",
        "\n",
        "# change the colorbar label fontsize\n",
        "ax.figure.axes[-1].yaxis.label.set_size(25)\n",
        "sns.despine()\n",
        "bottom, top = ax.get_ylim()\n",
        "ax.set_ylim(bottom + 0.5, top - 0.5)\n",
        "\n",
        "plt.title('V gene unweighted usage', fontsize=30)\n"
      ]
    },
    {
      "cell_type": "markdown",
      "metadata": {
        "id": "n2c1B9q35_fb"
      },
      "source": [
        "Usage analysis 6.3 - V gene weighted usage hierarchically-clustered heatmap (D gene, J gene)\n",
        "1.   change 'v' to other genes that you are interested in"
      ]
    },
    {
      "cell_type": "code",
      "execution_count": null,
      "metadata": {
        "colab": {
          "base_uri": "https://localhost:8080/",
          "height": 791
        },
        "id": "wwlXAeuI6DuZ",
        "outputId": "66b11a1e-ce5e-437a-caf2-e60be5904ac9"
      },
      "outputs": [],
      "source": [
        "# reshape the dataframe to wide form dataframe\n",
        "clustermap_data = pd.pivot_table(\n",
        "    df_unweighted_frequency, values='unweighted_frequency', index=['v'], columns='sample')\n",
        "\n",
        "# fill the missing value in frequency with 0\n",
        "clustermap_data = clustermap_data.fillna(0)\n",
        "\n",
        "# plot the hierarchically-clustered heatmap\n",
        "ax = sns.clustermap(clustermap_data, figsize=(40, 25), cmap=\"coolwarm\")\n",
        "ax.fig.suptitle('V gene unweighted usage')\n"
      ]
    },
    {
      "cell_type": "code",
      "execution_count": null,
      "metadata": {
        "colab": {
          "base_uri": "https://localhost:8080/",
          "height": 812
        },
        "id": "TedUe2fzTdKe",
        "outputId": "83fe8a2d-5f85-45e5-893f-b0a87d5e2eef"
      },
      "outputs": [],
      "source": [
        "from holoviews import opts\n",
        "hv.extension('bokeh', 'matplotlib')\n",
        "\n",
        "sample_name = \"3602BW_TCRB\"\n",
        "\n",
        "df_sankey = pd.DataFrame(columns=['source', 'target', 'value'])\n",
        "\n",
        "df_sample = df.loc[(df['sample'] == sample_name)]\n",
        "df_sample = df_sample.filter(['sample', 'freq', 'v', 'j'])\n",
        "\n",
        "# Remove the allele from the V and J gene\n",
        "df_sample['v'].replace({r\"\\-.*$\": ''}, inplace=True, regex=True)\n",
        "df_sample['j'].replace({r\"\\-.*$\": ''}, inplace=True, regex=True)\n",
        "\n",
        "v_names = df_sample[\"v\"].drop_duplicates().array\n",
        "v_names_size = v_names.size\n",
        "\n",
        "j_names = df_sample[\"j\"].drop_duplicates().array\n",
        "j_names_size = j_names.size\n",
        "\n",
        "for i in range(0, v_names_size):\n",
        "\n",
        "    data = []\n",
        "    v_name = v_names[i]\n",
        "\n",
        "    for j in range(0, j_names_size):\n",
        "        j_name = j_names[j]\n",
        "\n",
        "        df_rows = df_sample.loc[(df_sample[\"v\"] == v_names[i]) & (\n",
        "            df_sample[\"j\"] == j_names[j])]\n",
        "        freq_sum = df_rows[\"freq\"].sum()\n",
        "\n",
        "        if (freq_sum > 0):\n",
        "            data.append(\n",
        "                {'source': v_names[i], 'target': j_names[j], 'value': freq_sum})\n",
        "\n",
        "    df_data = pd.DataFrame(data)\n",
        "    df_sankey = pd.concat([df_sankey, df_data], copy=False, ignore_index=True)\n",
        "\n",
        "print(\"Unique V Genes: \", v_names_size, \"Unique J Genes: \", j_names_size)\n",
        "\n",
        "graph = hv.Sankey(df_sankey)\n",
        "graph.opts(cmap='Category10', label_position='left', edge_line_width=1, edge_color=\"source\",\n",
        "           width=1024, height=768, bgcolor=\"snow\", node_alpha=1.0, node_width=40, node_sort=True)\n"
      ]
    }
  ],
  "metadata": {
    "accelerator": "GPU",
    "colab": {
      "collapsed_sections": [],
      "machine_shape": "hm",
      "name": "Segment usage analysis.ipynb",
      "provenance": []
    },
    "kernelspec": {
      "display_name": "Python 3",
      "language": "python",
      "name": "python3"
    },
    "language_info": {
      "codemirror_mode": {
        "name": "ipython",
        "version": 3
      },
      "file_extension": ".py",
      "mimetype": "text/x-python",
      "name": "python",
      "nbconvert_exporter": "python",
      "pygments_lexer": "ipython3",
      "version": "3.9.10"
    }
  },
  "nbformat": 4,
  "nbformat_minor": 0
}

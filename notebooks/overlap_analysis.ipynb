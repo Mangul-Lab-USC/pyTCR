{
 "cells": [
  {
   "cell_type": "markdown",
   "metadata": {
    "id": "ClBuc_otp6yQ"
   },
   "source": [
    "Step 1 - Import python libraries"
   ]
  },
  {
   "cell_type": "code",
   "execution_count": null,
   "metadata": {
    "id": "YwO9mkpp5E5W"
   },
   "outputs": [],
   "source": [
    "%pip install IPython\n",
    "%pip install matplotlib\n",
    "%pip install pandas\n",
    "%pip install seaborn\n",
    "%pip install scipy\n",
    "\n",
    "from IPython import get_ipython\n",
    "import numpy as np\n",
    "import seaborn as sns\n",
    "from matplotlib import pyplot as plt\n",
    "import pandas as pd"
   ]
  },
  {
   "cell_type": "markdown",
   "metadata": {
    "id": "gMyf_IuU95QY"
   },
   "source": [
    "Step 2 - Load and read your data file\n",
    "- pyTCR accepts a single `.tsv` file that should contain all the samples.\n",
    "- The following cell attempts to detect whether you are running the notebook in a Google Colab cloud environment or in a local environment, and then loads the data at the specified path.\n",
    "- The `filePath` variable in the following code cell should be changed to the location of your file. The following options are supported:\n",
    "1. A `filePath` from Google Drive (to run on a cloud environment)\n",
    "2. A `filePath` from your local computer (to run on a local environment, other cloud environments should work as expected)\n",
    "- The `data_adapter` notebook can be used to convert the data into the correct format for pyTCR to read."
   ]
  },
  {
   "cell_type": "code",
   "execution_count": null,
   "metadata": {
    "colab": {
     "base_uri": "https://localhost:8080/"
    },
    "id": "8Y4Y9S4ZtrIs",
    "outputId": "ca6e3acc-6d62-4bd4-c628-a70406d7625d"
   },
   "outputs": [],
   "source": [
    "# Specify the path to your data in Google Drive or locally\n",
    "filePath = \"/content/drive/MyDrive/complete_COVID_samples.tsv\"\n",
    "\n",
    "isInGoogle = 'google.colab' in str(get_ipython())\n",
    "\n",
    "if isInGoogle:\n",
    "    from google.colab import drive\n",
    "    drive.mount('/content/drive')\n",
    "\n",
    "df_samples = pd.read_table(filePath, low_memory=False, engine=\"c\")\n",
    "\n",
    "df_samples.head()"
   ]
  },
  {
   "cell_type": "markdown",
   "metadata": {
    "id": "AKQQm9aOs6OT"
   },
   "source": [
    "Prepare two dataframes for merging and analyzing the overlapping"
   ]
  },
  {
   "cell_type": "code",
   "execution_count": null,
   "metadata": {
    "id": "wUWOjeuOs1EF"
   },
   "outputs": [],
   "source": [
    "# If there are more than one V or J gene, leave only the first one\n",
    "df_samples['v'].str.replace(\"(,).*\", \"\", regex=True)\n",
    "df_samples['j'].str.replace(\"(,).*\", \"\", regex=True)\n",
    "\n",
    "df_compare = pd.merge(df_samples, df_samples, on=['cdr3nt', 'cdr3aa', 'v', 'd', 'j'], suffixes=['_1', '_2'])\n",
    "\n",
    "df_compare = df_compare[df_compare['sample_1'] != df_compare['sample_2']]\n",
    "\n",
    "df_compare['#count_1**2'] = df_compare['#count_1'] * df_compare['#count_1']\n",
    "df_compare['#count_2**2'] = df_compare['#count_2'] * df_compare['#count_2']\n",
    "df_compare['#count_1*2'] = df_compare['#count_1'] * df_compare['#count_2']\n",
    "\n",
    "# Prepare data for future analysis\n",
    "sample_names = df_samples[\"sample\"].drop_duplicates()\n",
    "sample_names_size = sample_names.size\n",
    "sample_names.index = np.arange(0, sample_names_size)\n",
    "\n",
    "samples = {}\n",
    "\n",
    "for sample in sample_names:\n",
    "    filtered_samples = df_samples.loc[(df_samples['sample'] == sample)]\n",
    "    samples[sample] = filtered_samples\n",
    "\n",
    "df_overlaps = {}\n",
    "\n",
    "for i in range(0, sample_names_size):\n",
    "    sample1 = sample_names[i]\n",
    "\n",
    "    df_compare1 = (df_compare['sample_1'] == sample1)\n",
    "\n",
    "    for j in range(i + 1, sample_names_size):\n",
    "        sample2 = sample_names[j]\n",
    "\n",
    "        df_compare2 = (df_compare['sample_2'] == sample2)\n",
    "\n",
    "        df_rows = df_compare.loc[df_compare1 & df_compare2]\n",
    "        df_overlaps[f'{sample1}:{sample2}'] = df_rows"
   ]
  },
  {
   "cell_type": "markdown",
   "metadata": {
    "id": "GagTxF8vwlHX"
   },
   "source": [
    "Overlap analysis 1.1 - Jaccard index (result table)"
   ]
  },
  {
   "cell_type": "code",
   "execution_count": null,
   "metadata": {
    "colab": {
     "base_uri": "https://localhost:8080/",
     "height": 419
    },
    "id": "9BABDgwvwkGJ",
    "outputId": "4d331377-9a95-4af4-d462-9ef584342842",
    "scrolled": true
   },
   "outputs": [],
   "source": [
    "# Create an empty dataframe for storing results\n",
    "columns = ['sample_1', 'sample_2', 'jaccard_index']\n",
    "df_jaccard_index = pd.DataFrame(columns=columns)\n",
    "\n",
    "for i in range(0, sample_names_size):\n",
    "    sample1 = sample_names[i]\n",
    "    df_sample1 = samples[sample1]\n",
    "\n",
    "    data = []\n",
    "\n",
    "    for j in range(i + 1, sample_names_size):\n",
    "        sample2 = sample_names[j]\n",
    "        df_sample2 = samples[sample2]\n",
    "\n",
    "        jaccard_overlap = df_overlaps[f'{sample1}:{sample2}'].shape[0]\n",
    "\n",
    "        # Calculate Jaccard Index\n",
    "        jaccard = jaccard_overlap / \\\n",
    "            (df_sample1.shape[0] + df_sample2.shape[0] - jaccard_overlap)\n",
    "\n",
    "        data.append({'sample_1': sample1, 'sample_2': sample2,\n",
    "                    'jaccard_index': jaccard})\n",
    "        data.append({'sample_1': sample2, 'sample_2': sample1,\n",
    "                    'jaccard_index': jaccard})\n",
    "\n",
    "    df_data = pd.DataFrame(data)\n",
    "    df_jaccard_index = pd.concat([df_jaccard_index, df_data], copy=False, ignore_index=True)"
   ]
  },
  {
   "cell_type": "markdown",
   "metadata": {
    "id": "4Jr_Axi3fxLr"
   },
   "source": [
    "Overlap analysis 1.2 - Jaccard index (heatmap)"
   ]
  },
  {
   "cell_type": "code",
   "execution_count": null,
   "metadata": {
    "colab": {
     "base_uri": "https://localhost:8080/",
     "height": 1000
    },
    "id": "ZHrXdTT_p9Mp",
    "outputId": "6e57fa4f-f4d3-4c96-f38f-63acff62728b"
   },
   "outputs": [],
   "source": [
    "# Set aesthetics\n",
    "plt.style.use(['ggplot', 'seaborn-white'])\n",
    "plt.figure(figsize=(40, 25))\n",
    "sns.set_style(\"white\")\n",
    "sns.set_context(\"talk\")\n",
    "\n",
    "# Generate axes\n",
    "df_jaccard_index['jaccard_index'] = df_jaccard_index['jaccard_index'].astype(float)\n",
    "\n",
    "result = df_jaccard_index.pivot(index='sample_2', columns='sample_1', values='jaccard_index')\n",
    "\n",
    "ax = sns.heatmap(result, cmap='coolwarm')\n",
    "ax.set_xlabel('sample_1', fontsize=25)\n",
    "ax.set_ylabel('sample_2', fontsize=25)\n",
    "bottom, top = ax.get_ylim()\n",
    "ax.set_ylim(bottom + 0.5, top - 0.5)\n",
    "\n",
    "plt.title('jaccard_index', fontsize=30)\n",
    "sns.despine()\n",
    "plt.show()"
   ]
  },
  {
   "cell_type": "markdown",
   "metadata": {
    "id": "kOWoMVRmDWkk"
   },
   "source": [
    "Overlap analysis 2.1 - Overlap coefficient (result table)"
   ]
  },
  {
   "cell_type": "code",
   "execution_count": null,
   "metadata": {
    "colab": {
     "base_uri": "https://localhost:8080/",
     "height": 419
    },
    "id": "baPRCe3YC-OW",
    "outputId": "a5d3c7cf-51d2-485b-e334-110ca2839daa"
   },
   "outputs": [],
   "source": [
    "# Create an empty dataframe for storing results\n",
    "columns = ['sample_1', 'sample_2', 'overlap_coefficient']\n",
    "df_overlap_coefficient = pd.DataFrame(columns=columns)\n",
    "\n",
    "for i in range(0, sample_names_size):\n",
    "    sample1 = sample_names[i]\n",
    "    df_sample1 = samples[sample2]\n",
    "\n",
    "    data = []\n",
    "\n",
    "    for j in range(i + 1, sample_names_size):\n",
    "        sample2 = sample_names[j]\n",
    "        df_sample2 = samples[sample2]\n",
    "\n",
    "        sample_overlap = df_overlaps[f'{sample1}:{sample2}']\n",
    "\n",
    "        # Calculate Overlap Coefficient\n",
    "        overlap_coefficient = sample_overlap.shape[0] / \\\n",
    "            min(df_sample1.shape[0], df_sample2.shape[0])\n",
    "\n",
    "        data.append({'sample_1': sample1, 'sample_2': sample2,\n",
    "                    'overlap_coefficient': overlap_coefficient})\n",
    "        data.append({'sample_1': sample2, 'sample_2': sample1,\n",
    "                    'overlap_coefficient': overlap_coefficient})\n",
    "\n",
    "    df_data = pd.DataFrame(data)\n",
    "    df_overlap_coefficient = pd.concat([df_overlap_coefficient, df_data], copy=False, ignore_index=True)"
   ]
  },
  {
   "cell_type": "markdown",
   "metadata": {
    "id": "49A89NDpzUdw"
   },
   "source": [
    "Overlap analysis 2.2 - Overlap coefficient (heatmap)"
   ]
  },
  {
   "cell_type": "code",
   "execution_count": null,
   "metadata": {
    "colab": {
     "base_uri": "https://localhost:8080/",
     "height": 1000
    },
    "id": "WCnWqYVNzUDX",
    "outputId": "e03d8f25-c471-4c26-d2f3-4a2c8ab1c02e"
   },
   "outputs": [],
   "source": [
    "# Set aesthetics\n",
    "plt.style.use(['ggplot', 'seaborn-white'])\n",
    "plt.figure(figsize=(40, 25))\n",
    "sns.set_style(\"white\")\n",
    "sns.set_context(\"talk\")\n",
    "\n",
    "# Generate axes\n",
    "df_overlap_coefficient['overlap_coefficient'] = df_overlap_coefficient['overlap_coefficient'].astype(float)\n",
    "\n",
    "result = df_overlap_coefficient.pivot(index='sample_2', columns='sample_1', values='overlap_coefficient')\n",
    "\n",
    "ax = sns.heatmap(result, cmap='coolwarm')\n",
    "ax.set_xlabel('sample1', fontsize=20)\n",
    "ax.set_ylabel('sample2', fontsize=20)\n",
    "bottom, top = ax.get_ylim()\n",
    "ax.set_ylim(bottom + 0.5, top - 0.5)\n",
    "\n",
    "plt.title('Overlap_coefficient')\n",
    "sns.despine()\n",
    "plt.show()"
   ]
  },
  {
   "cell_type": "markdown",
   "metadata": {
    "id": "ONRNz3-Ys0kI"
   },
   "source": [
    "Overlap analysis 3.1 - Morisita-Horn index (result table)"
   ]
  },
  {
   "cell_type": "code",
   "execution_count": null,
   "metadata": {
    "colab": {
     "base_uri": "https://localhost:8080/",
     "height": 419
    },
    "id": "4Ix4s6UL7MHb",
    "outputId": "e4f237b7-4d25-4d7e-a8b1-893a1484179c"
   },
   "outputs": [],
   "source": [
    "# Create an empty dataframe for storing results\n",
    "columns = ['sample_1', 'sample_2', 'morisita_horn_index']\n",
    "df_morisita_horm_index = pd.DataFrame(columns=columns)\n",
    "\n",
    "for i in range(0, sample_names_size):\n",
    "    sample1 = sample_names[i]\n",
    "    df_sample1 = samples[sample1]\n",
    "\n",
    "    data = []\n",
    "\n",
    "    for j in range(i + 1, sample_names_size):\n",
    "        sample2 = sample_names[j]\n",
    "        df_sample2 = samples[sample2]\n",
    "\n",
    "        sum_sample_1_count = df_sample1[\"#count\"].sum()\n",
    "        sum_sample_2_count = df_sample2[\"#count\"].sum()\n",
    "\n",
    "        sample_overlap = df_overlaps[f'{sample1}:{sample2}']\n",
    "\n",
    "        sum_sample_1 = sample_overlap[\"#count_1**2\"].sum()\n",
    "        sum_sample_2 = sample_overlap[\"#count_2**2\"].sum()\n",
    "\n",
    "        sum_count_product = sample_overlap[\"#count_1*2\"].sum()\n",
    "\n",
    "        # Calculate Morisita-Horn index\n",
    "        step1 = (sum_sample_1 / ((sum_sample_1_count)**2)) + \\\n",
    "            (sum_sample_2 / ((sum_sample_2_count)**2))\n",
    "        step2 = step1 * sum_sample_1_count * sum_sample_2_count\n",
    "        step3 = 2 * sum_count_product\n",
    "        morisita_horn_index = step3 / step2\n",
    "\n",
    "        # Store the results\n",
    "        data.append({'sample_1': sample1, 'sample_2': sample2,\n",
    "                    'morisita_horn_index': morisita_horn_index})\n",
    "        data.append({'sample_1': sample2, 'sample_2': sample1,\n",
    "                    'morisita_horn_index': morisita_horn_index})\n",
    "\n",
    "    df_data = pd.DataFrame(data)\n",
    "    df_morisita_horm_index = pd.concat(\n",
    "        [df_morisita_horm_index, df_data], copy=False, ignore_index=True)"
   ]
  },
  {
   "cell_type": "markdown",
   "metadata": {
    "id": "taF2EURi8iMb"
   },
   "source": [
    "Overlap analysis 3.2 - Morisita-Horn index (heatmap)"
   ]
  },
  {
   "cell_type": "code",
   "execution_count": null,
   "metadata": {
    "colab": {
     "base_uri": "https://localhost:8080/",
     "height": 1000
    },
    "id": "UFPEdIAL8sco",
    "outputId": "fac19162-9a7e-4c67-e66a-7788fd6eb9de"
   },
   "outputs": [],
   "source": [
    "# Set aesthetics\n",
    "plt.style.use(['ggplot', 'seaborn-white'])\n",
    "plt.figure(figsize=(40, 25))\n",
    "sns.set_style(\"white\")\n",
    "sns.set_context(\"talk\")\n",
    "\n",
    "# Generate axes\n",
    "df_morisita_horm_index['morisita_horn_index'] = df_morisita_horm_index['morisita_horn_index'].astype(float)\n",
    "\n",
    "result = df_morisita_horm_index.pivot(index='sample_2', columns='sample_1', values='morisita_horn_index')\n",
    "\n",
    "ax = sns.heatmap(result, cmap='coolwarm')\n",
    "ax.set_xlabel('sample_1', fontsize=20)\n",
    "ax.set_ylabel('sample_2', fontsize=20)\n",
    "bottom, top = ax.get_ylim()\n",
    "ax.set_ylim(bottom + 0.5, top - 0.5)\n",
    "\n",
    "plt.title('morisita_horn_index')\n",
    "sns.despine()\n",
    "plt.show()"
   ]
  },
  {
   "cell_type": "markdown",
   "metadata": {
    "id": "6ZrYUwQJ8T-u"
   },
   "source": [
    "Overlap analysis 4.1 - Tversky index (result table)\n"
   ]
  },
  {
   "cell_type": "code",
   "execution_count": null,
   "metadata": {
    "colab": {
     "base_uri": "https://localhost:8080/",
     "height": 419
    },
    "id": "M2cIhppiLdON",
    "outputId": "494f0934-5198-49cb-d2a5-96030c46c337"
   },
   "outputs": [],
   "source": [
    "columns = ['sample_1', 'sample_2', 'tversky_index']\n",
    "df_tversky_index = pd.DataFrame(columns=columns)\n",
    "\n",
    "for i in range(0, sample_names_size):\n",
    "    sample1 = sample_names[i]\n",
    "    df_sample1 = samples[sample1]\n",
    "\n",
    "    data = []\n",
    "\n",
    "    for j in range(i + 1, sample_names_size):\n",
    "        sample2 = sample_names[j]\n",
    "        df_sample2 = samples[sample2]\n",
    "\n",
    "        df_overlap = df_overlaps[f'{sample1}:{sample2}']\n",
    "\n",
    "        tversky_index = df_overlap.shape[0] / (df_overlap.shape[0] + 0.5 * (\n",
    "            df_sample1.shape[0] - df_overlap.shape[0]) + 0.5 * (df_sample2.shape[0] - df_overlap.shape[0]))\n",
    "\n",
    "        data.append({'sample_1': sample1, 'sample_2': sample2,'tversky_index': tversky_index})\n",
    "        data.append({'sample_1': sample2, 'sample_2': sample1,'tversky_index': tversky_index})\n",
    "\n",
    "    df_data = pd.DataFrame(data)\n",
    "    df_tversky_index = pd.concat([df_tversky_index, df_data], copy=False, ignore_index=True)"
   ]
  },
  {
   "cell_type": "markdown",
   "metadata": {
    "id": "zviVjRBRXBTX"
   },
   "source": [
    "Overlap analysis 4.2 - Tversky index (heatmap)"
   ]
  },
  {
   "cell_type": "code",
   "execution_count": null,
   "metadata": {
    "colab": {
     "base_uri": "https://localhost:8080/",
     "height": 1000
    },
    "id": "ML_AcDaRW7Hu",
    "outputId": "d05c9ac4-45f8-4205-8a97-1513ff71fc06"
   },
   "outputs": [],
   "source": [
    "# Set aesthetics\n",
    "plt.style.use(['ggplot', 'seaborn-white'])\n",
    "plt.figure(figsize=(40,25))\n",
    "sns.set_style(\"white\")\n",
    "sns.set_context(\"talk\")\n",
    "\n",
    "# Generate axes\n",
    "df_tversky_index['Tversky_index'] = df_tversky_index['tversky_index'].astype(float)\n",
    "\n",
    "result = df_tversky_index.pivot(index='sample_2',columns='sample_1',values='tversky_index')\n",
    "\n",
    "ax = sns.heatmap(result, cmap='coolwarm')\n",
    "ax.set_xlabel('sample_1',fontsize=20)\n",
    "ax.set_ylabel('sample_2',fontsize=20)\n",
    "bottom, top = ax.get_ylim()\n",
    "ax.set_ylim(bottom + 0.5, top - 0.5)\n",
    "\n",
    "plt.title('tversky_index')\n",
    "sns.despine()\n",
    "plt.show()"
   ]
  },
  {
   "cell_type": "markdown",
   "metadata": {
    "id": "IzbXQvM58wiK"
   },
   "source": [
    "Overlap analysis 5.1 - Cosine similarity (result table)"
   ]
  },
  {
   "cell_type": "code",
   "execution_count": null,
   "metadata": {
    "colab": {
     "base_uri": "https://localhost:8080/",
     "height": 419
    },
    "id": "fomQJqyUL5w1",
    "outputId": "8914b112-6713-439d-e636-96a9fc0d6c73"
   },
   "outputs": [],
   "source": [
    "from scipy.spatial.distance import cosine\n",
    "\n",
    "columns = ['sample_1', 'sample_2', 'cosine_similarity']\n",
    "df_cosine_similarity = pd.DataFrame(columns=columns)\n",
    "\n",
    "for i in range(0, sample_names_size):\n",
    "    sample1 = sample_names[i]\n",
    "    df_sample1 = samples[sample1]\n",
    "\n",
    "    data = []\n",
    "\n",
    "    for j in range(i + 1, sample_names_size):\n",
    "        sample2 = sample_names[j]\n",
    "        df_sample2 = samples[sample2]\n",
    "\n",
    "        df_overlap = df_overlaps[f'{sample1}:{sample2}']\n",
    "\n",
    "        cos_vec = (1 - cosine(df_overlap[\"freq_1\"], df_overlap[\"freq_2\"]))\n",
    "\n",
    "        data.append({'sample_1': sample1, 'sample_2': sample2,\n",
    "                    'cosine_similarity': cos_vec})\n",
    "        data.append({'sample_1': sample2, 'sample_2': sample1,\n",
    "                    'cosine_similarity': cos_vec})\n",
    "\n",
    "    df_data = pd.DataFrame(data)\n",
    "    df_cosine_similarity = pd.concat([df_cosine_similarity, df_data], copy=False, ignore_index=True)"
   ]
  },
  {
   "cell_type": "markdown",
   "metadata": {
    "id": "w3JKroLajNqF"
   },
   "source": [
    "Overlap analysis 5.2 - Cosine similarity (heatmap)"
   ]
  },
  {
   "cell_type": "code",
   "execution_count": null,
   "metadata": {
    "colab": {
     "base_uri": "https://localhost:8080/",
     "height": 1000
    },
    "id": "N-A2GN03jNSF",
    "outputId": "f645c6fc-c686-4f89-d7ca-4a6e3edb6965"
   },
   "outputs": [],
   "source": [
    "# Set aesthetics\n",
    "plt.style.use(['ggplot', 'seaborn-white'])\n",
    "plt.figure(figsize=(40, 25))\n",
    "sns.set_style(\"white\")\n",
    "sns.set_context(\"talk\")\n",
    "\n",
    "# Generate axes\n",
    "df_cosine_similarity['cosine_similarity'] = df_cosine_similarity['cosine_similarity'].astype(float)\n",
    "\n",
    "result = df_cosine_similarity.pivot(index='sample_2', columns='sample_1', values='cosine_similarity')\n",
    "\n",
    "ax = sns.heatmap(result, cmap='coolwarm')\n",
    "ax.set_xlabel('sample_1', fontsize=20)\n",
    "ax.set_ylabel('sample_2', fontsize=20)\n",
    "bottom, top = ax.get_ylim()\n",
    "ax.set_ylim(bottom + 0.5, top - 0.5)\n",
    "\n",
    "plt.title('cosine_similarity')\n",
    "sns.despine()\n",
    "plt.show()"
   ]
  },
  {
   "cell_type": "markdown",
   "metadata": {
    "id": "kzVyp4cqMYsP"
   },
   "source": [
    "Overlap analysis 6.1.1 - Pearson correlation based on clonotype counts (result table)"
   ]
  },
  {
   "cell_type": "code",
   "execution_count": null,
   "metadata": {
    "colab": {
     "base_uri": "https://localhost:8080/",
     "height": 419
    },
    "id": "eG8zHhuSMUmM",
    "outputId": "c8083e77-852c-453d-fe3f-49737cb961d8"
   },
   "outputs": [],
   "source": [
    "columns = ['sample_1', 'sample_2', 'pearson_correlation']\n",
    "df_pearson_correlation_count = pd.DataFrame(columns=columns)\n",
    "\n",
    "for i in range(0, sample_names_size):\n",
    "    sample1 = sample_names[i]\n",
    "\n",
    "    data = []\n",
    "\n",
    "    for j in range(i + 1, sample_names_size):\n",
    "        sample2 = sample_names[j]\n",
    "\n",
    "        df_overlap = df_overlaps[f'{sample1}:{sample2}']\n",
    "\n",
    "        pearson_correlation = df_overlap['#count_1'].corr(\n",
    "            df_overlap['#count_2'])\n",
    "\n",
    "        data.append({'sample_1': sample1, 'sample_2': sample2,\n",
    "                    'pearson_correlation': pearson_correlation})\n",
    "        data.append({'sample_1': sample2, 'sample_2': sample1,\n",
    "                    'pearson_correlation': pearson_correlation})\n",
    "\n",
    "    df_data = pd.DataFrame(data)\n",
    "    df_pearson_correlation_count = pd.concat(\n",
    "        [df_pearson_correlation_count, df_data], copy=False, ignore_index=True)"
   ]
  },
  {
   "cell_type": "markdown",
   "metadata": {
    "id": "C5zYarzIr8GS"
   },
   "source": [
    "Overlap analysis 6.1.2 - Pearson correlation based on clonotype counts (heatmap)"
   ]
  },
  {
   "cell_type": "code",
   "execution_count": null,
   "metadata": {
    "colab": {
     "base_uri": "https://localhost:8080/",
     "height": 1000
    },
    "id": "qkBKumixsIFy",
    "outputId": "a87925d5-cff8-4b52-c5a8-5ff7d5122ff9"
   },
   "outputs": [],
   "source": [
    "# Set aesthetics\n",
    "plt.style.use(['ggplot', 'seaborn-white'])\n",
    "plt.figure(figsize=(40, 25))\n",
    "sns.set_style(\"white\")\n",
    "sns.set_context(\"talk\")\n",
    "\n",
    "# Generate axes\n",
    "df_pearson_correlation_count['pearson_correlation'] = df_pearson_correlation_count['pearson_correlation'].astype(float)\n",
    "\n",
    "result = df_pearson_correlation_count.pivot(index='sample_2', columns='sample_1', values='pearson_correlation')\n",
    "\n",
    "ax = sns.heatmap(result, cmap='coolwarm')\n",
    "ax.set_xlabel('sample1', fontsize=20)\n",
    "ax.set_ylabel('sample2', fontsize=20)\n",
    "bottom, top = ax.get_ylim()\n",
    "ax.set_ylim(bottom + 0.5, top - 0.5)\n",
    "\n",
    "plt.title('pearson_correlation')\n",
    "sns.despine()\n",
    "plt.show()"
   ]
  },
  {
   "cell_type": "markdown",
   "metadata": {
    "id": "hBTsF_j9sTfs"
   },
   "source": [
    "Overlap analysis 6.2.1 - Pearson correlation based on clonotype frequency (result table)"
   ]
  },
  {
   "cell_type": "code",
   "execution_count": null,
   "metadata": {
    "colab": {
     "base_uri": "https://localhost:8080/",
     "height": 419
    },
    "id": "pSW4AlSEsTKe",
    "outputId": "c6d64871-b64f-4b8f-bc14-d85e513b9d23"
   },
   "outputs": [],
   "source": [
    "columns = ['sample_1', 'sample_2', 'pearson_correlation']\n",
    "df_pearson_correlation_freq = pd.DataFrame(columns=columns)\n",
    "\n",
    "for i in range(0, sample_names_size):\n",
    "    sample1 = sample_names[i]\n",
    "\n",
    "    data = []\n",
    "\n",
    "    for j in range(i + 1, sample_names_size):\n",
    "        sample2 = sample_names[j]\n",
    "\n",
    "        df_overlap = df_overlaps[f'{sample1}:{sample2}']\n",
    "\n",
    "        pearson_correlation_freq = df_overlap['freq_1'].corr(df_overlap['freq_2'])\n",
    "\n",
    "        data.append({'sample_1': sample1, 'sample_2': sample2,'pearson_correlation': pearson_correlation_freq})\n",
    "        data.append({'sample_1': sample2, 'sample_2': sample1,'pearson_correlation': pearson_correlation_freq})\n",
    "\n",
    "    df_data = pd.DataFrame(data)\n",
    "    df_pearson_correlation_freq = pd.concat(\n",
    "        [df_pearson_correlation_freq, df_data], copy=False, ignore_index=True)"
   ]
  },
  {
   "cell_type": "markdown",
   "metadata": {
    "id": "ogxtFdiIsS61"
   },
   "source": [
    "Overlap analysis 6.2.2 - Pearson correlation based on clonotype frequency (heatmap)"
   ]
  },
  {
   "cell_type": "code",
   "execution_count": null,
   "metadata": {
    "colab": {
     "base_uri": "https://localhost:8080/",
     "height": 1000
    },
    "id": "tk7KUnEO0bww",
    "outputId": "d68c8122-700b-4e7f-f4ac-e7fce01e097d"
   },
   "outputs": [],
   "source": [
    "# Set aesthetics\n",
    "plt.style.use(['ggplot', 'seaborn-white'])\n",
    "plt.figure(figsize=(40, 25))\n",
    "sns.set_style(\"white\")\n",
    "sns.set_context(\"talk\")\n",
    "\n",
    "# Generate axes\n",
    "df_pearson_correlation_freq['pearson_correlation'] = df_pearson_correlation_freq['pearson_correlation'].astype(float)\n",
    "\n",
    "result = df_pearson_correlation_freq.pivot(index='sample_2', columns='sample_1', values='pearson_correlation')\n",
    "\n",
    "ax = sns.heatmap(result, cmap='coolwarm')\n",
    "ax.set_xlabel('sample_1', fontsize=20)\n",
    "ax.set_ylabel('sample_2', fontsize=20)\n",
    "bottom, top = ax.get_ylim()\n",
    "ax.set_ylim(bottom + 0.5, top - 0.5)\n",
    "\n",
    "plt.title('pearson_correlation')\n",
    "sns.despine()\n",
    "plt.show()"
   ]
  },
  {
   "cell_type": "markdown",
   "metadata": {
    "id": "zkap3-N_NDQq"
   },
   "source": [
    "Overlap analysis 7.1 - Relative overlap diversity (result table)"
   ]
  },
  {
   "cell_type": "code",
   "execution_count": null,
   "metadata": {
    "colab": {
     "base_uri": "https://localhost:8080/",
     "height": 419
    },
    "id": "vbVPlnAANDv5",
    "outputId": "a5e1872a-0886-4600-a962-e3e8888b4102"
   },
   "outputs": [],
   "source": [
    "columns = ['sample_1', 'sample_2', 'relative_overlap_diversity']\n",
    "df_relative_overlap_diversity = pd.DataFrame(columns=columns)\n",
    "\n",
    "for i in range(0, sample_names_size):\n",
    "    sample1 = sample_names[i]\n",
    "    df_sample1 = samples[sample1]\n",
    "\n",
    "    data = []\n",
    "\n",
    "    for j in range(i + 1, sample_names_size):\n",
    "        sample2 = sample_names[j]\n",
    "        df_sample2 = samples[sample2]\n",
    "\n",
    "        df_overlap = df_overlaps[f'{sample1}:{sample2}']\n",
    "\n",
    "        relative_overlap_diversity = df_overlap.shape[0] / (\n",
    "            df_sample1.shape[0] * df_sample2.shape[0])\n",
    "\n",
    "        data.append({'sample_1': sample1, 'sample_2': sample2,\n",
    "                    'relative_overlap_diversity': relative_overlap_diversity})\n",
    "        data.append({'sample_1': sample2, 'sample_2': sample1,\n",
    "                    'relative_overlap_diversity': relative_overlap_diversity})\n",
    "\n",
    "    df_data = pd.DataFrame(data)\n",
    "    df_relative_overlap_diversity = pd.concat([df_relative_overlap_diversity, df_data], copy=False, ignore_index=True)"
   ]
  },
  {
   "cell_type": "markdown",
   "metadata": {
    "id": "1sI5YLafBYvA"
   },
   "source": [
    "Overlap analysis 7.2 - Relative overlap diversity (heatmap)"
   ]
  },
  {
   "cell_type": "code",
   "execution_count": null,
   "metadata": {
    "colab": {
     "base_uri": "https://localhost:8080/",
     "height": 1000
    },
    "id": "1i6PPfzsBf6v",
    "outputId": "608704a6-9d00-4546-b8bf-b8f52885dec9"
   },
   "outputs": [],
   "source": [
    "# Set aesthetics\n",
    "plt.style.use(['ggplot', 'seaborn-white'])\n",
    "plt.figure(figsize=(40, 25))\n",
    "sns.set_style(\"white\")\n",
    "sns.set_context(\"talk\")\n",
    "\n",
    "# Generate axes\n",
    "df_relative_overlap_diversity['relative_overlap_diversity'] = df_relative_overlap_diversity['relative_overlap_diversity'].astype(\n",
    "    float)\n",
    "\n",
    "result = df_relative_overlap_diversity.pivot(index='sample_2', columns='sample_1', values='relative_overlap_diversity')\n",
    "\n",
    "ax = sns.heatmap(result, cmap='coolwarm')\n",
    "ax.set_xlabel('non-hospitalized samples', fontsize=20)\n",
    "ax.set_ylabel('hospitalized samples', fontsize=20)\n",
    "bottom, top = ax.get_ylim()\n",
    "ax.set_ylim(bottom + 0.5, top - 0.5)\n",
    "\n",
    "plt.title('relative_overlap_diversity')\n",
    "sns.despine()\n",
    "plt.show()"
   ]
  },
  {
   "cell_type": "markdown",
   "metadata": {
    "id": "c5ixf7S_Na0L"
   },
   "source": [
    "Overlap analysis 8.1 - Geometric mean of relative overlap frequencies (result table)"
   ]
  },
  {
   "cell_type": "code",
   "execution_count": null,
   "metadata": {
    "colab": {
     "base_uri": "https://localhost:8080/",
     "height": 419
    },
    "id": "fAgzUCF7NcCC",
    "outputId": "cd6fb17b-3422-463b-eea4-c8a83cc17ec0"
   },
   "outputs": [],
   "source": [
    "columns = ['sample_1', 'sample_2',\n",
    "           'geometric_mean_of_relative_overlap_frequencies']\n",
    "\n",
    "df_geometric_mean_of_relative_overlap_frequencies = pd.DataFrame(\n",
    "    columns=columns)\n",
    "\n",
    "for i in range(0, sample_names_size):\n",
    "    sample1 = sample_names[i]\n",
    "    df_sample1 = samples[sample1]\n",
    "\n",
    "    data = []\n",
    "\n",
    "    for j in range(i + 1, sample_names_size):\n",
    "        sample2 = sample_names[j]\n",
    "        df_sample2 = samples[sample2]\n",
    "\n",
    "        df_overlap = df_overlaps[f'{sample1}:{sample2}']\n",
    "\n",
    "        result = (df_overlap['freq_1'].sum() * df_overlap['freq_2'].sum())**0.5\n",
    "\n",
    "        data.append({'sample_1': sample1, 'sample_2': sample2,\n",
    "                    'geometric_mean_of_relative_overlap_frequencies': result})\n",
    "        data.append({'sample_1': sample2, 'sample_2': sample1,\n",
    "                    'geometric_mean_of_relative_overlap_frequencies': result})\n",
    "\n",
    "    df_data = pd.DataFrame(data)\n",
    "    df_geometric_mean_of_relative_overlap_frequencies = pd.concat(\n",
    "        [df_geometric_mean_of_relative_overlap_frequencies, df_data], copy=False, ignore_index=True)"
   ]
  },
  {
   "cell_type": "markdown",
   "metadata": {
    "id": "tfR6XFP7i-Px"
   },
   "source": [
    "Overlap analysis 8.2 - Geometric mean of relative overlap frequencies (heatmap)"
   ]
  },
  {
   "cell_type": "code",
   "execution_count": null,
   "metadata": {
    "colab": {
     "base_uri": "https://localhost:8080/",
     "height": 1000
    },
    "id": "7tjvgj0Mi9tj",
    "outputId": "2d8343ab-4907-4461-8a73-f028c5092062"
   },
   "outputs": [],
   "source": [
    "# Set aesthetics\n",
    "plt.style.use(['ggplot', 'seaborn-white'])\n",
    "plt.figure(figsize=(40, 25))\n",
    "sns.set_style(\"white\")\n",
    "sns.set_context(\"talk\")\n",
    "\n",
    "# Generate axes\n",
    "df_geometric_mean_of_relative_overlap_frequencies['geometric_mean_of_relative_overlap_frequencies'] = df_geometric_mean_of_relative_overlap_frequencies[\n",
    "    'geometric_mean_of_relative_overlap_frequencies'].astype(float)\n",
    "    \n",
    "result = df_geometric_mean_of_relative_overlap_frequencies.pivot(\n",
    "    index='sample_2', columns='sample_1', values='geometric_mean_of_relative_overlap_frequencies')\n",
    "    \n",
    "ax = sns.heatmap(result, cmap='coolwarm')\n",
    "ax.set_xlabel('sample_1', fontsize=20)\n",
    "ax.set_ylabel('sample_2', fontsize=20)\n",
    "bottom, top = ax.get_ylim()\n",
    "ax.set_ylim(bottom + 0.5, top - 0.5)\n",
    "\n",
    "plt.title('geometric_mean_of_relative_overlap_frequencies')\n",
    "sns.despine()\n",
    "plt.show()"
   ]
  },
  {
   "cell_type": "markdown",
   "metadata": {
    "id": "9jUaOSf6NvZw"
   },
   "source": [
    "Overlap analysis 9.1 - Сlonotype-wise sum of geometric mean frequencies (result table)"
   ]
  },
  {
   "cell_type": "code",
   "execution_count": null,
   "metadata": {
    "colab": {
     "base_uri": "https://localhost:8080/",
     "height": 419
    },
    "id": "Tn5LNbA0Nvlo",
    "outputId": "6153ca64-871b-42bc-e988-4d4159241046"
   },
   "outputs": [],
   "source": [
    "columns = ['sample_1', 'sample_2',\n",
    "           'clonotype_wise_sum_of_geometric_mean_frequencies']\n",
    "\n",
    "df_clonotype_wise_sum_of_geometric_mean_frequencies = pd.DataFrame(columns=columns)\n",
    "\n",
    "for i in range(0, sample_names_size):\n",
    "    sample1 = sample_names[i]\n",
    "\n",
    "    data = []\n",
    "\n",
    "    for j in range(i + 1, sample_names_size):\n",
    "        sample2 = sample_names[j]\n",
    "\n",
    "        df_overlap = df_overlaps[f'{sample1}:{sample2}']\n",
    "\n",
    "        result = ((df_overlap['freq_1']*df_overlap['freq_2'])**0.5).sum()\n",
    "\n",
    "        data.append({'sample_1': sample1, 'sample_2': sample2,\n",
    "                    'clonotype_wise_sum_of_geometric_mean_frequencies': result})\n",
    "        data.append({'sample_1': sample2, 'sample_2': sample1,\n",
    "                    'clonotype_wise_sum_of_geometric_mean_frequencies': result})\n",
    "\n",
    "    df_data = pd.DataFrame(data)\n",
    "    df_clonotype_wise_sum_of_geometric_mean_frequencies = pd.concat(\n",
    "        [df_clonotype_wise_sum_of_geometric_mean_frequencies, df_data], copy=False, ignore_index=True)"
   ]
  },
  {
   "cell_type": "markdown",
   "metadata": {
    "id": "QSqV1FvwqogJ"
   },
   "source": [
    "Overlap analysis 9.2 - Clonotype-wise sum of geometric mean frequencies (heatmap)"
   ]
  },
  {
   "cell_type": "code",
   "execution_count": null,
   "metadata": {
    "colab": {
     "base_uri": "https://localhost:8080/",
     "height": 1000
    },
    "id": "BaOfJb47qyxq",
    "outputId": "5803e03f-7709-4128-8b8f-00d29d25ee4f"
   },
   "outputs": [],
   "source": [
    "# Set aesthetics\n",
    "plt.style.use(['ggplot', 'seaborn-white'])\n",
    "plt.figure(figsize=(40, 25))\n",
    "sns.set_style(\"white\")\n",
    "sns.set_context(\"talk\")\n",
    "\n",
    "# Generate axes\n",
    "df_clonotype_wise_sum_of_geometric_mean_frequencies['clonotype_wise_sum_of_geometric_mean_frequencies'] = df_clonotype_wise_sum_of_geometric_mean_frequencies[\n",
    "    'clonotype_wise_sum_of_geometric_mean_frequencies'].astype(float)\n",
    "\n",
    "result = df_clonotype_wise_sum_of_geometric_mean_frequencies.pivot(\n",
    "    index='sample_2', columns='sample_1', values='clonotype_wise_sum_of_geometric_mean_frequencies')\n",
    "\n",
    "ax = sns.heatmap(result, cmap='coolwarm')\n",
    "ax.set_xlabel('sample_1', fontsize=20)\n",
    "ax.set_ylabel('sample_2', fontsize=20)\n",
    "bottom, top = ax.get_ylim()\n",
    "ax.set_ylim(bottom + 0.5, top - 0.5)\n",
    "\n",
    "plt.title('clonotype_wise_sum_of_geometric_mean_frequencies')\n",
    "sns.despine()\n",
    "plt.show()"
   ]
  },
  {
   "cell_type": "markdown",
   "metadata": {
    "id": "dRo4lAkROJHg"
   },
   "source": [
    "Overlap analysis 10.1 - Jensen-Shannon divergence of variable segment usage distributions (result table)"
   ]
  },
  {
   "cell_type": "code",
   "execution_count": null,
   "metadata": {
    "colab": {
     "base_uri": "https://localhost:8080/",
     "height": 419
    },
    "id": "lyK-8BWROKmM",
    "outputId": "b3d18c5f-c7f2-4a89-ec37-8be5acc8b13c"
   },
   "outputs": [],
   "source": [
    "columns = ['sample_1', 'sample_2', 'jensen_shannon_divergence']\n",
    "df_jensen_shannon_divergence = pd.DataFrame(columns=columns)\n",
    "\n",
    "def kl_divergence(p, q):\n",
    "    return -np.sum(p * np.log2(q / p))\n",
    "\n",
    "def js_divergence(p, q):\n",
    "    m = (1 / 2) * (p + q)\n",
    "    return (1 / 2) * kl_divergence(p, m) + (1 / 2) * kl_divergence(q, m)\n",
    "\n",
    "for i in range(0, sample_names_size):\n",
    "    sample1 = sample_names[i]\n",
    "    df_sample1 = samples[sample1]\n",
    "\n",
    "    data = []\n",
    "\n",
    "    for j in range(i + 1, sample_names_size):\n",
    "        sample2 = sample_names[j]\n",
    "        df_sample2 = samples[sample2]\n",
    "\n",
    "        df_sample1_v = df_sample1.groupby(['v'], as_index=False)[\n",
    "            'freq'].agg({'sumfreq_1': 'sum'})\n",
    "        df_sample2_v = df_sample2.groupby(['v'], as_index=False)[\n",
    "            'freq'].agg({'sumfreq_2': 'sum'})\n",
    "\n",
    "        df_JSD_combine = pd.merge(df_sample1_v, df_sample2_v, on=['v'])\n",
    "\n",
    "        JSD_sample1 = df_JSD_combine[['sumfreq_1']].to_numpy()\n",
    "        JSD_sample2 = df_JSD_combine[['sumfreq_2']].to_numpy()\n",
    "\n",
    "        result = js_divergence(JSD_sample1, JSD_sample2)\n",
    "\n",
    "        data.append({'sample_1': sample1, 'sample_2': sample2,\n",
    "                    'jensen_shannon_divergence': result})\n",
    "        data.append({'sample_1': sample2, 'sample_2': sample1,\n",
    "                    'jensen_shannon_divergence': result})\n",
    "\n",
    "    df_data = pd.DataFrame(data)\n",
    "    df_jensen_shannon_divergence = pd.concat(\n",
    "        [df_jensen_shannon_divergence, df_data], copy=False, ignore_index=True)"
   ]
  },
  {
   "cell_type": "markdown",
   "metadata": {
    "id": "lRJh1H2oyXNV"
   },
   "source": [
    "Overlap analysis 10.2 - Jensen-Shannon divergence of variable segment usage distributions (heatmap)"
   ]
  },
  {
   "cell_type": "code",
   "execution_count": null,
   "metadata": {
    "colab": {
     "base_uri": "https://localhost:8080/",
     "height": 1000
    },
    "id": "njgjNSUiyUdh",
    "outputId": "396bb7dc-8409-4dda-dbea-70ea0951e291"
   },
   "outputs": [],
   "source": [
    "# Set aesthetics\n",
    "plt.style.use(['ggplot', 'seaborn-white'])\n",
    "plt.figure(figsize=(40, 25))\n",
    "sns.set_style(\"white\")\n",
    "sns.set_context(\"talk\")\n",
    "\n",
    "# Generate axes\n",
    "df_jensen_shannon_divergence['jensen_shannon_divergence'] = df_jensen_shannon_divergence['jensen_shannon_divergence'].astype(\n",
    "    float)\n",
    "\n",
    "result = df_jensen_shannon_divergence.pivot(index='sample_2', columns='sample_1', values='jensen_shannon_divergence')\n",
    "    \n",
    "ax = sns.heatmap(result, cmap='coolwarm')\n",
    "ax.set_xlabel('sample_1', fontsize=20)\n",
    "ax.set_ylabel('sample_2', fontsize=20)\n",
    "bottom, top = ax.get_ylim()\n",
    "ax.set_ylim(bottom + 0.5, top - 0.5)\n",
    "\n",
    "plt.title('jensen_shannon_divergence')\n",
    "sns.despine()\n",
    "plt.show()"
   ]
  }
 ],
 "metadata": {
  "colab": {
   "collapsed_sections": [],
   "machine_shape": "hm",
   "name": "Overlap_analysis.ipynb",
   "provenance": []
  },
  "interpreter": {
   "hash": "57c187deae61c8a108dbbf3958c4133d34b5f0bc31abbe048fe1ab74e61d349f"
  },
  "kernelspec": {
   "display_name": "Python 3 (ipykernel)",
   "language": "python",
   "name": "python3"
  },
  "language_info": {
   "codemirror_mode": {
    "name": "ipython",
    "version": 3
   },
   "file_extension": ".py",
   "mimetype": "text/x-python",
   "name": "python",
   "nbconvert_exporter": "python",
   "pygments_lexer": "ipython3",
   "version": "3.7.4"
  }
 },
 "nbformat": 4,
 "nbformat_minor": 1
}

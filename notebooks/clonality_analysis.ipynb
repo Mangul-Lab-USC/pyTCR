{
 "cells": [
  {
   "cell_type": "markdown",
   "metadata": {
    "id": "PUGBEQkyrwfe"
   },
   "source": [
    "Step 1 - Import python libraries"
   ]
  },
  {
   "cell_type": "code",
   "execution_count": null,
   "metadata": {
    "colab": {
     "base_uri": "https://localhost:8080/"
    },
    "executionInfo": {
     "elapsed": 1335,
     "status": "ok",
     "timestamp": 1611941996642,
     "user": {
      "displayName": "Kerui Peng",
      "photoUrl": "https://lh3.googleusercontent.com/a-/AOh14GhCFbNNQavDfyVFYGThBoWptUPcEdIkBKjW1JK6=s64",
      "userId": "00454648627764987552"
     },
     "user_tz": 480
    },
    "id": "aTtuxOpm7F-K",
    "outputId": "955a644d-f213-453c-be7d-84440ddf2d03"
   },
   "outputs": [],
   "source": [
    "from IPython import get_ipython\n",
    "import numpy as np\n",
    "import matplotlib.pyplot as plt\n",
    "import pandas as pd\n",
    "import seaborn as sns\n",
    "from scipy import stats\n",
    "\n",
    "pd.options.mode.chained_assignment = None"
   ]
  },
  {
   "cell_type": "markdown",
   "metadata": {
    "id": "1TNzAvd2r1vZ"
   },
   "source": [
    "Step 2 - Load and read your data file\n",
    "- pyTCR accepts a single `.tsv` file that should contain all the samples.\n",
    "  - The following cell attempts to detect whether you are running the notebook in a Google Colab cloud environment or in a local environment, and then loads the data at the specified path.\n",
    "- The `filePath` variable in the following code cell should be changed to the location of your file. The following options are supported:\n",
    "  1. A `filePath` from Google Drive (to run on a cloud environment)\n",
    "  2. A `filePath` from your local computer (to run on a local environment, other cloud environments should work as expected)\n",
    "- The `data_adapter` notebook can be used to convert the data into the correct format for pyTCR to read."
   ]
  },
  {
   "cell_type": "code",
   "execution_count": null,
   "metadata": {
    "colab": {
     "base_uri": "https://localhost:8080/"
    },
    "executionInfo": {
     "elapsed": 26066,
     "status": "ok",
     "timestamp": 1611942608189,
     "user": {
      "displayName": "Kerui Peng",
      "photoUrl": "https://lh3.googleusercontent.com/a-/AOh14GhCFbNNQavDfyVFYGThBoWptUPcEdIkBKjW1JK6=s64",
      "userId": "00454648627764987552"
     },
     "user_tz": 480
    },
    "id": "_sOuIm50CkNu",
    "outputId": "a4797980-3dcf-4111-e093-eaea6d755bf1"
   },
   "outputs": [],
   "source": [
    "# Specify the path to your data in Google Drive or locally\n",
    "filePath = \"/content/drive/MyDrive/complete_COVID_samples.tsv\"\n",
    "\n",
    "isInGoogle = 'google.colab' in str(get_ipython())\n",
    "\n",
    "if isInGoogle:\n",
    "    from google.colab import drive\n",
    "    drive.mount('/content/drive')\n",
    "\n",
    "df = pd.read_table(filePath, low_memory=False, engine=\"c\")\n",
    "\n",
    "df.head()\n"
   ]
  },
  {
   "cell_type": "markdown",
   "metadata": {
    "id": "XiWPFCO48Avt"
   },
   "source": [
    "Clonality analysis 1 - the most frequent clonotype"
   ]
  },
  {
   "cell_type": "code",
   "execution_count": null,
   "metadata": {
    "colab": {
     "base_uri": "https://localhost:8080/",
     "height": 1000
    },
    "executionInfo": {
     "elapsed": 2180,
     "status": "ok",
     "timestamp": 1611942823420,
     "user": {
      "displayName": "Kerui Peng",
      "photoUrl": "https://lh3.googleusercontent.com/a-/AOh14GhCFbNNQavDfyVFYGThBoWptUPcEdIkBKjW1JK6=s64",
      "userId": "00454648627764987552"
     },
     "user_tz": 480
    },
    "id": "Wu9uJhIM8LuR",
    "outputId": "91e1bcc8-90ba-4997-b64a-fa16133dbb57"
   },
   "outputs": [],
   "source": [
    "df_clonality_most = df.loc[df.groupby('sample')['freq'].idxmax()]\n",
    "df_clonality_most = df_clonality_most[['sample', 'hospitalization', 'cdr3aa', '#count']]\n",
    "df_clonality_most"
   ]
  },
  {
   "cell_type": "markdown",
   "metadata": {
    "id": "YULx9lOt8Naf"
   },
   "source": [
    "Clonality analysis 2 - the least frequent clonotype"
   ]
  },
  {
   "cell_type": "code",
   "execution_count": null,
   "metadata": {
    "colab": {
     "base_uri": "https://localhost:8080/",
     "height": 1000
    },
    "executionInfo": {
     "elapsed": 2027,
     "status": "ok",
     "timestamp": 1611942851083,
     "user": {
      "displayName": "Kerui Peng",
      "photoUrl": "https://lh3.googleusercontent.com/a-/AOh14GhCFbNNQavDfyVFYGThBoWptUPcEdIkBKjW1JK6=s64",
      "userId": "00454648627764987552"
     },
     "user_tz": 480
    },
    "id": "axt1VcwB8PVw",
    "outputId": "fd5b95c9-3989-4688-d775-e4320ad07cc7"
   },
   "outputs": [],
   "source": [
    "df_clonality_least = df.loc[df.groupby('sample')['freq'].idxmin()]\n",
    "df_clonality_least = df_clonality_least[['sample', 'hospitalization', 'cdr3aa', '#count']]\n",
    "df_clonality_least"
   ]
  },
  {
   "cell_type": "markdown",
   "metadata": {
    "id": "RLJXDZoTC7sQ"
   },
   "source": [
    "Clonality analysis 3.1 - 1-Pielou index"
   ]
  },
  {
   "cell_type": "code",
   "execution_count": null,
   "metadata": {
    "colab": {
     "base_uri": "https://localhost:8080/",
     "height": 1000
    },
    "executionInfo": {
     "elapsed": 9476,
     "status": "ok",
     "timestamp": 1611942872368,
     "user": {
      "displayName": "Kerui Peng",
      "photoUrl": "https://lh3.googleusercontent.com/a-/AOh14GhCFbNNQavDfyVFYGThBoWptUPcEdIkBKjW1JK6=s64",
      "userId": "00454648627764987552"
     },
     "user_tz": 480
    },
    "id": "OTRmA8-NC9QP",
    "outputId": "78a29694-59c1-4dca-cf79-2f323f17e779"
   },
   "outputs": [],
   "source": [
    "#calculate the clonotype counts for each sample\n",
    "df_diversity = df.groupby(['sample'], sort=False).size().reset_index(name='clonotype_count')\n",
    "\n",
    "#add the clonotype counts as a column to the dataframe\n",
    "df_clonality=pd.merge(df, df_diversity, on=['sample'])\n",
    "\n",
    "#calculate 1-Pielou index\n",
    "df_clonality['clonality'] = df_clonality['freq']*np.log(df_clonality['freq'])/np.log(df_clonality['clonotype_count'])\n",
    "df_clonality= df_clonality.groupby(['sample','hospitalization']).agg({'clonality':'sum'}).reset_index().rename(columns={'':\"clonality\"})\n",
    "df_clonality['1_pielou'] = df_clonality['clonality'] + 1\n",
    "df_clonality = df_clonality[['sample','hospitalization','1_pielou']]\n",
    "\n",
    "df_clonality"
   ]
  },
  {
   "cell_type": "markdown",
   "metadata": {
    "id": "pm6x0edO6uNe"
   },
   "source": [
    "Clonality analysis 3.2 - Statistical analysis of 1-Pielou index"
   ]
  },
  {
   "cell_type": "markdown",
   "metadata": {
    "id": "r7D6_lG07b_m"
   },
   "source": [
    "Clonality analysis 3.2.1 - Test if 1-Pielou index is normally distributed\n",
    "1.   the null hypothesis here is normality\n",
    "2.   if the p value is greater than 0.05, we cannot reject the null hypothesis (it is a normal distribution). if the p value is smaller than 0.05, we reject the null hypothesis (it is not a normal distribution)"
   ]
  },
  {
   "cell_type": "code",
   "execution_count": null,
   "metadata": {
    "colab": {
     "base_uri": "https://localhost:8080/"
    },
    "executionInfo": {
     "elapsed": 690,
     "status": "ok",
     "timestamp": 1611943289938,
     "user": {
      "displayName": "Kerui Peng",
      "photoUrl": "https://lh3.googleusercontent.com/a-/AOh14GhCFbNNQavDfyVFYGThBoWptUPcEdIkBKjW1JK6=s64",
      "userId": "00454648627764987552"
     },
     "user_tz": 480
    },
    "id": "qqEI9z9N7nO1",
    "outputId": "e707609c-29e6-4c8e-873c-ad06edd3e352"
   },
   "outputs": [],
   "source": [
    "x = stats.normaltest(df_clonality['1_pielou'])\n",
    "x"
   ]
  },
  {
   "cell_type": "markdown",
   "metadata": {
    "id": "kFA2ujfU6-vW"
   },
   "source": [
    "Clonality analysis 3.2.2 - Mean or median of 1-Pielou index among groups\n",
    "1.   if the dataset is normally distributed, calculate mean\n",
    "2.   if the dataset is not normally distributed, calculate median"
   ]
  },
  {
   "cell_type": "code",
   "execution_count": null,
   "metadata": {
    "id": "o7uB_stM7D0d"
   },
   "outputs": [],
   "source": [
    "#calculate the mean among two groups\n",
    "df_clonality_mean = df_clonality.groupby('hospitalization')['1_pielou'].mean().reset_index()\n",
    "df_clonality_mean"
   ]
  },
  {
   "cell_type": "code",
   "execution_count": null,
   "metadata": {
    "colab": {
     "base_uri": "https://localhost:8080/",
     "height": 111
    },
    "executionInfo": {
     "elapsed": 712,
     "status": "ok",
     "timestamp": 1611943309817,
     "user": {
      "displayName": "Kerui Peng",
      "photoUrl": "https://lh3.googleusercontent.com/a-/AOh14GhCFbNNQavDfyVFYGThBoWptUPcEdIkBKjW1JK6=s64",
      "userId": "00454648627764987552"
     },
     "user_tz": 480
    },
    "id": "tsPbhh9xkAkA",
    "outputId": "bb7f568e-1dfd-4df3-aae1-9685a72f09e5"
   },
   "outputs": [],
   "source": [
    "#calculate the median among two groups\n",
    "df_clonality_median = df_clonality.groupby('hospitalization')['1_pielou'].median().reset_index()\n",
    "df_clonality_median"
   ]
  },
  {
   "cell_type": "markdown",
   "metadata": {
    "id": "9x5wsGX872p-"
   },
   "source": [
    "Clonality analysis 3.2.3 - Stat test\n",
    "1.   If the dataset is normally distributed, use t-test (stats.ttest_ind)\n",
    "*   change the group1, group2 to the groups/samples that you are interested in\n",
    "2.   If the dataset is not normally distributed, use Wilcoxon rank-sum test (stats.ranksums)\n",
    "*   change the group1, group2 to the groups/samples that you are interested in"
   ]
  },
  {
   "cell_type": "code",
   "execution_count": null,
   "metadata": {
    "colab": {
     "base_uri": "https://localhost:8080/"
    },
    "executionInfo": {
     "elapsed": 895,
     "status": "ok",
     "timestamp": 1611944178473,
     "user": {
      "displayName": "Kerui Peng",
      "photoUrl": "https://lh3.googleusercontent.com/a-/AOh14GhCFbNNQavDfyVFYGThBoWptUPcEdIkBKjW1JK6=s64",
      "userId": "00454648627764987552"
     },
     "user_tz": 480
    },
    "id": "qEWN0JT778VS",
    "outputId": "93f86162-e8f8-4460-f748-f628563edc93"
   },
   "outputs": [],
   "source": [
    "df1 = df_clonality.copy()\n",
    "df_group1 = df1[df1['hospitalization'] == True]\n",
    "df_group2 = df1[df1['hospitalization'] == False]\n",
    "stats.ranksums(df_group1['1_pielou'], df_group2['1_pielou'])"
   ]
  },
  {
   "cell_type": "markdown",
   "metadata": {
    "id": "4kO7a_7tZ_2c"
   },
   "source": [
    "Clonality analysis 4.1 - Clonal proportion"
   ]
  },
  {
   "cell_type": "code",
   "execution_count": null,
   "metadata": {
    "colab": {
     "base_uri": "https://localhost:8080/",
     "height": 1000
    },
    "executionInfo": {
     "elapsed": 38762,
     "status": "ok",
     "timestamp": 1611944563272,
     "user": {
      "displayName": "Kerui Peng",
      "photoUrl": "https://lh3.googleusercontent.com/a-/AOh14GhCFbNNQavDfyVFYGThBoWptUPcEdIkBKjW1JK6=s64",
      "userId": "00454648627764987552"
     },
     "user_tz": 480
    },
    "id": "VjQ1edd8n8sT",
    "outputId": "504e67fc-7f06-49fc-96cb-be7ef2cf5c70"
   },
   "outputs": [],
   "source": [
    "#create an empty dataframe for storing results\n",
    "df_clonality_portion = pd.DataFrame()\n",
    "\n",
    "#create a list of the sample names\n",
    "samples = set(df['sample'])\n",
    "\n",
    "\n",
    "for sample in samples:\n",
    "\n",
    "    #store the rows related to the sample \n",
    "    df_temp = df.loc[df['sample'] == sample]\n",
    "\n",
    "    #sort the sample clonotypes by frequency in descending order\n",
    "    df_temp = df_temp.sort_values(by='freq', ascending=False)\n",
    "\n",
    "    #create a column to store the order\n",
    "    df_temp['clonotype_number'] = np.arange(df_temp.shape[0])+1\n",
    "\n",
    "    #compute and store the cumulative sum of the frequencies\n",
    "    df_temp['accum_freq'] = df_temp['freq'].cumsum()\n",
    "\n",
    "    #filter out accumulated frequencies smaller than 10% (10% can be adjusted by the user)\n",
    "    df_temp = df_temp.loc[(df_temp['accum_freq']>=0) & (df_temp['accum_freq']<=0.1)]\n",
    "\n",
    "    #select the smallest accumulated frequency record and stores in the result dataframe\n",
    "    df_temp = df_temp.sort_values(by='accum_freq', ascending=False)\n",
    "    df_temp = df_temp.head(1)  \n",
    "    df_clonality_portion = pd.concat([df_clonality_portion, df_temp],sort=True)\n",
    "\n",
    "    #show the results \n",
    "    df_clonality_portion = df_clonality_portion[['sample','hospitalization','clonotype_number']]\n",
    "\n",
    "df_clonality_portion.columns = ['sample', 'hospitalization', 'clonality_portion']\n",
    "df_clonality_portion"
   ]
  },
  {
   "cell_type": "markdown",
   "metadata": {
    "id": "wrDdJWgICQcs"
   },
   "source": [
    "Clonality analysis 4.2 - Statistical analysis of clonality portion"
   ]
  },
  {
   "cell_type": "markdown",
   "metadata": {
    "id": "sa94IxBECefK"
   },
   "source": [
    "Clonality analysis 4.2.1 - Test if the clonality portion is normally distributed\n",
    "1.   the null hypothesis here is normality\n",
    "2.   if the p value is greater than 0.05, we cannot reject the null hypothesis (it is a normal distribution). If the p value is smaller than 0.05, we reject the null hypothesis (it is not a normal distribution)"
   ]
  },
  {
   "cell_type": "code",
   "execution_count": null,
   "metadata": {
    "colab": {
     "base_uri": "https://localhost:8080/"
    },
    "executionInfo": {
     "elapsed": 838,
     "status": "ok",
     "timestamp": 1611944607465,
     "user": {
      "displayName": "Kerui Peng",
      "photoUrl": "https://lh3.googleusercontent.com/a-/AOh14GhCFbNNQavDfyVFYGThBoWptUPcEdIkBKjW1JK6=s64",
      "userId": "00454648627764987552"
     },
     "user_tz": 480
    },
    "id": "bos6rVb9CobD",
    "outputId": "56d506b8-4f0f-44bb-daec-cdc4fd7aed41"
   },
   "outputs": [],
   "source": [
    "x = stats.normaltest(df_clonality_portion['clonality_portion'])\n",
    "x"
   ]
  },
  {
   "cell_type": "markdown",
   "metadata": {
    "id": "bJXgJCd4Br6t"
   },
   "source": [
    "Clonality analysis 4.2.2 - Mean or median of clonality portion among groups\n",
    "1.   if the dataset is normally distributed, calculate mean\n",
    "2.   if the dataset is not normally distributed, calculate median"
   ]
  },
  {
   "cell_type": "code",
   "execution_count": null,
   "metadata": {
    "id": "Pkn8Cu9DAbO2"
   },
   "outputs": [],
   "source": [
    "#calculate the mean among two groups\n",
    "df_clonality_portion_mean = df_clonality_portion.groupby('hospitalization')['clonality_portion'].mean().reset_index()\n",
    "df_clonality_portion_mean"
   ]
  },
  {
   "cell_type": "code",
   "execution_count": null,
   "metadata": {
    "colab": {
     "base_uri": "https://localhost:8080/",
     "height": 111
    },
    "executionInfo": {
     "elapsed": 695,
     "status": "ok",
     "timestamp": 1611944618884,
     "user": {
      "displayName": "Kerui Peng",
      "photoUrl": "https://lh3.googleusercontent.com/a-/AOh14GhCFbNNQavDfyVFYGThBoWptUPcEdIkBKjW1JK6=s64",
      "userId": "00454648627764987552"
     },
     "user_tz": 480
    },
    "id": "7S8YzuCImxEE",
    "outputId": "441535b0-9aec-42fe-b161-9aa14d58e2a3"
   },
   "outputs": [],
   "source": [
    "#calculate the median among two groups\n",
    "df_clonality_portion_mean = df_clonality_portion.groupby('hospitalization')['clonality_portion'].median().reset_index()\n",
    "df_clonality_portion_mean"
   ]
  },
  {
   "cell_type": "markdown",
   "metadata": {
    "id": "EWj4PlPrDJ73"
   },
   "source": [
    "Clonality analysis 4.2.3 - Stat test\n",
    "1.   if the dataset is normally distributed, use t-test\n",
    "*   change the group1, group2 to the groups/samples that you are interested in\n",
    "2.   if the dataset is not normally distributed, use Wilcoxon rank-sum test (stats.ranksums)\n",
    "*   change the group1, group2 to the groups/samples that you are interested in"
   ]
  },
  {
   "cell_type": "code",
   "execution_count": null,
   "metadata": {
    "colab": {
     "base_uri": "https://localhost:8080/"
    },
    "executionInfo": {
     "elapsed": 943,
     "status": "ok",
     "timestamp": 1611944821964,
     "user": {
      "displayName": "Kerui Peng",
      "photoUrl": "https://lh3.googleusercontent.com/a-/AOh14GhCFbNNQavDfyVFYGThBoWptUPcEdIkBKjW1JK6=s64",
      "userId": "00454648627764987552"
     },
     "user_tz": 480
    },
    "id": "Vgs7xDZMDoHP",
    "outputId": "cfdea87b-c172-48e0-bfda-0142ae2e0c93"
   },
   "outputs": [],
   "source": [
    "df2 = df_clonality_portion.copy()\n",
    "df_group1 = df2[df2['hospitalization'] == True]\n",
    "df_group2 = df2[df2['hospitalization'] == False]\n",
    "stats.ranksums(df_group1['clonality_portion'], df_group2['clonality_portion'])"
   ]
  },
  {
   "cell_type": "markdown",
   "metadata": {
    "id": "yBQ7wTuLEooA"
   },
   "source": [
    "Clonality analysis 4.3 - clonality portion plot per sample\n",
    "1.   x-axis and y-axis labels, figsize, fontsize are customizable"
   ]
  },
  {
   "cell_type": "code",
   "execution_count": null,
   "metadata": {
    "colab": {
     "base_uri": "https://localhost:8080/",
     "height": 731
    },
    "executionInfo": {
     "elapsed": 1924,
     "status": "ok",
     "timestamp": 1611944834439,
     "user": {
      "displayName": "Kerui Peng",
      "photoUrl": "https://lh3.googleusercontent.com/a-/AOh14GhCFbNNQavDfyVFYGThBoWptUPcEdIkBKjW1JK6=s64",
      "userId": "00454648627764987552"
     },
     "user_tz": 480
    },
    "id": "Bj6YHsHhEyk4",
    "outputId": "5f9bf172-babc-482d-e195-0542041bc8b8"
   },
   "outputs": [],
   "source": [
    "ax = plt.subplots(figsize = (10,10))\n",
    "ax = sns.barplot(data=df_clonality_portion,x='sample',y='clonality_portion',hue='hospitalization')\n",
    "ax.set_xlabel('sample',fontsize=20)\n",
    "ax.set_ylabel('number of clonotypes',fontsize=20)\n",
    "plt.xticks(fontsize=10, rotation=90)\n",
    "plt.yticks(fontsize=20)"
   ]
  },
  {
   "cell_type": "markdown",
   "metadata": {
    "id": "5b-ifO94LwEF"
   },
   "source": [
    "Clonality analysis 4.4 -  clonality portion violin plot per group\n",
    "1.   x-axis and y-axis labels, figsize, fontsize are customizable\n",
    "2.   change the violin plot (sns.violinplot) to the plot type that you are interested in, includes strip plot (sns.stripplot), swarm plot (sns.swarmplot), box plot (sns.boxplot), boxen plot (sns.boxenplot), point plot (sns.pointplot), and bar plot (sns.barplot)"
   ]
  },
  {
   "cell_type": "code",
   "execution_count": null,
   "metadata": {
    "colab": {
     "base_uri": "https://localhost:8080/",
     "height": 624
    },
    "executionInfo": {
     "elapsed": 848,
     "status": "ok",
     "timestamp": 1611945272117,
     "user": {
      "displayName": "Kerui Peng",
      "photoUrl": "https://lh3.googleusercontent.com/a-/AOh14GhCFbNNQavDfyVFYGThBoWptUPcEdIkBKjW1JK6=s64",
      "userId": "00454648627764987552"
     },
     "user_tz": 480
    },
    "id": "m_LgyF-hLu3q",
    "outputId": "bceaf535-cc0c-4c8c-c88a-0dc4c56e4cf5"
   },
   "outputs": [],
   "source": [
    "ax = plt.subplots(figsize = (10,10))\n",
    "\n",
    "ax = sns.violinplot(x='hospitalization',y='clonality_portion', data=df_clonality_portion)\n",
    "\n",
    "ax.set_xlabel('hospitalization',fontsize=20)\n",
    "ax.set_ylabel('number of clonotypes',fontsize=20)\n",
    "plt.xticks(fontsize=20)\n",
    "plt.yticks(fontsize=20)\n",
    "\n",
    "plt.show()"
   ]
  },
  {
   "cell_type": "markdown",
   "metadata": {
    "id": "2AjSXCCfUuO2"
   },
   "source": [
    "Clonality analysis 5 - Relative abundance (in all clonotypes)"
   ]
  },
  {
   "cell_type": "code",
   "execution_count": null,
   "metadata": {
    "colab": {
     "base_uri": "https://localhost:8080/",
     "height": 521
    },
    "executionInfo": {
     "elapsed": 324186,
     "status": "ok",
     "timestamp": 1611946107927,
     "user": {
      "displayName": "Kerui Peng",
      "photoUrl": "https://lh3.googleusercontent.com/a-/AOh14GhCFbNNQavDfyVFYGThBoWptUPcEdIkBKjW1JK6=s64",
      "userId": "00454648627764987552"
     },
     "user_tz": 480
    },
    "id": "gAK7Qw8pXc7V",
    "outputId": "b1f29d52-bbb3-4244-966c-67553841fccf"
   },
   "outputs": [],
   "source": [
    "#define clonotype groups based on frequency\n",
    "def clonotype_group (row):\n",
    "    if row['freq'] > 0.01 and row['freq'] <= 1:\n",
    "        return 'Hyperexpanded'\n",
    "    if row['freq'] > 0.001 and row['freq'] <= 0.01: \n",
    "        return 'Large'\n",
    "    if row['freq'] > 0.0001 and row['freq'] <= 0.001:\n",
    "        return 'Medium'\n",
    "    if row['freq'] > 0.00001 and row['freq'] <= 0.0001:\n",
    "        return 'Small'\n",
    "    if row['freq'] > 0 and row['freq'] <= 0.00001:\n",
    "        return 'Rare'\n",
    "\n",
    "#apply the clonotype_group function to the dataframe\n",
    "df['clonotype_group'] = df.apply (lambda row: clonotype_group(row),axis=1)\n",
    "\n",
    "#calculate the relative abundance in each sample based on clonotype groups\n",
    "df_relative_abundance= df.groupby(['sample','hospitalization','clonotype_group']).agg({'freq':'sum'}).reset_index().rename(columns={'':\"relative_abundance\"})\n",
    "df_relative_abundance"
   ]
  },
  {
   "cell_type": "code",
   "execution_count": null,
   "metadata": {
    "colab": {
     "base_uri": "https://localhost:8080/",
     "height": 790
    },
    "executionInfo": {
     "elapsed": 2135,
     "status": "ok",
     "timestamp": 1611947036031,
     "user": {
      "displayName": "Kerui Peng",
      "photoUrl": "https://lh3.googleusercontent.com/a-/AOh14GhCFbNNQavDfyVFYGThBoWptUPcEdIkBKjW1JK6=s64",
      "userId": "00454648627764987552"
     },
     "user_tz": 480
    },
    "id": "We2NptPyants",
    "outputId": "2828efff-40c3-4ee9-e14a-b089f024ad3f"
   },
   "outputs": [],
   "source": [
    "label_order = ['Hyperexpanded', 'Large', 'Medium', 'Small', 'Rare']\n",
    "\n",
    "ax = df_relative_abundance.groupby(['sample','clonotype_group'])['freq'].sum().unstack()[label_order].plot(kind='bar', stacked=True)\n",
    "ax.set_xlabel('sample',fontsize=20)\n",
    "ax.set_ylabel('clonotype frequency',fontsize=20)\n",
    "plt.xticks(fontsize=20)\n",
    "plt.yticks(fontsize=20)\n",
    "plt.gcf().set_size_inches(20, 10)"
   ]
  },
  {
   "cell_type": "markdown",
   "metadata": {
    "id": "VLIaxAgkdlsq"
   },
   "source": [
    "Clonality analysis 6 - Relative abundance in top clonotypes\n",
    "1.   the top clonotypes are defined as top 100 clonotypes in the analysis below"
   ]
  },
  {
   "cell_type": "code",
   "execution_count": null,
   "metadata": {
    "colab": {
     "base_uri": "https://localhost:8080/",
     "height": 419
    },
    "executionInfo": {
     "elapsed": 6721,
     "status": "ok",
     "timestamp": 1611947068775,
     "user": {
      "displayName": "Kerui Peng",
      "photoUrl": "https://lh3.googleusercontent.com/a-/AOh14GhCFbNNQavDfyVFYGThBoWptUPcEdIkBKjW1JK6=s64",
      "userId": "00454648627764987552"
     },
     "user_tz": 480
    },
    "id": "h51IdG8e2mLx",
    "outputId": "2440f56f-e41b-44b9-b010-3f02f044d1a3"
   },
   "outputs": [],
   "source": [
    "#define groups based on clone counts \n",
    "def reads_group_top (row):\n",
    "    if row['#count'] > 1 and row['#count'] <= 10:\n",
    "        return '1-10'\n",
    "    if row['#count'] >= 11 and row['#count'] <= 100:\n",
    "        return '11-100'\n",
    "    if row['#count'] >= 101 and row['#count'] <= 1000:\n",
    "        return '101-1000'\n",
    "    if row['#count'] >= 1001 and row['#count'] <= 5000:\n",
    "        return '1001-5000'\n",
    "\n",
    "#get the top 100 clonotypes in each sample\n",
    "df_top=df.sort_values(['sample', 'freq'], axis=0).groupby('sample').tail(100)\n",
    "\n",
    "#apply the function to the dataframe\n",
    "df_top['reads_group'] = df_top.apply (lambda row: reads_group_top(row),axis=1)\n",
    "\n",
    "#show the result\n",
    "df_top_result = df_top[['sample','hospitalization','reads_group']]\n",
    "df_top_result"
   ]
  },
  {
   "cell_type": "code",
   "execution_count": null,
   "metadata": {
    "colab": {
     "base_uri": "https://localhost:8080/",
     "height": 790
    },
    "executionInfo": {
     "elapsed": 2005,
     "status": "ok",
     "timestamp": 1611947094191,
     "user": {
      "displayName": "Kerui Peng",
      "photoUrl": "https://lh3.googleusercontent.com/a-/AOh14GhCFbNNQavDfyVFYGThBoWptUPcEdIkBKjW1JK6=s64",
      "userId": "00454648627764987552"
     },
     "user_tz": 480
    },
    "id": "seSij3CNh3eF",
    "outputId": "98a3e4e6-dca1-4abe-a3e4-0f8cf5ef5815"
   },
   "outputs": [],
   "source": [
    "ax = df_top.groupby(['sample', 'reads_group'])['#count'].count().unstack().plot(kind='bar', stacked=True)\n",
    "ax.set_xlabel('sample',fontsize=20)\n",
    "ax.set_ylabel('number of clonotypes',fontsize=20)\n",
    "plt.xticks(fontsize=20)\n",
    "plt.yticks(fontsize=20)\n",
    "plt.gcf().set_size_inches(20, 10)"
   ]
  },
  {
   "cell_type": "markdown",
   "metadata": {
    "id": "a2-EBJc3jOBS"
   },
   "source": [
    "Clonality analysis 7 - Relative abundance in rare clonotypes\n",
    "1.   the rare clonotypes are defined as rare 100 clonotypes in the analysis below"
   ]
  },
  {
   "cell_type": "code",
   "execution_count": null,
   "metadata": {
    "colab": {
     "base_uri": "https://localhost:8080/",
     "height": 419
    },
    "executionInfo": {
     "elapsed": 4980,
     "status": "ok",
     "timestamp": 1611947108797,
     "user": {
      "displayName": "Kerui Peng",
      "photoUrl": "https://lh3.googleusercontent.com/a-/AOh14GhCFbNNQavDfyVFYGThBoWptUPcEdIkBKjW1JK6=s64",
      "userId": "00454648627764987552"
     },
     "user_tz": 480
    },
    "id": "koppzDO5jkEQ",
    "outputId": "49332233-c989-4905-d13c-7d3f00956ccf"
   },
   "outputs": [],
   "source": [
    "#define groups based on clone counts \n",
    "def reads_group_rare (row):\n",
    "    if row['#count'] == 1 :\n",
    "        return '1'\n",
    "    if row['#count'] >= 2 and row['#count'] <= 3:\n",
    "        return '2-3'\n",
    "    if row['#count'] >= 4 and row['#count'] <= 10:\n",
    "        return '4-10'\n",
    "    if row['#count'] >= 11 and row['#count'] <= 30:\n",
    "        return '11-30'\n",
    "    if row['#count'] >= 31 and row['#count'] <= 100:\n",
    "        return '31-100'  \n",
    "    if row['#count'] >= 101 and row['#count'] <= 200:\n",
    "        return '101-200'\n",
    "\n",
    "#get the rare 100 clonotypes\n",
    "df_rare=df.sort_values(['sample', 'freq'], axis=0).groupby('sample').head(100)\n",
    "\n",
    "#apply the functions to the dataframe\n",
    "df_rare['reads_group'] = df_rare.apply (lambda row: reads_group_rare(row),axis=1)\n",
    "\n",
    "#show the result\n",
    "df_rare_result = df_rare[['sample','hospitalization','reads_group']]\n",
    "df_rare_result"
   ]
  },
  {
   "cell_type": "code",
   "execution_count": null,
   "metadata": {
    "colab": {
     "base_uri": "https://localhost:8080/",
     "height": 790
    },
    "executionInfo": {
     "elapsed": 1418,
     "status": "ok",
     "timestamp": 1611947116911,
     "user": {
      "displayName": "Kerui Peng",
      "photoUrl": "https://lh3.googleusercontent.com/a-/AOh14GhCFbNNQavDfyVFYGThBoWptUPcEdIkBKjW1JK6=s64",
      "userId": "00454648627764987552"
     },
     "user_tz": 480
    },
    "id": "01TJB9QekW6S",
    "outputId": "353c0c6a-4d28-40f6-cb76-1186dca2b039"
   },
   "outputs": [],
   "source": [
    "ax = df_rare.groupby(['sample', 'reads_group'])['#count'].count().unstack().plot(kind='bar', stacked=True)\n",
    "ax.set_xlabel('sample',fontsize=20)\n",
    "ax.set_ylabel('number of clonotypes',fontsize=20)\n",
    "plt.xticks(fontsize=20)\n",
    "plt.yticks(fontsize=20)\n",
    "plt.gcf().set_size_inches(20, 10)"
   ]
  }
 ],
 "metadata": {
  "accelerator": "GPU",
  "colab": {
   "collapsed_sections": [],
   "name": "Clonality analysis_COVID.ipynb",
   "provenance": []
  },
  "kernelspec": {
   "display_name": "Python 3",
   "language": "python",
   "name": "python3"
  },
  "language_info": {
   "codemirror_mode": {
    "name": "ipython",
    "version": 3
   },
   "file_extension": ".py",
   "mimetype": "text/x-python",
   "name": "python",
   "nbconvert_exporter": "python",
   "pygments_lexer": "ipython3",
   "version": "3.9.7"
  }
 },
 "nbformat": 4,
 "nbformat_minor": 1
}

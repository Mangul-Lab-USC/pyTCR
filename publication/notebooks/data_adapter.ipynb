{
 "cells": [
  {
   "cell_type": "markdown",
   "metadata": {
    "id": "42PQI9B2tGfH"
   },
   "source": [
    "Step 1 - Import python libraries"
   ]
  },
  {
   "cell_type": "code",
   "execution_count": 1,
   "metadata": {
    "colab": {
     "base_uri": "https://localhost:8080/"
    },
    "executionInfo": {
     "elapsed": 9587,
     "status": "ok",
     "timestamp": 1662489849258,
     "user": {
      "displayName": "Kerui Peng",
      "userId": "00454648627764987552"
     },
     "user_tz": 420
    },
    "id": "QLXhIQ5GsS70",
    "outputId": "c0bee672-a8ff-447f-c184-12413c271178"
   },
   "outputs": [],
   "source": [
    "import pandas as pd\n",
    "import glob \n",
    "import os "
   ]
  },
  {
   "cell_type": "markdown",
   "metadata": {
    "id": "CUijt_RQ87xY"
   },
   "source": [
    "Step 2 - Load and read your data file (Note that you will need to run step 2 and step 3 for all the sample files in order to convert them to pyTCR standardized format)"
   ]
  },
  {
   "cell_type": "code",
   "execution_count": 2,
   "metadata": {
    "colab": {
     "base_uri": "https://localhost:8080/",
     "height": 240
    },
    "executionInfo": {
     "elapsed": 307,
     "status": "error",
     "timestamp": 1662506771355,
     "user": {
      "displayName": "Mohammad Vahed",
      "userId": "04441662572987258953"
     },
     "user_tz": 420
    },
    "id": "io1o7l_kBS5v",
    "outputId": "a4433fbb-114a-42c8-c64a-683dd21b9fc9"
   },
   "outputs": [
    {
     "data": {
      "text/html": [
       "<div>\n",
       "<style scoped>\n",
       "    .dataframe tbody tr th:only-of-type {\n",
       "        vertical-align: middle;\n",
       "    }\n",
       "\n",
       "    .dataframe tbody tr th {\n",
       "        vertical-align: top;\n",
       "    }\n",
       "\n",
       "    .dataframe thead th {\n",
       "        text-align: right;\n",
       "    }\n",
       "</style>\n",
       "<table border=\"1\" class=\"dataframe\">\n",
       "  <thead>\n",
       "    <tr style=\"text-align: right;\">\n",
       "      <th></th>\n",
       "      <th>sample_name</th>\n",
       "      <th>frequency</th>\n",
       "      <th>templates</th>\n",
       "      <th>amino_acid</th>\n",
       "      <th>rearrangement</th>\n",
       "      <th>v_resolved</th>\n",
       "      <th>d_resolved</th>\n",
       "      <th>j_resolved</th>\n",
       "      <th>hospitalized</th>\n",
       "    </tr>\n",
       "  </thead>\n",
       "  <tbody>\n",
       "    <tr>\n",
       "      <th>0</th>\n",
       "      <td>989003BW_TCRB</td>\n",
       "      <td>0.006787</td>\n",
       "      <td>3907</td>\n",
       "      <td>CASSLDRETVYGYTF</td>\n",
       "      <td>AACGCCTTGGAGCTGGACGACTCGGCCCTGTATCTCTGTGCCAGCA...</td>\n",
       "      <td>TCRBV05-04*01</td>\n",
       "      <td>TCRBD02-01*02</td>\n",
       "      <td>TCRBJ01-02*01</td>\n",
       "      <td>True</td>\n",
       "    </tr>\n",
       "    <tr>\n",
       "      <th>1</th>\n",
       "      <td>989003BW_TCRB</td>\n",
       "      <td>0.006403</td>\n",
       "      <td>3686</td>\n",
       "      <td>CASSLTSGSLNEQFF</td>\n",
       "      <td>ACATCGGCCCAAAAGAACCCGACAGCTTTCTATCTCTGTGCCAGTA...</td>\n",
       "      <td>TCRBV19-01*01</td>\n",
       "      <td>TCRBD02-01</td>\n",
       "      <td>TCRBJ02-01*01</td>\n",
       "      <td>True</td>\n",
       "    </tr>\n",
       "    <tr>\n",
       "      <th>2</th>\n",
       "      <td>989003BW_TCRB</td>\n",
       "      <td>0.002458</td>\n",
       "      <td>1415</td>\n",
       "      <td>CASSQGYEQYF</td>\n",
       "      <td>AATCTTCACATCAATTCCCTGGAGCTTGGTGACTCTGCTGTGTATT...</td>\n",
       "      <td>TCRBV03-01/03-02*01</td>\n",
       "      <td>unknown</td>\n",
       "      <td>TCRBJ02-07*01</td>\n",
       "      <td>True</td>\n",
       "    </tr>\n",
       "    <tr>\n",
       "      <th>3</th>\n",
       "      <td>989003BW_TCRB</td>\n",
       "      <td>0.002060</td>\n",
       "      <td>1186</td>\n",
       "      <td>CSASDLGGRLDTQYF</td>\n",
       "      <td>ACCAGTGCCCATCCTGAAGACAGCAGCTTCTACATCTGCAGTGCTA...</td>\n",
       "      <td>TCRBV20-01*04</td>\n",
       "      <td>TCRBD02-01*02</td>\n",
       "      <td>TCRBJ02-03*01</td>\n",
       "      <td>True</td>\n",
       "    </tr>\n",
       "    <tr>\n",
       "      <th>4</th>\n",
       "      <td>989003BW_TCRB</td>\n",
       "      <td>0.001801</td>\n",
       "      <td>1037</td>\n",
       "      <td>CASSLVAGGFEQYF</td>\n",
       "      <td>GTGACATCGGCCCAAAAGAACCCGACAGCTTTCTATCTCTGTGCCA...</td>\n",
       "      <td>TCRBV19-01*01</td>\n",
       "      <td>TCRBD02-01*02</td>\n",
       "      <td>TCRBJ02-07*01</td>\n",
       "      <td>True</td>\n",
       "    </tr>\n",
       "  </tbody>\n",
       "</table>\n",
       "</div>"
      ],
      "text/plain": [
       "     sample_name  frequency  templates       amino_acid  \\\n",
       "0  989003BW_TCRB   0.006787       3907  CASSLDRETVYGYTF   \n",
       "1  989003BW_TCRB   0.006403       3686  CASSLTSGSLNEQFF   \n",
       "2  989003BW_TCRB   0.002458       1415      CASSQGYEQYF   \n",
       "3  989003BW_TCRB   0.002060       1186  CSASDLGGRLDTQYF   \n",
       "4  989003BW_TCRB   0.001801       1037   CASSLVAGGFEQYF   \n",
       "\n",
       "                                       rearrangement           v_resolved  \\\n",
       "0  AACGCCTTGGAGCTGGACGACTCGGCCCTGTATCTCTGTGCCAGCA...        TCRBV05-04*01   \n",
       "1  ACATCGGCCCAAAAGAACCCGACAGCTTTCTATCTCTGTGCCAGTA...        TCRBV19-01*01   \n",
       "2  AATCTTCACATCAATTCCCTGGAGCTTGGTGACTCTGCTGTGTATT...  TCRBV03-01/03-02*01   \n",
       "3  ACCAGTGCCCATCCTGAAGACAGCAGCTTCTACATCTGCAGTGCTA...        TCRBV20-01*04   \n",
       "4  GTGACATCGGCCCAAAAGAACCCGACAGCTTTCTATCTCTGTGCCA...        TCRBV19-01*01   \n",
       "\n",
       "      d_resolved     j_resolved  hospitalized  \n",
       "0  TCRBD02-01*02  TCRBJ01-02*01          True  \n",
       "1     TCRBD02-01  TCRBJ02-01*01          True  \n",
       "2        unknown  TCRBJ02-07*01          True  \n",
       "3  TCRBD02-01*02  TCRBJ02-03*01          True  \n",
       "4  TCRBD02-01*02  TCRBJ02-07*01          True  "
      ]
     },
     "execution_count": 2,
     "metadata": {},
     "output_type": "execute_result"
    }
   ],
   "source": [
    "# Specify the path to your file in Google Drive or locally\n",
    "filePath = \"../data/samples/989003BW_TCRB.tsv\"\n",
    "\n",
    "targetFilename = os.path.basename(filePath)\n",
    "\n",
    "df_samples = pd.read_table(filePath, low_memory=False, engine=\"c\")\n",
    "\n",
    "df_samples.head()"
   ]
  },
  {
   "cell_type": "markdown",
   "metadata": {
    "id": "fztvA25L5clX"
   },
   "source": [
    "Step 3 - Convert data to the pyTCR standardized format:\n",
    "| column | name | description                                    |\n",
    "|--:|:---------|:------------------------------------------------|\n",
    "| 1   | `sample`  | The name of the sample                       |\n",
    "| 2   | `freq`    | The share of clonotypes in the sample        |\n",
    "| 3   | `#count`  | The number of reads                          |\n",
    "| 4   | `cdr3aa`  | CDR3 amino acid clonotype                    |\n",
    "| 5   | `cdr3nt`  | CDR3 nucleotide                              |\n",
    "| 6   | `v`       | V gene                                       |\n",
    "| 7   | `d`       | D gene                                       |\n",
    "| 8   | `j`       | J gene                                       |\n",
    "| ... | optional fields | any other fields intended for your use |\n",
    "\n",
    "- Modify the `required_columns` below to match the column names from your data that are equivalent to pyTCR's columns in the same order as described above\n",
    "- The following code will create a new `.csv` file with with the correct pyTCR column names and place it in the current directory"
   ]
  },
  {
   "cell_type": "code",
   "execution_count": 3,
   "metadata": {
    "id": "_7NFFVRr5clY"
   },
   "outputs": [],
   "source": [
    "# Enter the column names from your data that represent the required pyTCR columns\n",
    "required_columns = [\n",
    "'sample_name','frequency', 'templates',\n",
    "'amino_acid', 'rearrangement', 'v_resolved' , 'd_resolved', 'j_resolved'\n",
    "]\n",
    "\n",
    "optional_columns = ['hospitalized']\n",
    "\n",
    "df_new = df_samples.filter(required_columns + optional_columns)\n",
    "\n",
    "# Rename the columns to pyTCR standard names\n",
    "df_new.columns = [\n",
    "'sample','freq', '#count', 'cdr3aa',\n",
    "'cdr3nt', 'v', 'd', 'j'] + optional_columns\n",
    "\n",
    "df_new.to_csv(f'./{targetFilename}.csv', na_rep='.', index=False)"
   ]
  },
  {
   "cell_type": "markdown",
   "metadata": {
    "id": "URKl5bviCTvh"
   },
   "source": [
    "Step 4 - Combine all sample files"
   ]
  },
  {
   "cell_type": "markdown",
   "metadata": {
    "id": "T_lkFgQtOwHO"
   },
   "source": [
    "Add a new column `sample` to each `.csv` file in the current directory with the filename as the value\n",
    "- This is useful for converting data in other formats that do not contain a column with a sample name"
   ]
  },
  {
   "cell_type": "code",
   "execution_count": 4,
   "metadata": {
    "colab": {
     "base_uri": "https://localhost:8080/",
     "height": 499
    },
    "executionInfo": {
     "elapsed": 391,
     "status": "ok",
     "timestamp": 1662490281766,
     "user": {
      "displayName": "Kerui Peng",
      "userId": "00454648627764987552"
     },
     "user_tz": 420
    },
    "id": "kW4YHLxNOveK",
    "outputId": "bfc3222b-555b-4945-c7d5-ed38349c6d5f"
   },
   "outputs": [
    {
     "data": {
      "text/html": [
       "<div>\n",
       "<style scoped>\n",
       "    .dataframe tbody tr th:only-of-type {\n",
       "        vertical-align: middle;\n",
       "    }\n",
       "\n",
       "    .dataframe tbody tr th {\n",
       "        vertical-align: top;\n",
       "    }\n",
       "\n",
       "    .dataframe thead th {\n",
       "        text-align: right;\n",
       "    }\n",
       "</style>\n",
       "<table border=\"1\" class=\"dataframe\">\n",
       "  <thead>\n",
       "    <tr style=\"text-align: right;\">\n",
       "      <th></th>\n",
       "      <th>freq</th>\n",
       "      <th>#count</th>\n",
       "      <th>cdr3aa</th>\n",
       "      <th>cdr3nt</th>\n",
       "      <th>v</th>\n",
       "      <th>d</th>\n",
       "      <th>j</th>\n",
       "      <th>hospitalized</th>\n",
       "    </tr>\n",
       "    <tr>\n",
       "      <th>sample</th>\n",
       "      <th></th>\n",
       "      <th></th>\n",
       "      <th></th>\n",
       "      <th></th>\n",
       "      <th></th>\n",
       "      <th></th>\n",
       "      <th></th>\n",
       "      <th></th>\n",
       "    </tr>\n",
       "  </thead>\n",
       "  <tbody>\n",
       "    <tr>\n",
       "      <th>989003BW_TCRB</th>\n",
       "      <td>0.006787</td>\n",
       "      <td>3907</td>\n",
       "      <td>CASSLDRETVYGYTF</td>\n",
       "      <td>AACGCCTTGGAGCTGGACGACTCGGCCCTGTATCTCTGTGCCAGCA...</td>\n",
       "      <td>TCRBV05-04*01</td>\n",
       "      <td>TCRBD02-01*02</td>\n",
       "      <td>TCRBJ01-02*01</td>\n",
       "      <td>True</td>\n",
       "    </tr>\n",
       "    <tr>\n",
       "      <th>989003BW_TCRB</th>\n",
       "      <td>0.006403</td>\n",
       "      <td>3686</td>\n",
       "      <td>CASSLTSGSLNEQFF</td>\n",
       "      <td>ACATCGGCCCAAAAGAACCCGACAGCTTTCTATCTCTGTGCCAGTA...</td>\n",
       "      <td>TCRBV19-01*01</td>\n",
       "      <td>TCRBD02-01</td>\n",
       "      <td>TCRBJ02-01*01</td>\n",
       "      <td>True</td>\n",
       "    </tr>\n",
       "    <tr>\n",
       "      <th>989003BW_TCRB</th>\n",
       "      <td>0.002458</td>\n",
       "      <td>1415</td>\n",
       "      <td>CASSQGYEQYF</td>\n",
       "      <td>AATCTTCACATCAATTCCCTGGAGCTTGGTGACTCTGCTGTGTATT...</td>\n",
       "      <td>TCRBV03-01/03-02*01</td>\n",
       "      <td>unknown</td>\n",
       "      <td>TCRBJ02-07*01</td>\n",
       "      <td>True</td>\n",
       "    </tr>\n",
       "    <tr>\n",
       "      <th>989003BW_TCRB</th>\n",
       "      <td>0.002060</td>\n",
       "      <td>1186</td>\n",
       "      <td>CSASDLGGRLDTQYF</td>\n",
       "      <td>ACCAGTGCCCATCCTGAAGACAGCAGCTTCTACATCTGCAGTGCTA...</td>\n",
       "      <td>TCRBV20-01*04</td>\n",
       "      <td>TCRBD02-01*02</td>\n",
       "      <td>TCRBJ02-03*01</td>\n",
       "      <td>True</td>\n",
       "    </tr>\n",
       "    <tr>\n",
       "      <th>989003BW_TCRB</th>\n",
       "      <td>0.001801</td>\n",
       "      <td>1037</td>\n",
       "      <td>CASSLVAGGFEQYF</td>\n",
       "      <td>GTGACATCGGCCCAAAAGAACCCGACAGCTTTCTATCTCTGTGCCA...</td>\n",
       "      <td>TCRBV19-01*01</td>\n",
       "      <td>TCRBD02-01*02</td>\n",
       "      <td>TCRBJ02-07*01</td>\n",
       "      <td>True</td>\n",
       "    </tr>\n",
       "    <tr>\n",
       "      <th>...</th>\n",
       "      <td>...</td>\n",
       "      <td>...</td>\n",
       "      <td>...</td>\n",
       "      <td>...</td>\n",
       "      <td>...</td>\n",
       "      <td>...</td>\n",
       "      <td>...</td>\n",
       "      <td>...</td>\n",
       "    </tr>\n",
       "    <tr>\n",
       "      <th>989003BW_TCRB</th>\n",
       "      <td>0.000002</td>\n",
       "      <td>1</td>\n",
       "      <td>CASSPVGSYQPQHF</td>\n",
       "      <td>ATCCAGCCCTCAGAACCCAGGGACTCAGCTGTGTACTTCTGTGCCA...</td>\n",
       "      <td>TCRBV12</td>\n",
       "      <td>unknown</td>\n",
       "      <td>TCRBJ01-05*01</td>\n",
       "      <td>True</td>\n",
       "    </tr>\n",
       "    <tr>\n",
       "      <th>989003BW_TCRB</th>\n",
       "      <td>0.000002</td>\n",
       "      <td>1</td>\n",
       "      <td>CASSETQGARGKLFF</td>\n",
       "      <td>CAGCCCTCAGAACCCAGGGACTCAGCTGTGTACTTCTGTGCCAGCA...</td>\n",
       "      <td>TCRBV12</td>\n",
       "      <td>TCRBD01-01*01</td>\n",
       "      <td>TCRBJ01-04*01</td>\n",
       "      <td>True</td>\n",
       "    </tr>\n",
       "    <tr>\n",
       "      <th>989003BW_TCRB</th>\n",
       "      <td>0.000002</td>\n",
       "      <td>1</td>\n",
       "      <td>CSVGDRVVGYTF</td>\n",
       "      <td>CTGACTGTGAGCAACATGAGCCCTGAAGACAGCAGCATATATCTCT...</td>\n",
       "      <td>TCRBV29-01</td>\n",
       "      <td>TCRBD01-01*01</td>\n",
       "      <td>TCRBJ01-02*01</td>\n",
       "      <td>True</td>\n",
       "    </tr>\n",
       "    <tr>\n",
       "      <th>989003BW_TCRB</th>\n",
       "      <td>0.000002</td>\n",
       "      <td>1</td>\n",
       "      <td>CASTTEGRVYYGCTF</td>\n",
       "      <td>AACGCCTTGTTGCTGGGGGACTCGGCCCTGTATCTCTGTGCCAGCA...</td>\n",
       "      <td>TCRBV05-05*01</td>\n",
       "      <td>unknown</td>\n",
       "      <td>TCRBJ01-02*01</td>\n",
       "      <td>True</td>\n",
       "    </tr>\n",
       "    <tr>\n",
       "      <th>989003BW_TCRB</th>\n",
       "      <td>0.000002</td>\n",
       "      <td>1</td>\n",
       "      <td>CASSPAGSGANVLTF</td>\n",
       "      <td>CAGCCCTCAGAACCCAGGGACTCAGCTGTGTACTTCTGTGCCAGCA...</td>\n",
       "      <td>TCRBV12</td>\n",
       "      <td>TCRBD02-01</td>\n",
       "      <td>TCRBJ02-06*01</td>\n",
       "      <td>True</td>\n",
       "    </tr>\n",
       "  </tbody>\n",
       "</table>\n",
       "<p>328930 rows × 8 columns</p>\n",
       "</div>"
      ],
      "text/plain": [
       "                   freq  #count           cdr3aa  \\\n",
       "sample                                             \n",
       "989003BW_TCRB  0.006787    3907  CASSLDRETVYGYTF   \n",
       "989003BW_TCRB  0.006403    3686  CASSLTSGSLNEQFF   \n",
       "989003BW_TCRB  0.002458    1415      CASSQGYEQYF   \n",
       "989003BW_TCRB  0.002060    1186  CSASDLGGRLDTQYF   \n",
       "989003BW_TCRB  0.001801    1037   CASSLVAGGFEQYF   \n",
       "...                 ...     ...              ...   \n",
       "989003BW_TCRB  0.000002       1   CASSPVGSYQPQHF   \n",
       "989003BW_TCRB  0.000002       1  CASSETQGARGKLFF   \n",
       "989003BW_TCRB  0.000002       1     CSVGDRVVGYTF   \n",
       "989003BW_TCRB  0.000002       1  CASTTEGRVYYGCTF   \n",
       "989003BW_TCRB  0.000002       1  CASSPAGSGANVLTF   \n",
       "\n",
       "                                                          cdr3nt  \\\n",
       "sample                                                             \n",
       "989003BW_TCRB  AACGCCTTGGAGCTGGACGACTCGGCCCTGTATCTCTGTGCCAGCA...   \n",
       "989003BW_TCRB  ACATCGGCCCAAAAGAACCCGACAGCTTTCTATCTCTGTGCCAGTA...   \n",
       "989003BW_TCRB  AATCTTCACATCAATTCCCTGGAGCTTGGTGACTCTGCTGTGTATT...   \n",
       "989003BW_TCRB  ACCAGTGCCCATCCTGAAGACAGCAGCTTCTACATCTGCAGTGCTA...   \n",
       "989003BW_TCRB  GTGACATCGGCCCAAAAGAACCCGACAGCTTTCTATCTCTGTGCCA...   \n",
       "...                                                          ...   \n",
       "989003BW_TCRB  ATCCAGCCCTCAGAACCCAGGGACTCAGCTGTGTACTTCTGTGCCA...   \n",
       "989003BW_TCRB  CAGCCCTCAGAACCCAGGGACTCAGCTGTGTACTTCTGTGCCAGCA...   \n",
       "989003BW_TCRB  CTGACTGTGAGCAACATGAGCCCTGAAGACAGCAGCATATATCTCT...   \n",
       "989003BW_TCRB  AACGCCTTGTTGCTGGGGGACTCGGCCCTGTATCTCTGTGCCAGCA...   \n",
       "989003BW_TCRB  CAGCCCTCAGAACCCAGGGACTCAGCTGTGTACTTCTGTGCCAGCA...   \n",
       "\n",
       "                                 v              d              j  hospitalized  \n",
       "sample                                                                          \n",
       "989003BW_TCRB        TCRBV05-04*01  TCRBD02-01*02  TCRBJ01-02*01          True  \n",
       "989003BW_TCRB        TCRBV19-01*01     TCRBD02-01  TCRBJ02-01*01          True  \n",
       "989003BW_TCRB  TCRBV03-01/03-02*01        unknown  TCRBJ02-07*01          True  \n",
       "989003BW_TCRB        TCRBV20-01*04  TCRBD02-01*02  TCRBJ02-03*01          True  \n",
       "989003BW_TCRB        TCRBV19-01*01  TCRBD02-01*02  TCRBJ02-07*01          True  \n",
       "...                            ...            ...            ...           ...  \n",
       "989003BW_TCRB              TCRBV12        unknown  TCRBJ01-05*01          True  \n",
       "989003BW_TCRB              TCRBV12  TCRBD01-01*01  TCRBJ01-04*01          True  \n",
       "989003BW_TCRB           TCRBV29-01  TCRBD01-01*01  TCRBJ01-02*01          True  \n",
       "989003BW_TCRB        TCRBV05-05*01        unknown  TCRBJ01-02*01          True  \n",
       "989003BW_TCRB              TCRBV12     TCRBD02-01  TCRBJ02-06*01          True  \n",
       "\n",
       "[328930 rows x 8 columns]"
      ]
     },
     "execution_count": 4,
     "metadata": {},
     "output_type": "execute_result"
    }
   ],
   "source": [
    "globbed_files = glob.glob(\"*.csv\")\n",
    "\n",
    "data = []\n",
    "\n",
    "for csv in globbed_files:\n",
    "    dataframe = pd.read_csv(csv)\n",
    "    dataframe['sample'] = os.path.basename(csv.split('.')[0])\n",
    "    data.append(dataframe)\n",
    "\n",
    "combined_data = pd.concat(data)\n",
    "combined_data.to_csv(\"combined_data.csv\", index=False)\n",
    "\n",
    "df=pd.read_csv(\"combined_data.csv\", index_col=[0])\n",
    "\n",
    "df"
   ]
  },
  {
   "cell_type": "markdown",
   "metadata": {
    "id": "9sYnceI15cla"
   },
   "source": [
    "Convert .csv file to .tsv file"
   ]
  },
  {
   "cell_type": "code",
   "execution_count": 5,
   "metadata": {
    "id": "j18JTi_E5clb"
   },
   "outputs": [],
   "source": [
    "targetFileExtension = 'tsv'\n",
    "\n",
    "df = pd.read_csv(\"combined_data.csv\", low_memory=False, engine=\"c\")\n",
    "\n",
    "file = \"combined_data.csv\".split('.')[0]\n",
    "\n",
    "newFile = f'{file}.{targetFileExtension}'\n",
    "\n",
    "# Save new file to current directory\n",
    "df.to_csv(newFile, sep='\\t', na_rep='.', index=False)"
   ]
  },
  {
   "cell_type": "code",
   "execution_count": null,
   "metadata": {},
   "outputs": [],
   "source": []
  }
 ],
 "metadata": {
  "colab": {
   "collapsed_sections": [],
   "provenance": [
    {
     "file_id": "1opfGgbw3YigAUVSlVlomAaErdD7htww2",
     "timestamp": 1662489735768
    }
   ]
  },
  "kernelspec": {
   "display_name": "Python 3 (ipykernel)",
   "language": "python",
   "name": "python3"
  },
  "language_info": {
   "codemirror_mode": {
    "name": "ipython",
    "version": 3
   },
   "file_extension": ".py",
   "mimetype": "text/x-python",
   "name": "python",
   "nbconvert_exporter": "python",
   "pygments_lexer": "ipython3",
   "version": "3.7.4"
  }
 },
 "nbformat": 4,
 "nbformat_minor": 1
}
